{
 "cells": [
  {
   "cell_type": "code",
   "execution_count": 12,
   "metadata": {},
   "outputs": [],
   "source": [
    "import pandas as pd\n",
    "from collections import defaultdict\n",
    "import pickle\n",
    "import matplotlib.pyplot as plt\n",
    "import numpy as np\n",
    "from sklearn import preprocessing\n",
    "import loompy\n",
    "import numpy_groupies as npg\n",
    "import cytograph\n",
    "import os\n",
    "import sys\n",
    "current_dir = os.getcwd()\n",
    "sys.path.append(current_dir)\n",
    "import scatterm as scatterm_mod\n",
    "\n",
    "import helper_utils as own_utils\n",
    "import mplt as mplot\n",
    "from scipy.spatial import distance\n",
    "\n",
    "from sklearn import preprocessing\n",
    "le = preprocessing.LabelEncoder()\n",
    "import numpy_groupies.aggregate_numpy as npg\n",
    "\n",
    "import re\n",
    "import scanpy\n",
    "import seaborn as sns\n",
    "\n",
    "from matplotlib import rcParams\n",
    "\n",
    "import matplotlib.pyplot as plt\n",
    "\n",
    "from scipy.sparse import coo_matrix\n",
    "\n",
    "plt.rcParams['svg.fonttype'] = 'none'\n",
    "plt.rcParams[\"font.size\"] = 7\n",
    "transparency = True\n",
    "ms=0.7\n",
    "labelspacing=0.3\n",
    "viridis_grey  = (245/256,245/256,245/256,1)#(239/256, 239/256, 240/256,1)\n",
    "\n",
    "ofolder = current_dir"
   ]
  },
  {
   "cell_type": "code",
   "execution_count": 18,
   "metadata": {},
   "outputs": [
    {
     "data": {
      "text/plain": [
       "'/Users/kalee/Library/CloudStorage/OneDrive-KI.SE/Mac/Documents/out/Kim/TH_neurons'"
      ]
     },
     "execution_count": 18,
     "metadata": {},
     "output_type": "execute_result"
    }
   ],
   "source": [
    "ofolder"
   ]
  },
  {
   "cell_type": "code",
   "execution_count": 3,
   "metadata": {},
   "outputs": [],
   "source": [
    "from typing import Optional, Any, List\n",
    "from matplotlib.lines import Line2D\n",
    "from matplotlib.collections import LineCollection\n",
    "import matplotlib.colors as mcolors\n",
    "import matplotlib.pyplot as plt\n",
    "import numpy as np\n",
    "from cytograph.plotting import Colorizer "
   ]
  },
  {
   "cell_type": "markdown",
   "metadata": {},
   "source": [
    "## plotting function"
   ]
  },
  {
   "cell_type": "code",
   "execution_count": 4,
   "metadata": {},
   "outputs": [],
   "source": [
    "from typing import Any\n",
    "\n",
    "import numpy as np\n",
    "from sklearn.preprocessing import LabelEncoder\n",
    "color_alphabet = np.array([\n",
    "\t[240, 163, 255], [0, 117, 220], [153, 63, 0], [76, 0, 92], [0, 92, 49], [43, 206, 72], [255, 204, 153], [128, 128, 128], [148, 255, 181], [143, 124, 0], [157, 204, 0], [194, 0, 136], [0, 51, 128], [255, 164, 5], [255, 168, 187], [66, 102, 0], [255, 0, 16], [94, 241, 242], [0, 153, 143], [224, 255, 102], [116, 10, 255], [153, 0, 0], [255, 255, 128], [255, 255, 0], [255, 80, 5]\n",
    "]) / 256\n",
    "\n",
    "colors75 = np.concatenate([color_alphabet, 1 - (1 - color_alphabet) / 2, color_alphabet / 2])\n",
    "\n",
    "\n",
    "def colorize(x: np.ndarray, *, bgval: Any = None) -> np.ndarray:\n",
    "\tle = LabelEncoder().fit(x)\n",
    "\txt = le.transform(x)\n",
    "\tcolors = colors75[np.mod(xt, 75), :]\n",
    "\tif bgval is not None:\n",
    "\t\tcolors[x == bgval, :] = np.array([0.8, 0.8, 0.8])\n",
    "\treturn colors"
   ]
  },
  {
   "cell_type": "code",
   "execution_count": 6,
   "metadata": {},
   "outputs": [],
   "source": [
    "DA = '/proj/human_adult/20220222/harmony/by_cluster/data/harmony_A_A_EEEE.loom'\n",
    "DA_agg = '/proj/human_adult/20220222/harmony/by_cluster/data/harmony_A_A_EEEE.agg.loom'\n",
    "\n",
    "pool = '/proj/user/kawai/DA/data/Pool_0.loom'\n",
    "pool_agg= '/proj/user/kawai/DA/data/Pool_0.agg.loom'\n"
   ]
  },
  {
   "cell_type": "code",
   "execution_count": 7,
   "metadata": {},
   "outputs": [
    {
     "data": {
      "image/png": "[encoded data removed]",
      "text/plain": [
       "<Figure size 108x93.6 with 1 Axes>"
      ]
     },
     "execution_count": 7,
     "metadata": {},
     "output_type": "execute_result"
    }
   ],
   "source": [
    "with loompy.connect(DA, 'r', validate=False) as ds_orig:\n",
    "\n",
    "        attr = np.array([str(i) for i in ds_orig.ca.Clusters])\n",
    "        embedding = ds_orig.ca.TSNE\n",
    "\n",
    "        tmp,cluster0_cmap = mplot.factors(attr,embedding,\\\n",
    "                            title='Cluster L0',figsize=(1.5,1.3),\\\n",
    "                         s=25,with_legend=False,annotated=False,return_col=True)\n",
    "\n",
    "tmp"
   ]
  },
  {
   "cell_type": "code",
   "execution_count": 8,
   "metadata": {},
   "outputs": [],
   "source": [
    "ClusterL1 = dict({\n",
    "    0:'SOX6 PART1, GFRA2',\n",
    "    1:'SOX6 AGTR1',\n",
    "    2:'SOX6 LPL',\n",
    "    3:'doublets',\n",
    "    4:'CALB1 CERKL',\n",
    "    5:'GAD2 CALCRL',\n",
    "    6:'GAD2 EBF2',\n",
    "    7:'CALB1 PRLHR',\n",
    "    8:'CALB1 CRYM, CALCR',\n",
    "    9:'CALB1 NEUROD6, PPP1R17',\n",
    "    10:'CALB1 PAX5',\n",
    "    11:'CALB1 SEMA3D, GEM',\n",
    "    12:'CALB1 NPW',\n",
    "    13:'CALB1 GCGR',\n",
    "    14:'CALB1 VIP'\n",
    "})"
   ]
  },
  {
   "cell_type": "code",
   "execution_count": null,
   "metadata": {},
   "outputs": [],
   "source": [
    "cluster_cmap"
   ]
  },
  {
   "cell_type": "code",
   "execution_count": 9,
   "metadata": {
    "tags": []
   },
   "outputs": [
    {
     "data": {
      "text/plain": [
       "<Axes:>"
      ]
     },
     "execution_count": 9,
     "metadata": {},
     "output_type": "execute_result"
    },
    {
     "data": {
      "image/png": "[encoded data removed]",
      "text/plain": [
       "<Figure size 108x93.6 with 2 Axes>"
      ]
     },
     "metadata": {
      "needs_background": "light"
     },
     "output_type": "display_data"
    }
   ],
   "source": [
    "with loompy.connect(DA, 'r', validate=False) as ds:\n",
    "\n",
    "    genes = ['SOX6','CALB1','GAD2']\n",
    "    cmaps=['purple','darkgreen','darkorange']\n",
    "    \n",
    "    final_cmaps = scatterm_mod.scatterm(\n",
    "        ds.ca.TSNE,\n",
    "        figsize = (1.5,1.3),\n",
    "        c=np.array([np.log2(ds[(ds.ra.Gene == g ).nonzero()[0], :].flatten() + 1) for g in genes]),\n",
    "        cmaps=cmaps,\n",
    "        bgval=0,\n",
    "        labels=genes,\n",
    "        s=7,\n",
    "        legend=None,\n",
    "    )\n",
    "    plt.axis('off')\n",
    "\n",
    "ax_size = [0.91,0,0.01,0.01]\n",
    "scatterm_mod.draw_legend(final_cmaps,genes,ax_size=ax_size,ms=1,labelspacing=0.3)\n"
   ]
  },
  {
   "cell_type": "code",
   "execution_count": 10,
   "metadata": {
    "tags": []
   },
   "outputs": [
    {
     "data": {
      "image/png": "[encoded data removed]",
      "text/plain": [
       "<Figure size 108x93.6 with 1 Axes>"
      ]
     },
     "metadata": {
      "needs_background": "light"
     },
     "output_type": "display_data"
    }
   ],
   "source": [
    "with loompy.connect(DA, 'r', validate=False) as ds:\n",
    "\n",
    "\n",
    "    genes = ['TH','GAD2']\n",
    "    c=[np.log2(ds[(ds.ra.Gene == g).nonzero()[0], :].flatten() + 1) for g in genes]\n",
    "    colors_TH_GAD2,b00l_TH_GAD2,final_cmaps_enzyme =scatterm_mod.scatterm_prodonly(\n",
    "        ds.ca.TSNE,\n",
    "        figsize = (1.5,1.3),\n",
    "        c=[np.log2(ds[(ds.ra.Gene == g).nonzero()[0], :].flatten() + 1) for g in genes],\n",
    "        cmaps=[\"purple\"],\n",
    "        bgval=0,\n",
    "        labels=genes,\n",
    "        rasterized=True,\n",
    "        s=1,\n",
    "        nowhite=True,\n",
    "        legend=True\n",
    "    )\n",
    "    "
   ]
  },
  {
   "cell_type": "code",
   "execution_count": 11,
   "metadata": {
    "tags": []
   },
   "outputs": [
    {
     "data": {
      "image/png": "[encoded data removed]",
      "text/plain": [
       "<Figure size 108x93.6 with 1 Axes>"
      ]
     },
     "metadata": {
      "needs_background": "light"
     },
     "output_type": "display_data"
    }
   ],
   "source": [
    "with loompy.connect(DA, 'r', validate=False) as ds:\n",
    "\n",
    "    genes = ['SLC18A2','SLC32A1']\n",
    "    c=[np.log2(ds[(ds.ra.Gene == g).nonzero()[0], :].flatten() + 1) for g in genes]\n",
    "    colors_SLC,b00l_SLC,final_cmaps_SLC =scatterm_mod.scatterm_prodonly(\n",
    "        ds.ca.TSNE,\n",
    "        figsize = (1.5,1.3),\n",
    "        c=[np.log2(ds[(ds.ra.Gene == g).nonzero()[0], :].flatten() + 1) for g in genes],\n",
    "        cmaps=[\"steelblue\"],\n",
    "        bgval=0,\n",
    "        labels=genes,\n",
    "        rasterized=True,\n",
    "        s=1,\n",
    "        nowhite=True,\n",
    "        reverse=True,\n",
    "        legend=True\n",
    "    )"
   ]
  },
  {
   "cell_type": "code",
   "execution_count": 12,
   "metadata": {
    "tags": []
   },
   "outputs": [
    {
     "data": {
      "image/png": "[encoded data removed]",
      "text/plain": [
       "<Figure size 108x93.6 with 1 Axes>"
      ]
     },
     "metadata": {
      "needs_background": "light"
     },
     "output_type": "display_data"
    }
   ],
   "source": [
    "with loompy.connect(DA, 'r', validate=False) as ds:\n",
    "\n",
    "    genes = ['SLC18A2','SLC32A1','TH','GAD2']\n",
    "    c=[np.log2(ds[(ds.ra.Gene == g).nonzero()[0], :].flatten() + 1) for g in genes]\n",
    "    colors_both,b00l_both,final_cmaps_both =scatterm_mod.scatterm_prodonly(\n",
    "        ds.ca.TSNE,\n",
    "        figsize=(1.5,1.3),\n",
    "        c=[np.log2(ds[(ds.ra.Gene == g).nonzero()[0], :].flatten() + 1) for g in genes],\n",
    "        cmaps=[\"darkorange\"],\n",
    "        bgval=0,\n",
    "        labels=genes,\n",
    "        rasterized=True,\n",
    "        s=1,\n",
    "        nowhite=True,\n",
    "        legend=True\n",
    "    )\n"
   ]
  },
  {
   "cell_type": "code",
   "execution_count": 14,
   "metadata": {},
   "outputs": [
    {
     "data": {
      "text/plain": [
       "<Axes:>"
      ]
     },
     "execution_count": 14,
     "metadata": {},
     "output_type": "execute_result"
    },
    {
     "data": {
      "image/png": "[encoded data removed]",
      "text/plain": [
       "<Figure size 108x93.6 with 2 Axes>"
      ]
     },
     "metadata": {
      "needs_background": "light"
     },
     "output_type": "display_data"
    }
   ],
   "source": [
    "with loompy.connect(DA, 'r', validate=False) as ds:\n",
    "    \n",
    "    figsize =(1.5, 1.3)\n",
    "    fig = plt.figure(None,figsize)  \n",
    "    ax = fig.add_axes([0, 0, 0.8, 1])\n",
    "    markersize = 7\n",
    "    \n",
    "    grey = np.concatenate([b00l_SLC,b00l_TH_GAD2])\n",
    "    grey = np.isin(np.arange(ds.shape[1]),grey,invert=True)\n",
    "    \n",
    "    both = np.intersect1d(b00l_SLC,b00l_TH_GAD2)\n",
    "    \n",
    "    b00l = np.isin(b00l_SLC,both,invert=True)\n",
    "    b00l_SLC_ = b00l_SLC[b00l]\n",
    "    \n",
    "    b00l = np.isin(b00l_TH_GAD2,both,invert=True)\n",
    "    b00l_TH_GAD2_ = b00l_TH_GAD2[b00l]\n",
    "    \n",
    "    plt.scatter(ds.ca.TSNE[:,0][grey],ds.ca.TSNE[:,1][grey],color=viridis_grey,s=markersize,alpha=1,lw=0,rasterized=True)\n",
    "    plt.scatter(ds.ca.TSNE[:,0][b00l_SLC_],ds.ca.TSNE[:,1][b00l_SLC_],c=colors_SLC[b00l_SLC_],s=markersize,lw=0,alpha=1,rasterized=True)\n",
    "    plt.scatter(ds.ca.TSNE[:,0][b00l_TH_GAD2_],ds.ca.TSNE[:,1][b00l_TH_GAD2_],c=colors_TH_GAD2[b00l_TH_GAD2_],s=markersize,lw=0,alpha=1,rasterized=True)\n",
    "    plt.scatter(ds.ca.TSNE[:,0][both],ds.ca.TSNE[:,1][both],c=colors_both[both],s=markersize,lw=0,alpha=1,rasterized=True)\n",
    "\n",
    "    plt.axis('off')\n",
    "    alpha=1\n",
    "\n",
    "\n",
    "# fname = ofolder+f'fig/FIG//v2/rasterized/joint_SLC18A2_enzyme.svg'\n",
    "# plt.savefig(fname, format=\"svg\", dpi=144, bbox_inches='tight')\n",
    "\n",
    "final_cmaps = np.concatenate([final_cmaps_SLC,final_cmaps_enzyme,final_cmaps_both])\n",
    "\n",
    "ax_size = [0.91,0,0.01,0.01]\n",
    "scatterm_mod.draw_legend(final_cmaps,['SLC18A2,SLC32A1','TH,GAD2','SLC18A2,SLC32A1,TH,GAD2'],\\\n",
    "                         ax_size=ax_size,ms=1,labelspacing=0.3)"
   ]
  },
  {
   "cell_type": "code",
   "execution_count": 15,
   "metadata": {},
   "outputs": [
    {
     "data": {
      "text/plain": [
       "<Axes:>"
      ]
     },
     "execution_count": 15,
     "metadata": {},
     "output_type": "execute_result"
    },
    {
     "data": {
      "image/png": "[encoded data removed]",
      "text/plain": [
       "<Figure size 432x288 with 1 Axes>"
      ]
     },
     "metadata": {
      "needs_background": "light"
     },
     "output_type": "display_data"
    }
   ],
   "source": [
    "\n",
    "legend_all = np.concatenate([final_cmaps_SLC,final_cmaps_enzyme,final_cmaps_both])\n",
    "\n",
    "\n",
    "ax_size = [0.91,0,0.01,0.01]\n",
    "    \n",
    "scatterm_mod.draw_legend(legend_all,['SLC18A2,SLC32A1','TH,GAD2','SLC18A2,SLC32A1,TH,GAD2'],ax_size=ax_size,ms=1,labelspacing=0.3)\n",
    "\n",
    "# fname = ofolder+f'fig/FIG/v2/rasterized/joint_SLC18A2_enzyme_new_legend.svg'\n",
    "# plt.savefig(fname, format=\"svg\", dpi=144, bbox_inches='tight')\n",
    "\n"
   ]
  },
  {
   "cell_type": "code",
   "execution_count": 16,
   "metadata": {},
   "outputs": [],
   "source": [
    "with loompy.connect(pool, 'r', validate=False) as ds:\n",
    "    with loompy.connect(pool_agg, 'r', validate=False) as dsagg:\n",
    "        clusterborders = np.cumsum(dsagg.ca.NCells)\n",
    "        genes_ = np.array(['SOX10','MOG','LMX1A','NR4A2','PITX3','TH','DDC','SLC6A3','SLC18A2','SLC18A1',\\\n",
    "                       'SOX6','ALDH1A1','CALB2','CALB1','GAD2','GAD1','SLC32A1',\\\n",
    "                       'PART1','GFRA2','AGTR1','LPL',\\\n",
    "                          'CERKL','CALCRL','EBF2','ADCYAP1','PRLHR','CRYM','CALCR','NEUROD6','PPP1R17','SST','PAX5','SEMA3D','GEM',\\\n",
    "                       'NPW','CARTPT','PENK','GCGR','NPPC','VIP'\\\n",
    "                      ])\n",
    "                   \n",
    "        b00l =np.isin(ds.ra.Gene,genes_).nonzero()[0]\n",
    "        gene_to_plot = ds.ra.Gene[b00l]\n",
    "        ixs = own_utils.ixs_thatsort_a2b(gene_to_plot,genes_)\n",
    "        data = np.log(ds[''][b00l, :] + 1)\n",
    "        data = data[ixs,:]\n",
    "        \n",
    "        tissue = ds.ca.Tissue    \n",
    "        tmp = [i.split(' - ')[0] for i in tissue]\n",
    "        region = [i.split(' (')[0] for i in tmp]\n",
    "   \n",
    "        \n",
    "        attr_plot = {\n",
    "                'Cluster L1':ds.ca.Clusters,\n",
    "                'Cluster L0':ds.ca.Clusters_0,\n",
    "                'Region':region}\n",
    "        "
   ]
  },
  {
   "cell_type": "code",
   "execution_count": 17,
   "metadata": {},
   "outputs": [],
   "source": [
    "import matplotlib.colors\n",
    "\n",
    "color_ROI = dict(\n",
    "    zip(\n",
    "        [\"Cerebral cortex\", \"Hippocampus\", \"Cerebral nuclei\", \"Hypothalamus\", \"Thalamus\", \"Midbrain\", \"Pons\", \"Cerebellum\", \"Myelencephalon\", \"Spinal cord\"],\n",
    "        ['#4682f0', '#8eb7d1', '#89d8e0', '#f28e37', '#e7bc1f', '#43ad78', '#a7236e', '#ed5f8e', '#955ba5', '#eec2a4']))\n",
    "\n",
    "cluster_cmap = dict({'0': np.array([0.9375    , 0.63671875, 0.99609375]),\n",
    " '1': np.array([0.        , 0.45703125, 0.859375  ]),\n",
    " '10': np.array([0.59765625, 0.24609375, 0.        ]),\n",
    " '11': np.array([0.296875, 0.      , 0.359375]),\n",
    " '12': np.array([0.        , 0.359375  , 0.19140625]),\n",
    " '13': np.array([0.16796875, 0.8046875 , 0.28125   ]),\n",
    " '14': np.array([0.99609375, 0.796875  , 0.59765625]),\n",
    " '2': np.array([0.5, 0.5, 0.5]),\n",
    " '3': np.array([0.578125  , 0.99609375, 0.70703125]),\n",
    " '4': np.array([0.55859375, 0.484375  , 0.        ]),\n",
    " '5': np.array([0.61328125, 0.796875  , 0.        ]),\n",
    " '6': np.array([0.7578125, 0.       , 0.53125  ]),\n",
    " '7': np.array([0.        , 0.19921875, 0.5       ]),\n",
    " '8': np.array([0.99609375, 0.640625  , 0.01953125]),\n",
    " '9': np.array([0.99609375, 0.65625   , 0.73046875])})\n",
    "\n",
    "cluster0_cmap = dict({'0': np.array([0.9375    , 0.63671875, 0.99609375]),\n",
    " '1': np.array([0.        , 0.45703125, 0.859375  ]),\n",
    " '2': np.array([0.59765625, 0.24609375, 0.        ]),\n",
    " '3': np.array([0.296875, 0.      , 0.359375]),\n",
    " '4': np.array([0.        , 0.359375  , 0.19140625]),\n",
    " '5': np.array([0.16796875, 0.8046875 , 0.28125   ]),\n",
    " '6': np.array([0.99609375, 0.796875  , 0.59765625]),\n",
    " '7': np.array([0.5, 0.5, 0.5])})\n",
    "\n",
    "cluster_cmap_ = dict()\n",
    "for k,v in cluster_cmap.items():\n",
    "    cluster_cmap_[int(k)] =v\n",
    "\n",
    "cluster0_cmap_ = dict()\n",
    "for k,v in cluster0_cmap.items():\n",
    "    cluster0_cmap_[int(k)] =v\n",
    "    \n",
    "color_ROI_= dict()\n",
    "for k,v in color_ROI.items():\n",
    "    color_ROI_[k] = matplotlib.colors.to_rgb(v)\n",
    "    "
   ]
  },
  {
   "cell_type": "code",
   "execution_count": 19,
   "metadata": {},
   "outputs": [
    {
     "name": "stdout",
     "output_type": "stream",
     "text": [
      "246\n"
     ]
    },
    {
     "name": "stderr",
     "output_type": "stream",
     "text": [
      "/home/kawai/miniconda3/envs/py37/lib/python3.7/site-packages/ipykernel_launcher.py:16: MatplotlibDeprecationWarning: You are modifying the state of a globally registered colormap. This has been deprecated since 3.3 and in 3.6, you will not be able to modify a registered colormap in-place. To remove this warning, you can make a copy of the colormap first. cmap = mpl.cm.get_cmap(\"viridis\").copy()\n",
      "  app.launch_new_instance()\n"
     ]
    },
    {
     "data": {
      "image/png": "[encoded data removed]",
      "text/plain": [
       "<Figure size 324x396 with 4 Axes>"
      ]
     },
     "metadata": {},
     "output_type": "display_data"
    }
   ],
   "source": [
    "from matplotlib.collections import LineCollection\n",
    "from matplotlib.colors import Normalize\n",
    "\n",
    "to_plot_pd = data\n",
    "strip_height=6\n",
    "strip_height_attr = 1\n",
    "blank = 1\n",
    "total_height =  to_plot_pd.shape[0]*strip_height+len(attr_plot)*strip_height_attr+len(attr_plot)*blank\n",
    "print(total_height)\n",
    "fig = plt.figure(figsize = (4.5,5.5))#(figsize=(5,total_height/6.5))\n",
    "grid = (50,1)#(total_height,1)\n",
    "offset=0\n",
    "grey = (239/256, 239/256, 240/256,1)\n",
    "current_cmap = plt.cm.get_cmap()\n",
    "\n",
    "current_cmap.set_bad(color='grey')\n",
    "\n",
    "color_range = np.percentile(to_plot_pd, 99.9, axis=1)\n",
    "data_scaled = to_plot_pd / color_range[None].T\n",
    "\n",
    "# cattr_dict = [cluster0_cmap_,cluster_cmap_,color_ROI_]\n",
    "cattr_dict = [cluster_cmap_,cluster0_cmap_,color_ROI_]\n",
    "\n",
    "for i,k in enumerate(attr_plot):\n",
    "   \n",
    "    vals = attr_plot[k]\n",
    "    d = np.array([cattr_dict[i][v] for v in vals])\n",
    "    ax = plt.subplot2grid(grid, (offset, 0), rowspan=strip_height_attr)\n",
    "    \n",
    "    plt.imshow(np.expand_dims(d, axis=0), aspect='auto', interpolation='nearest',rasterized=True)\n",
    "    plt.text(1.002,1, k, horizontalalignment='left', verticalalignment='top', transform=ax.transAxes, fontsize=7, color=\"black\")\n",
    "\n",
    "    ax.set_yticks([])\n",
    "    ax.set_xticks([])\n",
    "    \n",
    "    ax.spines['top'].set_linewidth(0.5)\n",
    "    ax.spines['bottom'].set_linewidth(0.5)\n",
    "\n",
    "    \n",
    "    ax.spines['right'].set_visible(False)\n",
    "    ax.spines['left'].set_visible(False)\n",
    "#     if i ==0:\n",
    "#         offset+=strip_height_attr\n",
    "#     else:\n",
    "#         offset += strip_height_attr+blank\n",
    "    offset += strip_height_attr\n",
    "#     plt.axis(\"off\")\n",
    "ax = plt.subplot2grid(grid, (offset, 0), rowspan=to_plot_pd.shape[0])\n",
    "normalize = Normalize(vmin = 0, vmax = 1)\n",
    "\n",
    "bg = np.zeros_like(to_plot_pd) + 0.9\n",
    "x_norm = np.ma.masked_where(to_plot_pd== 0, data_scaled)\n",
    "\n",
    "# data = np.log2(data + 1)\n",
    "#     x_norm = cg.div0(data, np.percentile(data.T, 99.9, axis=1)).T\n",
    "#     bg = np.zeros_like(data.T) + 0.9\n",
    "#     x_norm = np.ma.masked_where(data.T == 0, x_norm)\n",
    "    \n",
    "ax.imshow(bg, vmin=0, vmax=1, cmap=plt.cm.gray ,aspect=\"auto\", alpha=1,\n",
    "          interpolation=\"nearest\", resample=False,rasterized=True)\n",
    "ax.imshow(x_norm, cmap=\"viridis_r\",vmin=0, vmax=1,interpolation=\"nearest\", aspect=\"auto\", alpha=1,resample=False,rasterized=True)\n",
    "               \n",
    "# ax.imshow(data_scaled, aspect='auto', norm = normalize,cmap=newcmp, vmin=0,vmax=1, interpolation='nearest',rasterized=True)\n",
    "from matplotlib.cm import ScalarMappable\n",
    "\n",
    "sm = ScalarMappable(norm = normalize,cmap=\"viridis_r\")\n",
    "\n",
    "tops = np.vstack((clusterborders - 0.5, np.zeros(clusterborders.shape[0]) - 0.5)).T\n",
    "bottoms = np.vstack((clusterborders - 0.5, np.zeros(clusterborders.shape[0]) + data.shape[0] - 0.5)).T\n",
    "lc = LineCollection(zip(tops, bottoms), linewidths=0.8, color='lightgrey', alpha=0.5)\n",
    "ax.add_collection(lc)\n",
    "\n",
    "\n",
    "n_genes = to_plot_pd.shape[0]\n",
    "for ix, gene in enumerate(genes_):\n",
    "    plt.text(1.001, 0.999 - ix / n_genes, gene, horizontalalignment='left', verticalalignment='top', transform=ax.transAxes, fontsize=6, color=\"black\")\n",
    "\n",
    "#     ax.set_frame_on(False)\n",
    "    ax.set_yticks([])\n",
    "    ax.set_xticks([])\n",
    "    ax.spines['right'].set_visible(False)\n",
    "    ax.spines['left'].set_visible(False)\n",
    "\n",
    "ax.spines['top'].set_linewidth(0.7)\n",
    "ax.spines['bottom'].set_linewidth(0.7)\n",
    "\n",
    "# ax.grid(False)\n",
    "plt.subplots_adjust(hspace=0)\n",
    "\n",
    "\n",
    "\n",
    "\n",
    "\n",
    "# plt.savefig(os.path.join(ofolder,'fig/FIG/v2/rasterized/topgenes_peptides_newdim.svg'),format=\"svg\", dpi=300, bbox_inches='tight',transparent=transparency)\n",
    "\n",
    "\n"
   ]
  },
  {
   "cell_type": "code",
   "execution_count": 27,
   "metadata": {},
   "outputs": [
    {
     "data": {
      "image/png": "[encoded data removed]",
      "text/plain": [
       "<Figure size 432x288 with 1 Axes>"
      ]
     },
     "execution_count": 27,
     "metadata": {},
     "output_type": "execute_result"
    },
    {
     "data": {
      "image/png": "[encoded data removed]",
      "text/plain": [
       "<Figure size 432x288 with 1 Axes>"
      ]
     },
     "metadata": {
      "needs_background": "light"
     },
     "output_type": "display_data"
    }
   ],
   "source": [
    "colorbar =  dict({'sm':sm,\n",
    "                  'vmin':0,\n",
    "                  'vmax':1}) \n",
    "scatterm_mod.draw_colorbar(colorbar,\n",
    "                           ax_size=[0,0,0.01,0.1],\n",
    "            cbar_fraction = 1,\n",
    "            cbar_aspect = 10,\n",
    "            cbar_shrink = 1)\n",
    "# plt.savefig(os.path.join(ofolder,'fig/FIG/v2/rasterized/topgenes_peptides_newdim_legend.svg'),format=\"svg\", dpi=100, bbox_inches='tight',transparent=transparency)\n",
    "\n"
   ]
  },
  {
   "cell_type": "code",
   "execution_count": 28,
   "metadata": {},
   "outputs": [
    {
     "data": {
      "image/png": "[encoded data removed]",
      "text/html": [
       "<div style=\"vertical-align: middle;\"><strong>from_list</strong> </div><div class=\"cmap\"><img alt=\"from_list colormap\" title=\"from_list\" style=\"border: 1px solid #555;\" src=\"data:image/png;base64,iVBORw0KGgoAAAANSUhEUgAAAgAAAABACAYAAABsv8+/AAAAGHRFWHRUaXRsZQBmcm9tX2xpc3QgY29sb3JtYXBDL89FAAAAHnRFWHREZXNjcmlwdGlvbgBmcm9tX2xpc3QgY29sb3JtYXABtCnOAAAAMHRFWHRBdXRob3IATWF0cGxvdGxpYiB2My40LjEsIGh0dHBzOi8vbWF0cGxvdGxpYi5vcmeZO9WOAAAAMnRFWHRTb2Z0d2FyZQBNYXRwbG90bGliIHYzLjQuMSwgaHR0cHM6Ly9tYXRwbG90bGliLm9yZ7edSqkAAAJYSURBVHic7dZBchMxEAXQdtZUcf9jcLFwALDEgpkx0oxsh+1/b5PqVrfkFIXzb5+fP3tV1bfvP6qqqvd7VVW1/nurt59tqqd+Tf3a++3XcP7oj3u3o3+/rPf52173qT72VnW7PH/MtanfnvbP97XnP/uL89bfrGu7b6qnZ+Z+tdu2drvut4+hrr739/mPse7Xe/1457pffbxndV9fvd/nd57vPX7f8XOt5trqvtW7fby3Lc+n+7+4f9qr6/6r+ujXaq7GevVOLean89O987t/26fPceov5rZrv7BXL+bGz7nPz+/M//3me857795/Xb87d/paOOb6/80d5336ffu038f54569P83X3G/j3ur8Ntb92NvP2/Pzaa7X/Xp++zv42F/U/flen+/p47vz/lEv5mqem7749/n5D0L/519mO6iqqu1bGgBIIgAAQCABAAACCQAAEEgAAIBAAgAABBIAACCQAAAAgQQAAAgkAABAIAEAAAIJAAAQSAAAgEACAAAEEgAAIJAAAACBBAAACCQAAEAgAQAAAgkAABBIAACAQAIAAAQSAAAgkAAAAIEEAAAIJAAAQCABAAACCQAAEEgAAIBAAgAABBIAACCQAAAAgQQAAAgkAABAIAEAAAIJAAAQSAAAgEACAAAEEgAAIJAAAACBBAAACCQAAEAgAQAAAgkAABBIAACAQAIAAAQSAAAgkAAAAIEEAAAIJAAAQCABAAACCQAAEEgAAIBAAgAABBIAACCQAAAAgQQAAAgkAABAIAEAAAIJAAAQSAAAgEACAAAEEgAAINAfTA7fkSMqjV8AAAAASUVORK5CYII=\"></div><div style=\"vertical-align: middle; max-width: 514px; display: flex; justify-content: space-between;\"><div style=\"float: left;\"><div title=\"#eeeeefff\" style=\"display: inline-block; width: 1em; height: 1em; margin: 0; vertical-align: middle; border: 1px solid #555; background-color: #eeeeefff;\"></div> under</div><div style=\"margin: 0 auto; display: inline-block;\">bad <div title=\"#00000000\" style=\"display: inline-block; width: 1em; height: 1em; margin: 0; vertical-align: middle; border: 1px solid #555; background-color: #00000000;\"></div></div><div style=\"float: right;\">over <div title=\"#000004ff\" style=\"display: inline-block; width: 1em; height: 1em; margin: 0; vertical-align: middle; border: 1px solid #555; background-color: #000004ff;\"></div></div>"
      ],
      "text/plain": [
       "<matplotlib.colors.ListedColormap at 0x1470dc58e3d0>"
      ]
     },
     "execution_count": 28,
     "metadata": {},
     "output_type": "execute_result"
    }
   ],
   "source": [
    "\n",
    "viridis = plt.cm.get_cmap('inferno_r', 256)\n",
    "newcolors = viridis(np.linspace(0, 1, 256))\n",
    "grey = (239/256, 239/256, 240/256,1)\n",
    "newcolors[:1, :] = grey\n",
    "newcmp = mcolors.ListedColormap(newcolors)\n",
    "newcmp"
   ]
  },
  {
   "cell_type": "code",
   "execution_count": 29,
   "metadata": {
    "tags": []
   },
   "outputs": [
    {
     "data": {
      "image/png": "[encoded data removed]",
      "text/plain": [
       "<Figure size 108x93.6 with 1 Axes>"
      ]
     },
     "metadata": {
      "needs_background": "light"
     },
     "output_type": "display_data"
    },
    {
     "data": {
      "image/png": "[encoded data removed]",
      "text/plain": [
       "<Figure size 108x93.6 with 1 Axes>"
      ]
     },
     "metadata": {
      "needs_background": "light"
     },
     "output_type": "display_data"
    },
    {
     "data": {
      "image/png": "[encoded data removed]",
      "text/plain": [
       "<Figure size 108x93.6 with 1 Axes>"
      ]
     },
     "metadata": {
      "needs_background": "light"
     },
     "output_type": "display_data"
    },
    {
     "data": {
      "image/png": "[encoded data removed]",
      "text/plain": [
       "<Figure size 108x93.6 with 1 Axes>"
      ]
     },
     "metadata": {
      "needs_background": "light"
     },
     "output_type": "display_data"
    },
    {
     "data": {
      "image/png": "[encoded data removed]",
      "text/plain": [
       "<Figure size 108x93.6 with 1 Axes>"
      ]
     },
     "metadata": {
      "needs_background": "light"
     },
     "output_type": "display_data"
    }
   ],
   "source": [
    "with loompy.connect(DA, 'r', validate=False) as ds:\n",
    "    \n",
    "    xy = ds.ca.TSNE\n",
    "    genes_list =['TH','VIP','NPPC','PENK','NPW']\n",
    "    for g in genes_list:\n",
    "        genes = g\n",
    "        c=np.log2(ds[''][(ds.ra.Gene == g).nonzero()[0],:].flatten() + 1)\n",
    "        sm = scatterm_mod.scattern(\n",
    "            figsize=(1.5,1.3),\n",
    "            xy = xy,\n",
    "            c=c,\n",
    "            bgval=0,\n",
    "            rasterized=True,\n",
    "            s=0.5,\n",
    "\n",
    "        )\n",
    "        plt.title(genes,fontsize=5,y=0.93)\n",
    "        plt.margins(0.01, 0.01)\n",
    "        plt.axis('off')\n"
   ]
  },
  {
   "cell_type": "markdown",
   "metadata": {},
   "source": [
    "## compare with kamath"
   ]
  },
  {
   "cell_type": "code",
   "execution_count": 30,
   "metadata": {},
   "outputs": [],
   "source": [
    "cluster_cmap = dict({'0': np.array([0.9375    , 0.63671875, 0.99609375]),\n",
    " '1': np.array([0.        , 0.45703125, 0.859375  ]),\n",
    " '10': np.array([0.59765625, 0.24609375, 0.        ]),\n",
    " '11': np.array([0.296875, 0.      , 0.359375]),\n",
    " '12': np.array([0.        , 0.359375  , 0.19140625]),\n",
    " '13': np.array([0.16796875, 0.8046875 , 0.28125   ]),\n",
    " '14': np.array([0.99609375, 0.796875  , 0.59765625]),\n",
    " '2': np.array([0.5, 0.5, 0.5]),\n",
    " '3': np.array([0.578125  , 0.99609375, 0.70703125]),\n",
    " '4': np.array([0.55859375, 0.484375  , 0.        ]),\n",
    " '5': np.array([0.61328125, 0.796875  , 0.        ]),\n",
    " '6': np.array([0.7578125, 0.       , 0.53125  ]),\n",
    " '7': np.array([0.        , 0.19921875, 0.5       ]),\n",
    " '8': np.array([0.99609375, 0.640625  , 0.01953125]),\n",
    " '9': np.array([0.99609375, 0.65625   , 0.73046875])})"
   ]
  },
  {
   "cell_type": "code",
   "execution_count": 32,
   "metadata": {
    "tags": []
   },
   "outputs": [],
   "source": [
    "attr =np.arange(20)\n",
    "\n",
    "celltype_color = mplot.colorize(attr)\n",
    "\n",
    "color_kamath = dict()\n",
    "color_matchorder = dict({'SOX6_GFRA2':'0', #0\n",
    "         'SOX6_AGTR1':'1',#1\n",
    "         'SOX6_DDT':'na',#\n",
    "         'SOX6_PART1':'na',#\n",
    "         'CALB1_RBP4':'na',#\n",
    "         'CALB1_CRYM_CCDC68':'na',#\n",
    "         'CALB1_TRHR':'7',\n",
    "         'CALB1_CALCR':'8',#8\n",
    "         'CALB1_PPP1R17':'9',#9\n",
    "         'CALB1_GEM':'11'})\n",
    "counter=0\n",
    "for i,kv in enumerate(color_matchorder.items()):\n",
    "    k,v = kv[0],kv[1]\n",
    "    if v is 'na':\n",
    "        col = celltype_color[15::,:][counter]\n",
    "        color_kamath[k] = col\n",
    "        counter+=1\n",
    "    else:\n",
    "        color_kamath[k] = cluster_cmap[v]\n",
    " \n",
    "order_clu = ['0','1','2','3','4','5','6','8','9','11']\n"
   ]
  },
  {
   "cell_type": "code",
   "execution_count": 33,
   "metadata": {},
   "outputs": [],
   "source": [
    "color_kamath = dict({'SOX6_GFRA2': np.array([0.9375    , 0.63671875, 0.99609375]),\n",
    " 'SOX6_AGTR1': np.array([0.        , 0.45703125, 0.859375  ]),\n",
    " 'SOX6_DDT': np.array([0.2578125, 0.3984375, 0.       ]),\n",
    " 'SOX6_PART1': np.array([0.99609375, 0.        , 0.0625    ]),\n",
    " 'CALB1_RBP4': np.array([0.3671875 , 0.94140625, 0.9453125 ]),\n",
    " 'CALB1_CRYM_CCDC68': np.array([0.        , 0.59765625, 0.55859375]),\n",
    " 'CALB1_TRHR': np.array([0.        , 0.19921875, 0.5       ]),\n",
    " 'CALB1_CALCR': np.array([0.99609375, 0.640625  , 0.01953125]),\n",
    " 'CALB1_PPP1R17': np.array([0.99609375, 0.65625   , 0.73046875]),\n",
    " 'CALB1_GEM': np.array([0.296875, 0.      , 0.359375])})"
   ]
  },
  {
   "cell_type": "code",
   "execution_count": 34,
   "metadata": {},
   "outputs": [],
   "source": [
    "sys.path.append(r'/data/proj/EA_KWL/rmd/from_git/off_grid_cytograph/')\n",
    "from species.species import Species\n",
    "from enrichment.feature_selection_by_variance import FeatureSelectionByVariance \n",
    "from preprocessing.normalizer import Normalizer\n",
    "dir_ = '/data/proj/EA_KWL/data/Kamath1/loom_files/'\n",
    "\n",
    "kamath_dactrl = '/data/proj/EA_KWL/data/Kamath1/data/DA_controlDA.loom'"
   ]
  },
  {
   "cell_type": "code",
   "execution_count": 35,
   "metadata": {},
   "outputs": [],
   "source": [
    "from sklearn.ensemble import RandomForestClassifier\n",
    "from sklearn.model_selection import StratifiedShuffleSplit\n",
    " "
   ]
  },
  {
   "cell_type": "code",
   "execution_count": 458,
   "metadata": {},
   "outputs": [
    {
     "name": "stdout",
     "output_type": "stream",
     "text": [
      "[8 9 6 ... 9 6 8] [8 9 0 ... 6 6 7]\n"
     ]
    }
   ],
   "source": [
    "with loompy.connect(kamath_dactrl,'r') as ds:\n",
    "    \n",
    "    le.fit(np.unique(ds.ca['Cell_Type']))\n",
    "    labels = le.transform(ds.ca['Cell_Type']).astype('int')\n",
    "    \n",
    "    b00l = ds.ra.Selected==1\n",
    "\n",
    "    X = ds[b00l.nonzero()[0],:].T\n",
    "    y = labels\n",
    "    \n",
    "    sss = StratifiedShuffleSplit(n_splits=1,random_state=0)\n",
    "    train_index_ = []\n",
    "    test_index_ = []\n",
    "    for train_index, test_index in sss.split(X, y):\n",
    "        X_train, X_test = X[train_index], X[test_index]\n",
    "        y_train, y_test = y[train_index], y[test_index]\n",
    "        print(y_train,y_test)\n",
    "        train_index_.append(train_index)\n",
    "        test_index_.append(test_index)\n",
    "        \n",
    "        \n",
    "    RF_train_b00l = np.zeros(ds.shape[1])\n",
    "    RF_train_b00l[train_index_[0]]=1\n",
    "    \n",
    "    ds.ca.RF_train_b00l = RF_train_b00l"
   ]
  },
  {
   "cell_type": "code",
   "execution_count": 36,
   "metadata": {},
   "outputs": [],
   "source": [
    "def df_compare(trainset,testset):\n",
    "    \n",
    "    relative_size_ref = np.sum(trainset,axis=0)\n",
    "    target_size = np.median(relative_size_ref)\n",
    "\n",
    "    norm_factor = div0(target_size,relative_size_ref)\n",
    "    train_norm  = trainset*norm_factor\n",
    "    train_norm_log = np.log(train_norm + 1)\n",
    "\n",
    "#     relative_size_ref = np.sum(trainset, axis=0)\n",
    "#     target_size = np.median(relative_size_ref)\n",
    "\n",
    "    relative_size = np.sum(testset,axis=0)\n",
    "\n",
    "    norm_factor = div0(target_size,relative_size)\n",
    "    df_test  = testset*norm_factor\n",
    "\n",
    "    df_test_log = np.log(df_test + 1)\n",
    "    \n",
    "    normalizer=0.9*train_norm_log.max(1)[:, None]\n",
    "    \n",
    "    return train_norm_log, df_test_log, normalizer\n",
    "\n",
    "def div0(a: np.ndarray, b: np.ndarray) -> np.ndarray:\n",
    "    \"\"\" ignore / 0, div0( [-1, 0, 1], 0 ) -> [0, 0, 0] \"\"\"\n",
    "    with np.errstate(divide='ignore', invalid='ignore'):\n",
    "        c = np.true_divide(a, b)\n",
    "        c[~np.isfinite(c)] = 0  # -inf inf NaN\n",
    "    return c"
   ]
  },
  {
   "cell_type": "markdown",
   "metadata": {},
   "source": [
    "## random forest"
   ]
  },
  {
   "cell_type": "code",
   "execution_count": 37,
   "metadata": {},
   "outputs": [],
   "source": [
    "\n",
    "def inter_gene(a,b,return_one_indices_a=True):\n",
    "    \n",
    "    \"\"\"\n",
    "    try to match b to a!!\n",
    "    \"\"\"\n",
    "    b_ = np.vstack([b,b]).T\n",
    "    a_ = np.vstack([a,a]).T\n",
    "    \n",
    "    _,iloc_a,iloc_b = np.intersect1d(a_[:,0],b_[:,0],return_indices=True)\n",
    "\n",
    "    gene_inter = a_[iloc_a,:] # matching genes between a and b\n",
    "    stack = np.vstack((gene_inter,a_[~np.in1d(a_[:,0],gene_inter[:,0])]*[1,0])) #combine matching genes and missing one\n",
    "    iloc = own_utils.ixs_thatsort_a2b(stack[:,0],a_[:,0]) # sort compiled genes to a \n",
    "    \n",
    "    b_inter_gene = stack[iloc,:][:,1]\n",
    "    match_b = np.where(b_inter_gene!='')[0]\n",
    "    iloc_b_ = own_utils.ixs_thatsort_a2b(gene_inter[:,0],b_inter_gene[match_b])\n",
    "    \n",
    "    b_inter_iloc = iloc_b[iloc_b_]\n",
    "\n",
    "    \n",
    "    if return_one_indices_a:\n",
    "        indices = np.where(stack[iloc,:][:,1]!='')[0] # b match for a - a.iloc equivalent\n",
    "        \n",
    "        return b_inter_gene,indices,b_inter_iloc\n",
    "    \n",
    "    else:\n",
    "        return b_inter_gene"
   ]
  },
  {
   "cell_type": "code",
   "execution_count": 38,
   "metadata": {},
   "outputs": [
    {
     "data": {
      "text/plain": [
       "0.7912747672772913"
      ]
     },
     "execution_count": 38,
     "metadata": {},
     "output_type": "execute_result"
    }
   ],
   "source": [
    "\n",
    "with loompy.connect(kamath_dactrl,'r') as ds:\n",
    "    b00l = ds.ra.Selected==1\n",
    "# #     print(ds.ca.keys())\n",
    "    \n",
    "    le.fit(np.unique(ds.ca['Cell_Type']))\n",
    "    labels = le.transform(ds.ca['Cell_Type']).astype('int')\n",
    "    labels_dict = dict(zip(np.unique(ds.ca['Cell_Type']),le.transform(np.unique(ds.ca['Cell_Type']))))\n",
    "    \n",
    "    X = (ds[b00l.nonzero()[0],:][:,ds.ca.RF_train_b00l==1]).T\n",
    "#     X = Binarizer(threshold=3).fit_transform(X)\n",
    "    \n",
    "    y = labels[ds.ca.RF_train_b00l==1]\n",
    "    \n",
    "   \n",
    "    \n",
    "    X_test = (ds[b00l.nonzero()[0],:][:,ds.ca.RF_train_b00l==0]).T\n",
    "    \n",
    "    train_norm_log, df_test_log, normalizer = df_compare(X.T,X_test.T)\n",
    "    X_train_norm = (div0(train_norm_log,normalizer)).T\n",
    "    X_test_norm = (div0(df_test_log,normalizer)).T\n",
    "#     X_test = Binarizer(threshold=3).fit_transform(X_test)\n",
    "    \n",
    "    y_test = labels[ds.ca.RF_train_b00l==0]\n",
    "    \n",
    "    RF_train_best = RandomForestClassifier(class_weight='balanced', max_features=0.3,\n",
    "                       min_samples_leaf=4, n_estimators=100, n_jobs=-1,\n",
    "                       oob_score=True, random_state=0)\n",
    "    \n",
    "    RF_train_best.fit(X_train_norm,y)\n",
    "    \n",
    "    y_pred = RF_train_best.predict(X_test_norm)\n",
    "    \n",
    "from sklearn.metrics import f1_score\n",
    "\n",
    "f1_score(y_test, y_pred, average='weighted', labels=np.unique(y_pred))\n"
   ]
  },
  {
   "cell_type": "code",
   "execution_count": 39,
   "metadata": {},
   "outputs": [],
   "source": [
    "from sklearn.metrics import classification_report\n",
    "\n",
    "classification_report_dict = (classification_report(y_test, y_pred,\\\n",
    "                                                    target_names=list(labels_dict.keys()),output_dict=True)) #DA ctrl\n"
   ]
  },
  {
   "cell_type": "code",
   "execution_count": 40,
   "metadata": {},
   "outputs": [],
   "source": [
    "precision =[]\n",
    "recall =[]\n",
    "f1=[]\n",
    "Cell_type =[]\n",
    "class_k =[]\n",
    "for k,v in classification_report_dict.items():\n",
    "#     print(v['precision'])\n",
    "    if k in ['accuracy','macro avg','weighted avg']:\n",
    "        continue\n",
    "    else:\n",
    "        class_k.append(k)\n",
    "        Cell_type.append(k)\n",
    "        precision.append(v['precision'])\n",
    "        recall.append(v['recall'])\n",
    "        f1.append(v['f1-score'])\n",
    "\n",
    "class_melt = pd.DataFrame({'Precision':precision,\n",
    "              'Recall': recall,\n",
    "              'F1 score': f1,\n",
    "                'Cell type':Cell_type})\n",
    "class_melt = pd.melt(class_melt,id_vars='Cell type')"
   ]
  },
  {
   "cell_type": "code",
   "execution_count": 41,
   "metadata": {
    "tags": []
   },
   "outputs": [
    {
     "data": {
      "text/plain": [
       "<Axes:>"
      ]
     },
     "execution_count": 41,
     "metadata": {},
     "output_type": "execute_result"
    },
    {
     "data": {
      "image/png": "[encoded data removed]",
      "text/plain": [
       "<Figure size 43.2x57.6 with 2 Axes>"
      ]
     },
     "metadata": {
      "needs_background": "light"
     },
     "output_type": "display_data"
    }
   ],
   "source": [
    "fig = plt.figure(None,(0.6,0.8))\n",
    "\n",
    "ax1 = fig.add_axes([0,0,0.9,1])\n",
    "ax1.set_ylim([0.1,1.0])\n",
    "ax1.set_yticks([0.2,0.6,1.0])\n",
    "\n",
    "dotsize=2\n",
    "\n",
    "class_strip = sns.stripplot(x='variable',y='value',data=class_melt,jitter=0.15,hue='Cell type',\\\n",
    "                            palette =color_kamath,ax=ax1,size=dotsize,rasterized=True)\n",
    "class_strip.get_legend().remove()\n",
    "ax1.set_xticklabels(['Precision','Recall','F1 score'],rotation=25)\n",
    "\n",
    "\n",
    "ax1.spines['top'].set_visible(False)\n",
    "ax1.spines['right'].set_visible(False)\n",
    "\n",
    "ax1.tick_params(axis='both', labelsize=5)\n",
    "ax1.spines['left'].set_linewidth(0.5)\n",
    "ax1.spines['bottom'].set_linewidth(0.5)\n",
    "ax1.tick_params(axis='both', labelsize=5,length=2,width=0.5)\n",
    "\n",
    "ax1.set_ylabel('')\n",
    "ax1.set_xlabel('')\n",
    "ax1.tick_params(axis='both', which='major', pad=0.01)\n",
    "\n",
    "\n",
    "\n",
    "ax_size = [0.91,0,0,0]\n",
    "\n",
    "scatterm_mod.draw_legend(list(color_kamath.values()),list(color_kamath.keys()),\\\n",
    "                         ax_size=ax_size,ms=1.2,labelspacing=0.3)\n",
    "\n",
    "# name = 'classification_report'\n",
    "# fname = ofolder+f'fig/FIG/v2/rasterized/{name}.svg'\n",
    "# plt.savefig(fname, format=\"svg\", dpi=300, bbox_inches='tight',transparent=True)"
   ]
  },
  {
   "cell_type": "code",
   "execution_count": 22,
   "metadata": {},
   "outputs": [],
   "source": [
    "f1 = pd.read_csv(os.path.join(ofolder,'RF_params/metrics_train_mean_f1.csv'),header=None)\n",
    "acc = pd.read_csv(os.path.join(ofolder,'RF_params/metrics_train_mean_accuracy.csv'),header=None)\n",
    "trial= pd.read_csv(os.path.join(ofolder,'RF_params/trials_params.csv'),header=None)\n",
    "acc = acc[2]\n",
    "f1 = f1[2]"
   ]
  },
  {
   "cell_type": "code",
   "execution_count": 45,
   "metadata": {},
   "outputs": [],
   "source": [
    "max_features_rf = trial[2].values\n",
    "max_features_rf = [float(i.split(': ')[1]) for i in max_features_rf]\n",
    "\n",
    "min_samples_leaf_rf = trial[3].values\n",
    "min_samples_leaf_rf = [int(i.split(': ')[1].strip('}')) for i in min_samples_leaf_rf]"
   ]
  },
  {
   "cell_type": "code",
   "execution_count": 46,
   "metadata": {},
   "outputs": [
    {
     "data": {
      "text/plain": [
       "<Axes:>"
      ]
     },
     "execution_count": 46,
     "metadata": {},
     "output_type": "execute_result"
    },
    {
     "data": {
      "image/png": "[encoded data removed]",
      "text/plain": [
       "<Figure size 72x57.6 with 3 Axes>"
      ]
     },
     "metadata": {
      "needs_background": "light"
     },
     "output_type": "display_data"
    }
   ],
   "source": [
    "fig = plt.figure(None,(1.0,0.8))\n",
    "\n",
    "ax1 = fig.add_axes([0,0,0.4,1])\n",
    "\n",
    "dot_size = 5\n",
    "# ax1 = fig.add_subplot(121)\n",
    "ax1.scatter(min_samples_leaf_rf,f1.values,alpha=0.8,c='steelblue',s=dot_size,lw=0,rasterized=True)\n",
    "ax1.scatter(min_samples_leaf_rf,acc.values,alpha=0.8,c='darkorange',s=dot_size,lw=0,rasterized=True)\n",
    "ax1.set_xlim([0,55])\n",
    "ax1.set_xticks([5,25,45])\n",
    "ax1.set_yticks([0.72,0.75,0.78])\n",
    "ax1.tick_params(axis='y', which='major', pad=1)\n",
    "\n",
    "# ax2 = fig.add_subplot(122)\n",
    "\n",
    "ax2 = fig.add_axes([0.45,0,0.4,1])\n",
    "\n",
    "ax2.scatter(max_features_rf,f1.values,alpha=0.8,c='steelblue',s=dot_size,lw=0,rasterized=True)\n",
    "ax2.scatter(max_features_rf,acc.values,alpha=0.8,c='darkorange',s=dot_size,lw=0,rasterized=True)\n",
    "\n",
    "ax2.set_xlim([0.28,0.52])\n",
    "ax2.set_xticks([0.3,0.4,0.5])\n",
    "ax2.set_yticks([])\n",
    "# ax2.spines['left'].set_visible(False)\n",
    "\n",
    "ax_ =[ax1,ax2]\n",
    "x_label = ['Min. samples leaf',' Max. features']\n",
    "ax1.set_ylabel('Accucacy/ F1 Score',labelpad=1.5,fontsize=5)\n",
    "ax1.tick_params(axis='both', labelsize=4,length=2,width=0.5)\n",
    "ax2.tick_params(axis='both', labelsize=4,length=2,width=0.5)\n",
    "\n",
    "for i,a in enumerate(ax_):\n",
    "    a.spines['top'].set_visible(False)\n",
    "    a.spines['right'].set_visible(False)\n",
    "\n",
    "    a.set_xlabel(x_label[i],fontsize=5)\n",
    "    a.spines['left'].set_linewidth(0.5)\n",
    "    a.spines['bottom'].set_linewidth(0.5)\n",
    "    a.tick_params(axis='x', which='major', pad=0.9)\n",
    "\n",
    "    \n",
    "plt.subplots_adjust(wspace=0.1)\n",
    "\n",
    "# fname = ofolder +'fig/FIG/v2/rasterized/Acc_f1.svg'\n",
    "# plt.savefig(fname, format=\"svg\", dpi=300, bbox_inches='tight',transparent=True)\n",
    "\n",
    "ax_size = [0.91,0,0,0]\n",
    "\n",
    "scatterm_mod.draw_legend(['darkorange','steelblue'],['Accucary','F1 score'],\\\n",
    "                        ax_size=ax_size,ms=1.2,labelspacing=0.3)"
   ]
  },
  {
   "cell_type": "code",
   "execution_count": 47,
   "metadata": {},
   "outputs": [],
   "source": [
    "with loompy.connect(kamath_dactrl,'r') as ds:\n",
    "    with loompy.connect(DA, 'r', validate=False) as ds_kim:\n",
    "\n",
    "        b00l = ds.ra.Selected==1\n",
    "        kamath_hvg_enrich = ds.ra.Gene[b00l]\n",
    "        \n",
    "        b = ds_kim.ra.Gene\n",
    "\n",
    "        a = kamath_hvg_enrich\n",
    "\n",
    "        tmp,one_iloc_a,one_iloc_b = own_utils.inter_gene(a,b)\n",
    "        \n",
    "        kim_mtx = np.zeros((len(kamath_hvg_enrich),ds_kim.shape[1]))\n",
    "        kim_mtx[one_iloc_a,:] = ds_kim[:,:][one_iloc_b,:]\n",
    "        kim_mtx = (kim_mtx.T)\n",
    "\n",
    "    # #     print(ds.ca.keys())\n",
    "\n",
    "        le.fit(np.unique(ds.ca['Cell_Type']))\n",
    "        labels = le.transform(ds.ca['Cell_Type']).astype('int')\n",
    "        labels_dict = dict(zip(np.unique(ds.ca['Cell_Type']),le.transform(np.unique(ds.ca['Cell_Type']))))\n",
    "\n",
    "        X = (ds[b00l.nonzero()[0],:]).T\n",
    "    #     X = Binarizer(threshold=3).fit_transform(X)\n",
    "        train_norm_log, df_test_log, normalizer = df_compare(X.T,kim_mtx.T)\n",
    "        X_train_norm = (own_utils.div0(train_norm_log,normalizer)).T\n",
    "        X_test_norm = (own_utils.div0(df_test_log,normalizer)).T\n",
    "\n",
    "        y = labels\n",
    "\n",
    "        RF_train_full = RandomForestClassifier(class_weight='balanced', max_features=0.3,\n",
    "                       min_samples_leaf=4, n_estimators=100, n_jobs=-1,\n",
    "                       oob_score=True, random_state=0)\n",
    "\n",
    "        RF_train_full.fit(X_train_norm,y)\n",
    "\n",
    "predicted = RF_train_full.predict(X_test_norm)"
   ]
  },
  {
   "cell_type": "code",
   "execution_count": 48,
   "metadata": {},
   "outputs": [],
   "source": [
    "predicted_proba = RF_train_full.predict_proba(X_test_norm)"
   ]
  },
  {
   "cell_type": "code",
   "execution_count": 49,
   "metadata": {
    "tags": []
   },
   "outputs": [],
   "source": [
    "inv_label_dict = {v: k for k, v in labels_dict.items()}\n"
   ]
  },
  {
   "cell_type": "markdown",
   "metadata": {},
   "source": [
    "## end"
   ]
  },
  {
   "cell_type": "code",
   "execution_count": 51,
   "metadata": {
    "tags": []
   },
   "outputs": [
    {
     "data": {
      "image/png": "[encoded data removed]",
      "text/html": [
       "<div style=\"vertical-align: middle;\"><strong>from_list</strong> </div><div class=\"cmap\"><img alt=\"from_list colormap\" title=\"from_list\" style=\"border: 1px solid #555;\" src=\"data:image/png;base64,iVBORw0KGgoAAAANSUhEUgAAAgAAAABACAYAAABsv8+/AAAAGHRFWHRUaXRsZQBmcm9tX2xpc3QgY29sb3JtYXBDL89FAAAAHnRFWHREZXNjcmlwdGlvbgBmcm9tX2xpc3QgY29sb3JtYXABtCnOAAAAMHRFWHRBdXRob3IATWF0cGxvdGxpYiB2My40LjEsIGh0dHBzOi8vbWF0cGxvdGxpYi5vcmeZO9WOAAAAMnRFWHRTb2Z0d2FyZQBNYXRwbG90bGliIHYzLjQuMSwgaHR0cHM6Ly9tYXRwbG90bGliLm9yZ7edSqkAAAG2SURBVHic7dZBTsMwFEBBp7kSV+UwXApuAGxMqzitCkv0ZjaRf4wddYHe9v7+8TUA/rGXt9cxxhjbNv+dzee2jcP8vH4yn+dfTvu/5nws6/X9/XMe7bs+x5P3y77L9vnLfcf9+5/fH+/Zx/171/n+83fjyfrn3uW+8/r+d9zOPX7/bf/xvPP+5b5H8+U7Hn3vPtbf5fh77qf5mPNxXF/n2zKf6zm/rueO2/7LfM592+VwDgAQIgAAIEgAAECQAACAIAEAAEECAACCBAAABAkAAAgSAAAQJAAAIEgAAECQAACAIAEAAEECAACCBAAABAkAAAgSAAAQJAAAIEgAAECQAACAIAEAAEECAACCBAAABAkAAAgSAAAQJAAAIEgAAECQAACAIAEAAEECAACCBAAABAkAAAgSAAAQJAAAIEgAAECQAACAIAEAAEECAACCBAAABAkAAAgSAAAQJAAAIEgAAECQAACAIAEAAEECAACCBAAABAkAAAgSAAAQJAAAIEgAAECQAACAIAEAAEECAACCBAAABAkAAAgSAAAQJAAAIEgAAECQAACAIAEAAEECAACCBAAABH0DuXNYh2A7VvYAAAAASUVORK5CYII=\"></div><div style=\"vertical-align: middle; max-width: 514px; display: flex; justify-content: space-between;\"><div style=\"float: left;\"><div title=\"#eeeeefff\" style=\"display: inline-block; width: 1em; height: 1em; margin: 0; vertical-align: middle; border: 1px solid #555; background-color: #eeeeefff;\"></div> under</div><div style=\"margin: 0 auto; display: inline-block;\">bad <div title=\"#00000000\" style=\"display: inline-block; width: 1em; height: 1em; margin: 0; vertical-align: middle; border: 1px solid #555; background-color: #00000000;\"></div></div><div style=\"float: right;\">over <div title=\"#fde725ff\" style=\"display: inline-block; width: 1em; height: 1em; margin: 0; vertical-align: middle; border: 1px solid #555; background-color: #fde725ff;\"></div></div>"
      ],
      "text/plain": [
       "<matplotlib.colors.ListedColormap at 0x1471383a3e90>"
      ]
     },
     "execution_count": 51,
     "metadata": {},
     "output_type": "execute_result"
    }
   ],
   "source": [
    "plt.cm.get_cmap('viridis')\n",
    "\n",
    "viridis = plt.cm.get_cmap('viridis', 256)\n",
    "newcolors = viridis(np.linspace(0, 1, 256))\n",
    "grey = (239/256, 239/256, 240/256,1)\n",
    "newcolors[:153, :] = grey\n",
    "newcmp = mcolors.ListedColormap(newcolors)\n",
    "newcmp"
   ]
  },
  {
   "cell_type": "code",
   "execution_count": 57,
   "metadata": {},
   "outputs": [
    {
     "name": "stdout",
     "output_type": "stream",
     "text": [
      "0 1\n",
      "25\n"
     ]
    },
    {
     "data": {
      "image/png": "[encoded data removed]",
      "text/plain": [
       "<Figure size 108x93.6 with 1 Axes>"
      ]
     },
     "execution_count": 57,
     "metadata": {},
     "output_type": "execute_result"
    },
    {
     "data": {
      "image/png": "[encoded data removed]",
      "text/plain": [
       "<Figure size 432x288 with 1 Axes>"
      ]
     },
     "metadata": {
      "needs_background": "light"
     },
     "output_type": "display_data"
    }
   ],
   "source": [
    "\n",
    "\n",
    "with loompy.connect(DA, 'r', validate=False) as ds:\n",
    "   \n",
    "    attr = np.max(predicted_proba,axis=1)\n",
    "    less = np.sum(predicted_proba<0.6,axis=1)==10\n",
    "\n",
    "    embedding = ds.ca.TSNE\n",
    "    cticks = np.array([0,0.6,1])\n",
    "#     plt.figure(None,(3,3))\n",
    "#    \n",
    "    umap = ds.ca.TSNE\n",
    "    tmp,colbar = mplot.factors(attr,umap,title='RF predicted \\ncell type probabilities',\\\n",
    "                                   figsize=(1.5,1.3),s=25,cmap =newcmp,vmin=0,vmax=1,\\\n",
    "\n",
    "                            return_cmap=True,with_legend=False\n",
    ")\n",
    "#     name = 'kamath_predict_grey_proba'\n",
    "#     fname = ofolder+f'fig/FIG/v2/rasterized/{name}.svg'\n",
    "#     tmp.savefig(fname, format=\"svg\", dpi=300, bbox_inches='tight',transparent=True)\n",
    "\n",
    "    scatterm_mod.draw_colorbar(colbar,cbar_fraction = 0.99,cticks = cticks,\n",
    "       ax_size=[0,0,0.01,0.1],\n",
    "            cbar_aspect = 10,\n",
    "            cbar_shrink = 1)\n",
    "#     fname = ofolder+f'fig/FIG/v2/rasterized/{name}_legend.svg'\n",
    "#     plt.savefig(fname, format=\"svg\", dpi=144, bbox_inches='tight',transparent =transparency)\n",
    "\n",
    "    \n",
    "\n",
    "tmp\n"
   ]
  },
  {
   "cell_type": "code",
   "execution_count": 59,
   "metadata": {},
   "outputs": [
    {
     "data": {
      "image/png": "[encoded data removed]",
      "text/plain": [
       "<Figure size 108x93.6 with 1 Axes>"
      ]
     },
     "execution_count": 59,
     "metadata": {},
     "output_type": "execute_result"
    }
   ],
   "source": [
    "with loompy.connect(DA, 'r', validate=False) as ds:\n",
    "   \n",
    "    attr = np.array([inv_label_dict[i] for i in predicted])\n",
    "    less = np.sum(predicted_proba<0.6,axis=1)==10\n",
    "\n",
    "    embedding = ds.ca.TSNE\n",
    "    \n",
    "    title = 'RF\\n predicted cell type'\n",
    "\n",
    "\n",
    "    tmp = mplot.factors(np.array([str(i) for i in attr]),embedding,title=title,cells=np.invert(less),figsize=(1.5,1.3),\\\n",
    "                         s=25,cmap =color_kamath,with_legend=False,annotated=False)\n",
    "    \n",
    "\n",
    "# name = 'kamath_predict_grey'\n",
    "# fname = ofolder+f'fig/FIG/v2/rasterized/{name}.svg'\n",
    "# tmp.savefig(fname, format=\"svg\", dpi=300, bbox_inches='tight',transparent=True)\n",
    "\n",
    "# ax_size = [0.35,1,0,0]\n",
    "# scatterm_mod.draw_legend(list(color_kamath.values()),order,ax_size=ax_size,ms=4)\n",
    "tmp"
   ]
  },
  {
   "cell_type": "code",
   "execution_count": 175,
   "metadata": {},
   "outputs": [
    {
     "data": {
      "text/plain": [
       "{'SOX6_GFRA2': array([0.9375    , 0.63671875, 0.99609375]),\n",
       " 'SOX6_AGTR1': array([0.        , 0.45703125, 0.859375  ]),\n",
       " 'SOX6_DDT': array([0.2578125, 0.3984375, 0.       ]),\n",
       " 'SOX6_PART1': array([0.99609375, 0.        , 0.0625    ]),\n",
       " 'CALB1_RBP4': array([0.3671875 , 0.94140625, 0.9453125 ]),\n",
       " 'CALB1_CRYM_CCDC68': array([0.        , 0.59765625, 0.55859375]),\n",
       " 'CALB1_TRHR': array([0.        , 0.19921875, 0.5       ]),\n",
       " 'CALB1_CALCR': array([0.99609375, 0.640625  , 0.01953125]),\n",
       " 'CALB1_PPP1R17': array([0.99609375, 0.65625   , 0.73046875]),\n",
       " 'CALB1_GEM': array([0.296875, 0.      , 0.359375])}"
      ]
     },
     "execution_count": 175,
     "metadata": {},
     "output_type": "execute_result"
    }
   ],
   "source": [
    "color_kamath"
   ]
  },
  {
   "cell_type": "code",
   "execution_count": 61,
   "metadata": {},
   "outputs": [
    {
     "data": {
      "text/plain": [
       "<Axes:>"
      ]
     },
     "execution_count": 61,
     "metadata": {},
     "output_type": "execute_result"
    },
    {
     "data": {
      "image/png": "[encoded data removed]",
      "text/plain": [
       "<Figure size 108x93.6 with 1 Axes>"
      ]
     },
     "metadata": {
      "needs_background": "light"
     },
     "output_type": "display_data"
    }
   ],
   "source": [
    "\n",
    "# ax_size = [0.91,0,0,0]\n",
    "\n",
    "# scatterm_mod.draw_legend(list(color_kamath.values()),order,ax_size=ax_size,ms=2.5,labelspacing=0.3)\n",
    "# fname = ofolder+f'fig/FIG/v2/{name}_legend.svg'\n",
    "# plt.savefig(fname, format=\"svg\", dpi=144, bbox_inches='tight')\n",
    "fig = plt.figure(None,(1.5,1.3))\n",
    "ax_size = [0.3,0.5,0,0]\n",
    "scatterm_mod.draw_legend(list(color_kamath.values()),list(color_kamath.keys()),ax_size=ax_size,ms=1.1,labelspacing=0.3)\n",
    "# name = 'kamath_predict_grey'\n",
    "# fname = ofolder+f'fig/FIG/v2/rasterized/{name}_legend.svg'\n",
    "# plt.savefig(fname, format=\"svg\", dpi=144, bbox_inches='tight',transparent=True)"
   ]
  },
  {
   "cell_type": "markdown",
   "metadata": {},
   "source": [
    "## integration"
   ]
  },
  {
   "cell_type": "code",
   "execution_count": 62,
   "metadata": {},
   "outputs": [],
   "source": [
    "import logging\n",
    "import warnings\n",
    "\n",
    "import community\n",
    "import networkx as nx\n",
    "import numpy as np\n",
    "import scipy.sparse as sparse\n",
    "from umap import UMAP\n",
    "from sklearn.manifold import TSNE\n",
    "from numba import NumbaPerformanceWarning, NumbaPendingDeprecationWarning\n",
    "from scipy.sparse import SparseEfficiencyWarning\n",
    "from pynndescent import NNDescent\n",
    "from sknetwork.clustering import Louvain\n",
    "\n",
    "import loompy\n",
    "from cytograph.annotation import CellCycleAnnotator\n",
    "from cytograph.clustering import UnpolishedLouvain, PolishedLouvain, PolishedSurprise\n",
    "from cytograph.decomposition import HPF, PCA\n",
    "from cytograph.embedding import art_of_tsne\n",
    "from cytograph.enrichment import FeatureSelectionByEnrichment, FeatureSelectionByVariance\n",
    "from cytograph.manifold import BalancedKNN\n",
    "from cytograph.metrics import jensen_shannon_distance\n",
    "from cytograph.manifold import PoissonPooling\n",
    "from cytograph.preprocessing import Normalizer\n",
    "from cytograph.species import Species\n",
    "\n",
    "\n",
    "import numpy_groupies as npg\n"
   ]
  },
  {
   "cell_type": "code",
   "execution_count": 64,
   "metadata": {},
   "outputs": [],
   "source": [
    "DA = '/proj/human_adult/20220222/harmony/by_cluster/data/harmony_A_A_EEEE.loom'\n"
   ]
  },
  {
   "cell_type": "code",
   "execution_count": 65,
   "metadata": {},
   "outputs": [],
   "source": [
    "with loompy.connect(kamath_dactrl,'r') as ds:\n",
    "    with loompy.connect(DA, 'r', validate=False) as ds_da:\n",
    "        intergene,ds_idx,ds_da_idx =np.intersect1d(ds.ra.Gene,ds_da.ra.Gene,return_indices=True)\n",
    "        \n",
    "        ixs_sort = own_utils.ixs_thatsort_a2b(ds.ra.Gene[ds_idx],ds_da.ra.Gene[ds_da_idx])"
   ]
  },
  {
   "cell_type": "code",
   "execution_count": 66,
   "metadata": {},
   "outputs": [
    {
     "name": "stdout",
     "output_type": "stream",
     "text": [
      "['A1BG' 'A1BG-AS1' 'A1CF' ... 'ZZEF1' 'ZZZ3' 'hsa-mir-1253']\n"
     ]
    }
   ],
   "source": [
    "with loompy.connect(kamath_dactrl,'r') as ds:\n",
    "    print(ds.ra.Gene[ds_idx][ixs_sort])"
   ]
  },
  {
   "cell_type": "code",
   "execution_count": 67,
   "metadata": {},
   "outputs": [
    {
     "name": "stdout",
     "output_type": "stream",
     "text": [
      "['A1BG' 'A1BG-AS1' 'A1CF' ... 'ZZEF1' 'ZZZ3' 'hsa-mir-1253']\n"
     ]
    }
   ],
   "source": [
    "with loompy.connect(DA,'r') as ds:\n",
    "    print(ds.ra.Gene[ds_da_idx])"
   ]
  },
  {
   "cell_type": "code",
   "execution_count": 76,
   "metadata": {},
   "outputs": [],
   "source": [
    "with loompy.connect(kamath_dactrl,'r') as ds:\n",
    "    mtx = ds[''][:][ds_idx,:][ixs_sort,:].astype(np.float64)\n",
    "    ra_items = dict()\n",
    "    for k,v in ds.ra.items():\n",
    "        ra_items[k] = v[ds_idx][ixs_sort]\n",
    "        \n",
    "    ca_items = dict()\n",
    "    for k,v in ds.ca.items():\n",
    "        ca_items[k] = v\n",
    "    \n",
    "    ca_items['Donor'] = ds.ca.donor_id\n",
    "    ca_items['Dataset'] = np.repeat('Kamath',ds.shape[1])\n",
    "    \n",
    "    loompy.create('/proj/user/kawai/adultda/data/kamath.loom',mtx,ra_items,ca_items)"
   ]
  },
  {
   "cell_type": "code",
   "execution_count": 84,
   "metadata": {},
   "outputs": [],
   "source": [
    "with loompy.connect(kim_DA,'r') as ds:\n",
    "    mtx = ds[''][:][ds_da_idx,:]\n",
    "    \n",
    "    ra_items = dict()\n",
    "    for k,v in ds.ra.items():\n",
    "        ra_items[k] = v[ds_da_idx]\n",
    "    ca_items = dict()\n",
    "    for k,v in ds.ca.items():\n",
    "        ca_items[k] = v\n",
    "    \n",
    "    ca_items['Dataset'] = np.repeat('Siletti',ds.shape[1])\n",
    "    \n",
    "    loompy.create('/proj/user/kawai/adultda/data/Siletti.loom',mtx,ra_items,ca_items)"
   ]
  },
  {
   "cell_type": "code",
   "execution_count": 250,
   "metadata": {},
   "outputs": [],
   "source": [
    "with loompy.connect(kamath,'r') as ds:\n",
    "    \n",
    "    b00l = np.isin(ds.ca.CellID,np.ravel(random_))\n",
    "    mtx = ds[''][:,b00l.nonzero()[0]].astype(np.float64)\n",
    "    \n",
    "    \n",
    "    ra_items = dict()\n",
    "    for k,v in ds.ra.items():\n",
    "        ra_items[k] = v\n",
    "    ca_items = dict()\n",
    "    for k,v in ds.ca.items():\n",
    "        ca_items[k] = v[b00l]\n",
    "        \n",
    "    \n",
    "    \n",
    "    loompy.create('/proj/user/kawai/adultda/data/kamath_random.loom',mtx,ra_items,ca_items)"
   ]
  },
  {
   "cell_type": "code",
   "execution_count": 327,
   "metadata": {},
   "outputs": [],
   "source": [
    "with loompy.connect(pool,'r') as ds:\n",
    "    \n",
    "    b00l = ds.ca.Clusters!=3\n",
    "    in_ = ds.ca.CellID[b00l]\n",
    "    \n",
    "with loompy.connect(kim_DA,'r') as ds:\n",
    "    b00l = np.isin(ds.ca.CellID,in_)\n",
    "    mtx = ds[''][:,b00l.nonzero()[0]].astype(np.float64)\n",
    "\n",
    "\n",
    "    ra_items = dict()\n",
    "    for k,v in ds.ra.items():\n",
    "        ra_items[k] = v\n",
    "    ca_items = dict()\n",
    "    for k,v in ds.ca.items():\n",
    "        ca_items[k] = v[b00l]\n",
    "\n",
    "    \n",
    "    \n",
    "    loompy.create('/proj/user/kawai/adultda/data/DAsplit.loom',mtx,ra_items,ca_items)"
   ]
  },
  {
   "cell_type": "code",
   "execution_count": 329,
   "metadata": {},
   "outputs": [
    {
     "name": "stderr",
     "output_type": "stream",
     "text": [
      "WARNING:root:╭── 'batch_scan_layers' is deprecated. Use 'scan' instead\n",
      "WARNING:root:╰──> at /home/kawai/miniconda3/envs/py37/lib/python3.7/site-packages/loompy/loompy.py, line 471\n"
     ]
    }
   ],
   "source": [
    "loompy.combine([DAsplit,kamath_random],'/proj/user/kawai/adultda/data/combine_DAsplit_random.loom', key=\"Gene\")"
   ]
  },
  {
   "cell_type": "code",
   "execution_count": 73,
   "metadata": {},
   "outputs": [],
   "source": [
    "kamath = '/proj/user/kawai/adultda/data/kamath.loom'\n",
    "DAsplit = '/proj/user/kawai/adultda/data/DAsplit.loom'\n",
    "kamath_random = '/proj/user/kawai/adultda/data/kamath_random.loom'\n",
    "combine_DAsplit_random = '/proj/user/kawai/adultda/data/combine_DAsplit_random.loom'\n",
    "pool = '/proj/user/kawai/DA/data/Pool_0.loom'\n"
   ]
  },
  {
   "cell_type": "code",
   "execution_count": 74,
   "metadata": {},
   "outputs": [],
   "source": [
    "from enrichment import feature_selection_by_variance\n",
    "from species.species import Species\n"
   ]
  },
  {
   "cell_type": "code",
   "execution_count": 75,
   "metadata": {},
   "outputs": [],
   "source": [
    "with loompy.connect(kamath) as ds:\n",
    "    nnz = ds.map([np.count_nonzero], axis=0)[0]\n",
    "    valid_genes = np.logical_and(nnz > 10, nnz < ds.shape[1] * 0.6)\n",
    "    ds.ra.Valid = valid_genes.astype('int')\n",
    "        \n",
    "    tomask=[\"sex\", \"ery\",'cellcycle','ieg','mt']\n",
    "    \n",
    "    mask = Species.detect(ds).mask\\\n",
    "                   (ds, tomask)\n",
    "\n",
    "    select_kamath = FeatureSelectionByVariance(2000, mask=mask).fit(ds)\n"
   ]
  },
  {
   "cell_type": "code",
   "execution_count": 76,
   "metadata": {},
   "outputs": [],
   "source": [
    "with loompy.connect(kamath,'r') as ds:\n",
    "    \n",
    "    cellid = ds.ca.CellID\n",
    "    cell_types = ds.ca.Cell_Type\n",
    "    uni_cell_type = np.unique(cell_types)\n",
    "    \n",
    "    random_ =[]\n",
    "    for i,v in enumerate(uni_cell_type):\n",
    "        b00l = cell_types==v\n",
    "        random_.append(np.random.choice(cellid,100))"
   ]
  },
  {
   "cell_type": "code",
   "execution_count": 77,
   "metadata": {},
   "outputs": [],
   "source": [
    "with loompy.connect(DAsplit) as ds:\n",
    "    nnz = ds.map([np.count_nonzero], axis=0)[0]\n",
    "    valid_genes = np.logical_and(nnz > 10, nnz < ds.shape[1] * 0.6)\n",
    "    ds.ra.Valid = valid_genes.astype('int')\n",
    "    \n",
    "    tomask=[\"sex\", \"ery\",'cellcycle','ieg','mt']\n",
    "    \n",
    "    mask = Species.detect(ds).mask\\\n",
    "                   (ds, tomask)\n",
    "\n",
    "    select_siletti = FeatureSelectionByVariance(2000, mask=mask).fit(ds)"
   ]
  },
  {
   "cell_type": "code",
   "execution_count": 331,
   "metadata": {
    "tags": []
   },
   "outputs": [
    {
     "name": "stdout",
     "output_type": "stream",
     "text": [
      "1012\n"
     ]
    },
    {
     "name": "stderr",
     "output_type": "stream",
     "text": [
      "/home/kawai/miniconda3/envs/py37/lib/python3.7/site-packages/sklearn/cluster/_kmeans.py:793: FutureWarning: 'n_jobs' was deprecated in version 0.23 and will be removed in 1.0 (renaming of 0.25).\n",
      "  \" removed in 1.0 (renaming of 0.25).\", FutureWarning)\n"
     ]
    },
    {
     "name": "stdout",
     "output_type": "stream",
     "text": [
      "\tInitialization is completed.\n",
      "\tCompleted 1 / 10 iteration(s).\n",
      "\tCompleted 2 / 10 iteration(s).\n",
      "\tCompleted 3 / 10 iteration(s).\n",
      "\tCompleted 4 / 10 iteration(s).\n",
      "\tCompleted 5 / 10 iteration(s).\n",
      "\tCompleted 6 / 10 iteration(s).\n",
      "\tCompleted 7 / 10 iteration(s).\n",
      "\tCompleted 8 / 10 iteration(s).\n",
      "\tCompleted 9 / 10 iteration(s).\n",
      "\tCompleted 10 / 10 iteration(s).\n"
     ]
    }
   ],
   "source": [
    "with loompy.connect(combine_DAsplit_random) as ds:\n",
    "    \n",
    "    k = 25\n",
    "    metric = 'euclidean'\n",
    "    graph = 'RNN'\n",
    "    \n",
    "    genes = np.all(np.vstack([select_kamath,select_siletti]),axis=0)\n",
    "    print(np.sum(genes))\n",
    "    normalizer = Normalizer(False)\n",
    "    normalizer.fit(ds)\n",
    "    n_components = 40\n",
    "    pca = PCA(genes, max_n_components=n_components, layer='', test_significance=False, batch_keys=['Donor'])\n",
    "    ds.ca.PCA = pca.fit_transform(ds, normalizer)\n",
    "    \n",
    "    transformed = ds.ca.PCA\n",
    "    \n",
    "    bnn = BalancedKNN(k=k, metric=metric, maxl=2 * k, sight_k=2 * k, n_jobs=-1)\n",
    "    bnn.fit(transformed)\n",
    "    knn = bnn.kneighbors_graph(mode='distance')\n",
    "    knn.eliminate_zeros()\n",
    "    mknn = knn.minimum(knn.transpose())\n",
    "    # Convert distances to similarities\n",
    "    max_d = knn.data.max()\n",
    "    knn.data = (max_d - knn.data) / max_d\n",
    "    mknn.data = (max_d - mknn.data) / max_d\n",
    "    ds.col_graphs.KNN = knn\n",
    "    ds.col_graphs.MKNN = mknn\n",
    "    mknn = mknn.tocoo()\n",
    "    mknn.setdiag(0)\n",
    "    # Compute the effective resolution\n",
    "    d = 1 - knn.data\n",
    "    radius = np.percentile(d, 90)\n",
    "    logging.info(f\"  90th percentile radius: {radius:.02}\")\n",
    "    ds.attrs.radius = radius\n",
    "    inside = mknn.data > 1 - radius\n",
    "    rnn = sparse.coo_matrix((mknn.data[inside], (mknn.row[inside], mknn.col[inside])), shape=mknn.shape)\n",
    "    ds.col_graphs.RNN = rnn\n",
    "    \n",
    "    ds.ca.TSNE = np.array(art_of_tsne(ds.ca.PCA, metric=metric)) \n",
    "    \n",
    "    pl = UnpolishedLouvain(graph=graph, embedding=\"PCA\")\n",
    "    labels = pl.fit_predict(ds)\n",
    "    ds.ca.Clusters_l = labels + min(labels)\n",
    "  "
   ]
  },
  {
   "cell_type": "code",
   "execution_count": 78,
   "metadata": {},
   "outputs": [],
   "source": [
    "pool_dict = {0:'SOX6 PART1, GFRA2',\n",
    "            1: 'SOX6 AGTR1',\n",
    "            2: 'SOX6 LPL',\n",
    "            3: 'doublets',\n",
    "            4: 'CALB1 CERKL',\n",
    "            5: 'GAD2 CALCRL',\n",
    "            6: 'GAD2 EBF2',\n",
    "            7: 'CALB1 PRLHR',\n",
    "            8: 'CALB1 CRYM, CALCR',\n",
    "            9: 'CALB1 NEUROD6, PPP1R17',\n",
    "            10: 'CALB1 PAX5',\n",
    "            11: 'CALB1 SEMA3D, GEM',\n",
    "            12: 'CALB1 NPW',\n",
    "            13: 'CALB1 GCGR',\n",
    "            14: 'CALB1 VIP'}"
   ]
  },
  {
   "cell_type": "code",
   "execution_count": 80,
   "metadata": {},
   "outputs": [
    {
     "data": {
      "image/png": "[encoded data removed]",
      "text/plain": [
       "<Figure size 360x360 with 2 Axes>"
      ]
     },
     "execution_count": 80,
     "metadata": {},
     "output_type": "execute_result"
    }
   ],
   "source": [
    "with loompy.connect(pool, 'r') as ds:\n",
    "    attr_ = dict(zip(ds.ca.CellID,ds.ca.Clusters))\n",
    "    \n",
    "with loompy.connect(DA,'r') as ds:\n",
    "        \n",
    "    embed = ds.ca.TSNE\n",
    "    attr =[]\n",
    "    for i in ds.ca.CellID:\n",
    "        if i in attr_.keys():\n",
    "            attr.append(attr_[i])\n",
    "        else:\n",
    "            attr.append('')\n",
    "#     attr = ds.ca.Clusters\n",
    "    attr = np.array([str(i) for i in attr])\n",
    "    embedding = ds.ca.TSNE\n",
    "\n",
    "#     attr = attr =='CALB1_GEM'\n",
    "    tmp = mplot.factors(attr,embedding,figsize=(5,5),\\\n",
    "                         s=20)\n",
    "tmp"
   ]
  },
  {
   "cell_type": "code",
   "execution_count": 81,
   "metadata": {},
   "outputs": [
    {
     "data": {
      "image/png": "[encoded data removed]",
      "text/plain": [
       "<Figure size 108x93.6 with 1 Axes>"
      ]
     },
     "execution_count": 81,
     "metadata": {},
     "output_type": "execute_result"
    }
   ],
   "source": [
    "with loompy.connect(pool, 'r') as ds:\n",
    "    attr = [pool_dict[i] for i in ds.ca.Clusters]\n",
    "    attr_ = dict(zip(ds.ca.CellID,ds.ca.Clusters))\n",
    "    \n",
    "with loompy.connect(combine_DAsplit_random,'r') as ds:\n",
    "        \n",
    "    embed = ds.ca.TSNE\n",
    "    attr =[]\n",
    "    for i in ds.ca.CellID:\n",
    "        if i in attr_.keys():\n",
    "            attr.append(attr_[i])\n",
    "        else:\n",
    "            attr.append('')\n",
    "    attr = np.array([str(i) for i in attr])\n",
    "    embedding = ds.ca.TSNE\n",
    "    cluster_cmap[''] = [0.8274509803921568, 0.8274509803921568, 0.8274509803921568, 1.0]\n",
    "    tmp = mplot.factors(attr,embedding,figsize=(1.5,1.3),\n",
    "                         s=7,with_legend=False,annotated=False,cmap=cluster_cmap)\n",
    "    \n",
    "    \n",
    "# name = 'harmonized_DA'\n",
    "# fname = ofolder+f'fig/FIG/v2/rasterized/{name}.svg'\n",
    "# tmp.savefig(fname, format=\"svg\", dpi=300, bbox_inches='tight',transparent=True)\n",
    "\n",
    "tmp"
   ]
  },
  {
   "cell_type": "code",
   "execution_count": 82,
   "metadata": {},
   "outputs": [],
   "source": [
    "col_bar_ = dict()\n",
    "for k,v in cluster_cmap.items():\n",
    "    if k=='':\n",
    "        continue\n",
    "    key = pool_dict[int(k)]  \n",
    "    if key =='doublets':\n",
    "        continue\n",
    "    col_bar_[key] = v\n"
   ]
  },
  {
   "cell_type": "code",
   "execution_count": 83,
   "metadata": {},
   "outputs": [],
   "source": [
    "order = ['SOX6 PART1, GFRA2', \n",
    "'SOX6 AGTR1',  \n",
    "'SOX6 LPL', \n",
    "'CALB1 CERKL',\n",
    "'CALB1 PAX5', \n",
    "'CALB1 SEMA3D, GEM',\n",
    "'CALB1 PRLHR', \n",
    "'CALB1 CRYM, CALCR', \n",
    "'CALB1 NEUROD6, PPP1R17',\n",
    "'CALB1 NPW', \n",
    "'CALB1 GCGR', \n",
    "'CALB1 VIP',\n",
    "'GAD2 CALCRL', \n",
    "'GAD2 EBF2']\n",
    "\n",
    "ixs = own_utils.ixs_thatsort_a2b(list(col_bar_.keys()),order)"
   ]
  },
  {
   "cell_type": "code",
   "execution_count": 84,
   "metadata": {},
   "outputs": [
    {
     "data": {
      "text/plain": [
       "<Axes:>"
      ]
     },
     "execution_count": 84,
     "metadata": {},
     "output_type": "execute_result"
    },
    {
     "data": {
      "image/png": "[encoded data removed]",
      "text/plain": [
       "<Figure size 108x93.6 with 1 Axes>"
      ]
     },
     "metadata": {
      "needs_background": "light"
     },
     "output_type": "display_data"
    }
   ],
   "source": [
    "figsize =(1.5, 1.3)\n",
    "fig = plt.figure(None,figsize)  \n",
    "\n",
    "ax_size = [0.91,0,0.01,0.01]\n",
    "scatterm_mod.draw_legend(np.array(list(col_bar_.values()))[ixs],np.array(list(col_bar_.keys()))[ixs],\\\n",
    "                         ax_size=ax_size,fontsize=5,\n",
    "                         ms=0.8,labelspacing=0,marker='s')\n",
    "\n",
    "\n",
    "# fname = ofolder+f'fig/FIG/v2/rasterized/{name}_legend.svg'\n",
    "# plt.savefig(fname, format=\"svg\", dpi=144, bbox_inches='tight')\n"
   ]
  },
  {
   "cell_type": "code",
   "execution_count": 85,
   "metadata": {},
   "outputs": [
    {
     "data": {
      "image/png": "[encoded data removed]",
      "text/plain": [
       "<Figure size 108x93.6 with 1 Axes>"
      ]
     },
     "execution_count": 85,
     "metadata": {},
     "output_type": "execute_result"
    }
   ],
   "source": [
    "with loompy.connect(kamath_random, 'r') as ds:\n",
    "    attr_ = dict(zip(ds.ca.CellID,ds.ca.Cell_Type))\n",
    "    \n",
    "with loompy.connect(combine_DAsplit_random,'r') as ds:\n",
    "        \n",
    "    embed = ds.ca.TSNE\n",
    "    attr =[]\n",
    "    for i in ds.ca.CellID:\n",
    "        if i in attr_.keys():\n",
    "            attr.append(attr_[i])\n",
    "        else:\n",
    "            attr.append('')\n",
    "    attr = np.array([str(i) for i in attr])\n",
    "    embedding = ds.ca.TSNE\n",
    "    color_kamath[''] = [0.8274509803921568, 0.8274509803921568, 0.8274509803921568, 1.0]\n",
    "    tmp = mplot.factors(attr,embedding,figsize=(1.5,1.3),\\\n",
    "                     s=7,with_legend=False,annotated=False,cmap = color_kamath)\n",
    "    \n",
    "    \n",
    "# name = 'harmonized_kamath'\n",
    "# fname = ofolder+f'fig/FIG/v2/rasterized/{name}.svg'\n",
    "# tmp.savefig(fname, format=\"svg\", dpi=300, bbox_inches='tight',transparent=True)\n",
    "\n",
    "tmp\n"
   ]
  },
  {
   "cell_type": "code",
   "execution_count": 86,
   "metadata": {},
   "outputs": [
    {
     "name": "stderr",
     "output_type": "stream",
     "text": [
      "/home/kawai/miniconda3/envs/py37/lib/python3.7/site-packages/ipykernel_launcher.py:5: VisibleDeprecationWarning: Creating an ndarray from ragged nested sequences (which is a list-or-tuple of lists-or-tuples-or ndarrays with different lengths or shapes) is deprecated. If you meant to do this, you must specify 'dtype=object' when creating the ndarray.\n",
      "  \"\"\"\n"
     ]
    },
    {
     "data": {
      "text/plain": [
       "<Axes:>"
      ]
     },
     "execution_count": 86,
     "metadata": {},
     "output_type": "execute_result"
    },
    {
     "data": {
      "image/png": "[encoded data removed]",
      "text/plain": [
       "<Figure size 108x93.6 with 1 Axes>"
      ]
     },
     "metadata": {
      "needs_background": "light"
     },
     "output_type": "display_data"
    }
   ],
   "source": [
    "figsize =(1.5, 1.3)\n",
    "fig = plt.figure(None,figsize)  \n",
    "\n",
    "ax_size = [0.91,0,0.01,0.01]\n",
    "scatterm_mod.draw_legend(np.array(list(color_kamath.values()))[:-1],np.array(list(color_kamath.keys()))[:-1],\\\n",
    "                         ax_size=ax_size,fontsize=5,\n",
    "                         ms=0.9,labelspacing=0,marker='s')\n",
    "\n",
    "\n",
    "# fname = ofolder+f'fig/FIG/v2/rasterized/{name}_legend.svg'\n",
    "# plt.savefig(fname, format=\"svg\", dpi=144, bbox_inches='tight')\n"
   ]
  },
  {
   "cell_type": "code",
   "execution_count": 99,
   "metadata": {},
   "outputs": [
    {
     "name": "stdout",
     "output_type": "stream",
     "text": [
      "(array([ 0,  1,  2,  3,  4,  5,  6,  7,  8,  9, 10, 11, 12, 13, 14]), array([241, 120, 210,  61, 108, 157,  46, 106, 146, 110, 102,  95,  94,\n",
      "        98, 240])) 24\n"
     ]
    }
   ],
   "source": [
    "with loompy.connect(combine_DAsplit_random,'r') as ds:\n",
    "    with loompy.connect(kamath_random, 'r') as ds_kamath:\n",
    "        attr_kamath = dict(zip(ds_kamath.ca.CellID,ds_kamath.ca.Cell_Type))\n",
    "    with loompy.connect(pool,'r') as ds_siletti:\n",
    "        attr = [pool_dict[i] for i in ds_siletti.ca.Clusters]\n",
    "        attr_siletti = dict(zip(ds_siletti.ca.CellID,attr))\n",
    "    \n",
    "    attr = []\n",
    "    for i,v in enumerate(ds.ca.CellID):\n",
    "        if v in list(attr_kamath.keys()):\n",
    "            attr.append(attr_kamath[v])\n",
    "        else:\n",
    "            attr.append(attr_siletti[v])\n",
    "            \n",
    "    uni_clu = np.unique(attr)\n",
    "    uni_clu_le = le.fit(np.unique(attr)).transform(attr)\n",
    "    \n",
    "    print(np.unique(ds.ca.Clusters_l,return_counts=True),len(uni_clu))\n",
    "    \n",
    "        \n",
    "    ctype_by_clu = dict()\n",
    "    ctype_by_cell = np.zeros((len(np.unique(ds.ca.Clusters_l)),ds.shape[1]))\n",
    "\n",
    "    for i,v in enumerate(np.unique(ds.ca.Clusters_l)):\n",
    "        ctype_by_clu[v] = npg.aggregate_np(uni_clu_le, (ds.ca.Clusters_l==v).astype('int'), func=\"sum\", fill_value=0) \n",
    "        ctype_by_cell[i,:] =  (ds.ca.Clusters_l==v).astype('int')\n",
    "    "
   ]
  },
  {
   "cell_type": "code",
   "execution_count": 100,
   "metadata": {},
   "outputs": [],
   "source": [
    "order = ['SOX6 PART1, GFRA2', \n",
    "'SOX6 AGTR1',  \n",
    "'SOX6 LPL', \n",
    "'CALB1 CERKL',\n",
    "'CALB1 PAX5', \n",
    "'CALB1 SEMA3D, GEM',\n",
    "'CALB1 PRLHR', \n",
    "'CALB1 CRYM, CALCR', \n",
    "'CALB1 NEUROD6, PPP1R17',\n",
    "'CALB1 NPW', \n",
    "'CALB1 GCGR', \n",
    "'CALB1 VIP',\n",
    "'GAD2 CALCRL', \n",
    "'GAD2 EBF2','SOX6_GFRA2',\n",
    "'SOX6_AGTR1', 'SOX6_DDT', \n",
    "'SOX6_PART1', 'CALB1_RBP4', \n",
    "'CALB1_CRYM_CCDC68', 'CALB1_TRHR', \n",
    "'CALB1_CALCR', 'CALB1_PPP1R17', 'CALB1_GEM']\n",
    "\n",
    "order = dict(zip(order,np.arange(len(order))))"
   ]
  },
  {
   "cell_type": "code",
   "execution_count": 101,
   "metadata": {
    "tags": []
   },
   "outputs": [],
   "source": [
    "attr_ordered = []\n",
    "for i,v in enumerate(attr):\n",
    "    attr_ordered.append((v,i,order[v]))\n",
    "\n",
    "sorted_idx_ = sorted(attr_ordered, key=lambda attr_ordered: attr_ordered[2])\n",
    "sorted_idx = []\n",
    "counter_dict = dict()\n",
    "for i,v in enumerate(sorted_idx_):\n",
    "    sorted_idx.append(v[1])\n",
    "ctype_by_cell_sorted = ctype_by_cell[:,sorted_idx]"
   ]
  },
  {
   "cell_type": "code",
   "execution_count": 102,
   "metadata": {},
   "outputs": [],
   "source": [
    "uni_clu_col_dict = dict()\n",
    "for i,v in enumerate(uni_clu):\n",
    "    if v in list(col_bar_.keys()):\n",
    "        uni_clu_col_dict[v] = col_bar_[v]\n",
    "    else:\n",
    "        uni_clu_col_dict[v] = color_kamath[v]\n",
    "        \n",
    "u,c = np.unique(np.array(attr)[sorted_idx],return_counts=True)\n",
    "counter_dict = dict(zip(u,c))\n"
   ]
  },
  {
   "cell_type": "code",
   "execution_count": 103,
   "metadata": {},
   "outputs": [],
   "source": [
    "# 17 uni color+15\n",
    "\n",
    "attr_ = ctype_by_cell_sorted.shape[0]+21\n",
    "celltype_color = mplot.colorize(np.arange(attr_))\n",
    "\n",
    "\n",
    "harmonized_clu_col = celltype_color[np.where(np.sum(np.isin(celltype_color,list(uni_clu_col_dict.values())),axis=1)!=3)[0]]"
   ]
  },
  {
   "cell_type": "code",
   "execution_count": 97,
   "metadata": {},
   "outputs": [
    {
     "data": {
      "text/plain": [
       "(15, 1934)"
      ]
     },
     "execution_count": 97,
     "metadata": {},
     "output_type": "execute_result"
    }
   ],
   "source": [
    "ctype_by_cell_sorted.shape"
   ]
  },
  {
   "cell_type": "code",
   "execution_count": 105,
   "metadata": {},
   "outputs": [
    {
     "data": {
      "image/png": "[encoded data removed]",
      "text/plain": [
       "<Figure size 360x324 with 3 Axes>"
      ]
     },
     "metadata": {
      "needs_background": "light"
     },
     "output_type": "display_data"
    }
   ],
   "source": [
    "fig = plt.figure(figsize=(5, 4.5))\n",
    "gs = fig.add_gridspec(2, 2,  width_ratios=(1, 30), height_ratios=(1, 20),\n",
    "                     \n",
    "                      wspace=0.05, hspace=0.05)\n",
    "\n",
    "ncells = ctype_by_cell_sorted.shape[1]\n",
    "nclusters = ctype_by_cell_sorted.shape[0]\n",
    "# Create the Axes.\n",
    "ax = fig.add_subplot(gs[1, 1])\n",
    "ax_0 = fig.add_subplot(gs[0, 1], sharex=ax)\n",
    "d = np.array([uni_clu_col_dict[i] for i in np.array(attr)[sorted_idx]]) \n",
    "ax_0.imshow(np.expand_dims(d, axis=0), aspect='auto', interpolation='nearest',origin=\"upper\",\\\n",
    "           extent =(0,ncells,1,0), rasterized=True)\n",
    "plt.axis(\"off\")\n",
    "\n",
    "ax_1 = fig.add_subplot(gs[1, 0],sharey=ax)\n",
    "d = np.array(harmonized_clu_col)[::-1]\n",
    "ax_1.imshow(np.expand_dims(d, axis=1), aspect='auto', interpolation='nearest',origin=\"upper\",\\\n",
    "            extent =(0,1,-0.5,nclusters-0.5), rasterized=True)\n",
    "plt.axis(\"off\")\n",
    "\n",
    "ax.imshow(ctype_by_cell_sorted, cmap=plt.cm.bone_r,vmin=0, vmax=1, origin=\"upper\",\\\n",
    "           interpolation=\"nearest\", aspect=\"auto\", alpha=1,  resample=False)\n",
    "plt.yticks([])\n",
    "plt.xticks([])\n",
    "name = 'harmonized_bin'\n",
    "fname = ofolder+f'fig/FIG/v2/rasterized/{name}_big.svg'\n",
    "plt.savefig(fname, format=\"svg\", dpi=300, bbox_inches='tight',transparent=True)\n",
    "\n"
   ]
  },
  {
   "cell_type": "code",
   "execution_count": 93,
   "metadata": {},
   "outputs": [],
   "source": [
    "key = [str(i) for i in np.arange(len(harmonized_clu_col))]\n",
    "harmonized_clu_col_dict = dict(zip(key,harmonized_clu_col))"
   ]
  },
  {
   "cell_type": "code",
   "execution_count": 94,
   "metadata": {},
   "outputs": [
    {
     "data": {
      "text/plain": [
       "{'0': array([0.578125  , 0.99609375, 0.70703125]),\n",
       " '1': array([0.875     , 0.99609375, 0.3984375 ]),\n",
       " '2': array([0.453125  , 0.0390625 , 0.99609375]),\n",
       " '3': array([0.99609375, 0.3125    , 0.01953125]),\n",
       " '4': array([0.96875   , 0.81835938, 0.99804688]),\n",
       " '5': array([0.5       , 0.72851562, 0.9296875 ]),\n",
       " '6': array([0.79882812, 0.62304688, 0.5       ]),\n",
       " '7': array([0.6484375, 0.5      , 0.6796875]),\n",
       " '8': array([0.5       , 0.6796875 , 0.59570312]),\n",
       " '9': array([0.58398438, 0.90234375, 0.640625  ]),\n",
       " '10': array([0.99804688, 0.8984375 , 0.79882812]),\n",
       " '11': array([0.75, 0.75, 0.75]),\n",
       " '12': array([0.7890625 , 0.99804688, 0.85351562]),\n",
       " '13': array([0.77929688, 0.7421875 , 0.5       ]),\n",
       " '14': array([0.80664062, 0.8984375 , 0.5       ])}"
      ]
     },
     "execution_count": 94,
     "metadata": {},
     "output_type": "execute_result"
    }
   ],
   "source": [
    "harmonized_clu_col_dict"
   ]
  },
  {
   "cell_type": "code",
   "execution_count": 95,
   "metadata": {},
   "outputs": [
    {
     "data": {
      "image/png": "[encoded data removed]",
      "text/plain": [
       "<Figure size 108x93.6 with 1 Axes>"
      ]
     },
     "execution_count": 95,
     "metadata": {},
     "output_type": "execute_result"
    }
   ],
   "source": [
    "with loompy.connect(combine_DAsplit_random,'r') as ds:\n",
    "        \n",
    "    embedding = ds.ca.TSNE\n",
    "    \n",
    "    attr = np.array([str(i) for i in ds.ca.Clusters_l])\n",
    "    \n",
    "    tmp = mplot.factors(attr,embedding,figsize=(1.5,1.3),\\\n",
    "                         s=7,cmap = harmonized_clu_col_dict,with_legend=False,annotated=False)\n",
    "    \n",
    "    \n",
    "# name = 'harmonized_clusters_l'\n",
    "# fname = ofolder+f'fig/FIG/v2/rasterized/{name}.svg'\n",
    "# tmp.savefig(fname, format=\"svg\", dpi=300, bbox_inches='tight',transparent=True)\n",
    "\n",
    "tmp\n"
   ]
  }
 ],
 "metadata": {
  "kernelspec": {
   "display_name": "py377",
   "language": "python",
   "name": "py377"
  },
  "language_info": {
   "codemirror_mode": {
    "name": "ipython",
    "version": 3
   },
   "file_extension": ".py",
   "mimetype": "text/x-python",
   "name": "python",
   "nbconvert_exporter": "python",
   "pygments_lexer": "ipython3",
   "version": "3.7.7"
  }
 },
 "nbformat": 4,
 "nbformat_minor": 4
}
