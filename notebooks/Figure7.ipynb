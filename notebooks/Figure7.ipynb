{
 "cells": [
  {
   "cell_type": "code",
   "execution_count": 1,
   "id": "b3b99366-34c1-4e65-866a-a5d6f0915813",
   "metadata": {
    "execution": {
     "iopub.execute_input": "2022-08-15T01:00:36.843198Z",
     "iopub.status.busy": "2022-08-15T01:00:36.842714Z",
     "iopub.status.idle": "2022-08-15T01:00:59.543880Z",
     "shell.execute_reply": "2022-08-15T01:00:59.542985Z",
     "shell.execute_reply.started": "2022-08-15T01:00:36.843076Z"
    }
   },
   "outputs": [],
   "source": [
    "import loompy\n",
    "import numpy as np\n",
    "import pandas as pd\n",
    "import matplotlib\n",
    "import matplotlib.pyplot as plt\n",
    "import os\n",
    "from cytograph.pipeline import load_config, PunchcardDeck\n",
    "from cytograph.plotting import colorize\n",
    "from cytograph.embedding import art_of_tsne\n",
    "from cytograph.visualization import scatterm\n",
    "from cytograph.species import Species\n",
    "from urllib.request import urlretrieve\n",
    "from sknetwork.hierarchy import cut_straight\n",
    "import scipy.cluster.hierarchy as hc\n",
    "import numpy_groupies as npg\n",
    "from sklearn.preprocessing import StandardScaler\n",
    "from scipy.spatial.distance import pdist\n",
    "from scipy import sparse\n",
    "import seaborn\n",
    "import matplotlib as mpl\n",
    "import gget\n",
    "import pickle\n",
    "import networkx as nx\n",
    "\n",
    "# suppress INFO\n",
    "import logging\n",
    "logger = logging.getLogger()\n",
    "logger.setLevel(logging.CRITICAL)\n",
    "\n",
    "# make font changeable in Illustrator\n",
    "mpl.rcParams['pdf.fonttype'] = 42\n",
    "\n",
    "# save figure with no pad\n",
    "mpl.rcParams['savefig.pad_inches'] = 0\n",
    "mpl.rcParams['savefig.bbox'] = 'tight'\n",
    "\n",
    "# set axes width\n",
    "mpl.rcParams['axes.linewidth'] = 0.2\n",
    "mpl.rcParams['xtick.minor.pad'] = 0\n",
    "mpl.rcParams['xtick.major.pad'] = 0\n",
    "mpl.rcParams['ytick.minor.pad'] = 0\n",
    "mpl.rcParams['ytick.major.pad'] = 0\n",
    "mpl.rcParams['xtick.minor.width'] = 0.2\n",
    "mpl.rcParams['xtick.major.width'] = 0.2\n",
    "mpl.rcParams['ytick.minor.width'] = 0.2\n",
    "mpl.rcParams['ytick.major.width'] = 0.2\n",
    "\n",
    "# use colorblind seaborn style\n",
    "plt.style.use('seaborn-colorblind')\n",
    "\n",
    "# colors for ROI Groups\n",
    "color_dict = dict(\n",
    "    zip(\n",
    "        [\"Cerebral cortex\", \"Hippocampus\", \"Cerebral nuclei\", \"Hypothalamus\", \"Thalamus\", \"Midbrain\", \"Pons\", \"Cerebellum\", \"Myelencephalon\", \"Spinal cord\"],\n",
    "        ['#4682f0', '#8eb7d1', '#89d8e0', '#f28e37', '#e7bc1f', '#43ad78', '#a7236e', '#ed5f8e', '#955ba5', '#eec2a4']\n",
    "    )\n",
    ")"
   ]
  },
  {
   "cell_type": "markdown",
   "id": "1721fa47-f1f7-47fa-814a-07905267c1e1",
   "metadata": {},
   "source": [
    "- OPC / astrocyte distribution\n",
    "- classifier on ROI accuracy for all superclusters "
   ]
  },
  {
   "cell_type": "code",
   "execution_count": null,
   "id": "4a677698-ff91-4167-8392-ce3b04eeca5e",
   "metadata": {},
   "outputs": [],
   "source": []
  },
  {
   "cell_type": "code",
   "execution_count": null,
   "id": "bcd3c722-e4f7-403b-8617-15da7e6e6374",
   "metadata": {},
   "outputs": [],
   "source": []
  }
 ],
 "metadata": {
  "kernelspec": {
   "display_name": "Python 3 (ipykernel)",
   "language": "python",
   "name": "python3"
  },
  "language_info": {
   "codemirror_mode": {
    "name": "ipython",
    "version": 3
   },
   "file_extension": ".py",
   "mimetype": "text/x-python",
   "name": "python",
   "nbconvert_exporter": "python",
   "pygments_lexer": "ipython3",
   "version": "3.9.12"
  }
 },
 "nbformat": 4,
 "nbformat_minor": 5
}
