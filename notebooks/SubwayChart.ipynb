{
 "cells": [
  {
   "cell_type": "code",
   "execution_count": 2,
   "metadata": {},
   "outputs": [
    {
     "name": "stderr",
     "output_type": "stream",
     "text": [
      "2019-03-25 16:22:02,579 DEBUG: backend module://ipykernel.pylab.backend_inline version unknown\n"
     ]
    }
   ],
   "source": [
    "%config InlineBackend.figure_format = 'retina'\n",
    "%matplotlib inline\n",
    "import sys\n",
    "import os\n",
    "import numpy as np\n",
    "import matplotlib\n",
    "import matplotlib.pyplot as plt\n",
    "import loompy\n",
    "import velocyto as vcy\n",
    "import logging\n",
    "from sklearn.svm import SVR\n",
    "from sklearn.linear_model import LinearRegression\n",
    "from statsmodels.nonparametric.smoothers_lowess import lowess\n",
    "from scipy.interpolate import interp1d\n",
    "import cytograph as cg\n",
    "import loompy\n",
    "import numpy as np\n",
    "import scipy.sparse as sparse\n",
    "import torch\n",
    "from torch.distributions.poisson import Poisson\n",
    "from torch.autograd import Variable\n",
    "from torch.nn import MSELoss\n",
    "from tqdm import trange\n",
    "from types import SimpleNamespace\n",
    "from matplotlib.colors import Normalize\n",
    "from matplotlib.collections import LineCollection"
   ]
  },
  {
   "cell_type": "code",
   "execution_count": 23,
   "metadata": {},
   "outputs": [
    {
     "name": "stdout",
     "output_type": "stream",
     "text": [
      "0.0\n"
     ]
    }
   ],
   "source": [
    "with loompy.connect(\"/Users/stelin/20190322/CephalicFiltered.loom\") as ds:\n",
    "    print(ds[ds.ra.Gene == \"mt-Nd6\", :].sum())"
   ]
  },
  {
   "cell_type": "code",
   "execution_count": 24,
   "metadata": {},
   "outputs": [
    {
     "data": {
      "text/plain": [
       "['mt-Nd6',\n",
       " 'mt-Atp8',\n",
       " 'mt-Cytb',\n",
       " 'mt-Co3',\n",
       " 'mt-Nd3',\n",
       " 'mt-Atp6',\n",
       " 'mt-Co2',\n",
       " 'mt-Nd4',\n",
       " 'mt-Nd1',\n",
       " 'mt-Nd5',\n",
       " 'mt-Co1',\n",
       " 'mt-Nd2',\n",
       " 'mt-Nd4l']"
      ]
     },
     "execution_count": 24,
     "metadata": {},
     "output_type": "execute_result"
    }
   ],
   "source": [
    "[g for g in genes if g.startswith(\"mt\")]"
   ]
  },
  {
   "cell_type": "code",
   "execution_count": 26,
   "metadata": {},
   "outputs": [
    {
     "data": {
      "text/plain": [
       "True"
      ]
     },
     "execution_count": 26,
     "metadata": {},
     "output_type": "execute_result"
    }
   ],
   "source": [
    "int(\"E9\"[1:]) < int(\"E12\"[1:])"
   ]
  },
  {
   "cell_type": "code",
   "execution_count": 29,
   "metadata": {},
   "outputs": [],
   "source": [
    "cortex = np.loadtxt(\"/Users/stelin/Downloads/sourcedata/cortex_svz_counts.csv\", delimiter=\",\", skiprows=1)"
   ]
  },
  {
   "cell_type": "code",
   "execution_count": 30,
   "metadata": {},
   "outputs": [],
   "source": [
    "with open(\"/Users/stelin/Downloads/sourcedata/cortex_svz_counts.csv\") as f:\n",
    "    genes = f.readline().split(\",\")"
   ]
  },
  {
   "cell_type": "code",
   "execution_count": 32,
   "metadata": {},
   "outputs": [
    {
     "data": {
      "text/plain": [
       "10000"
      ]
     },
     "execution_count": 32,
     "metadata": {},
     "output_type": "execute_result"
    }
   ],
   "source": [
    "len(genes)"
   ]
  },
  {
   "cell_type": "code",
   "execution_count": 33,
   "metadata": {},
   "outputs": [
    {
     "data": {
      "text/plain": [
       "(913, 10000)"
      ]
     },
     "execution_count": 33,
     "metadata": {},
     "output_type": "execute_result"
    }
   ],
   "source": [
    "cortex.shape"
   ]
  },
  {
   "cell_type": "code",
   "execution_count": 36,
   "metadata": {},
   "outputs": [],
   "source": [
    "loompy.create(\"/Users/stelin/loom/seqplus_cortex_svz.loom\", cortex.T, {\"Accession\": np.array(genes), \"Gene\": np.array(genes)}, {\"CellID\": np.arange(cortex.shape[0])})"
   ]
  },
  {
   "cell_type": "code",
   "execution_count": 39,
   "metadata": {},
   "outputs": [
    {
     "name": "stdout",
     "output_type": "stream",
     "text": [
      "['']\n"
     ]
    }
   ],
   "source": [
    "with loompy.connect(\"/Users/stelin/loom/seqplus_cortex_svz.loom\") as ds:\n",
    "    print(ds.layers.keys())"
   ]
  },
  {
   "cell_type": "code",
   "execution_count": 40,
   "metadata": {},
   "outputs": [],
   "source": [
    "import cytograph as cg"
   ]
  },
  {
   "cell_type": "code",
   "execution_count": 41,
   "metadata": {},
   "outputs": [
    {
     "data": {
      "text/plain": [
       "array(['Abhd3', 'Ac016205.1', 'Ac073529.1', 'Ac084033.3', 'Ac087632.1',\n",
       "       'Ac091057.6', 'Ac097534.2', 'Ac099850.2', 'Ac135586.2', 'Acaa2',\n",
       "       'Acadm', 'Acp1', 'Actl6a', 'Acyp1', 'Adcy3', 'Add3', 'Adk', 'Ahcy',\n",
       "       'Akirin2', 'Akr7a2', 'Al359513.1', 'Al449266.1', 'Al513165.2',\n",
       "       'Anapc11', 'Anln', 'Anp32a', 'Anp32b', 'Anp32e', 'Ap001347.1',\n",
       "       'Apold1', 'Arhgap11a', 'Arhgef39', 'Arid1a', 'Arl6ip1', 'Arl6ip6',\n",
       "       'Armc1', 'Arpp19', 'Asf1b', 'Aspm', 'Asrgl1', 'Atad2', 'Atad5',\n",
       "       'Atp1b3', 'Aurka', 'Aurkb', 'Banf1', 'Bard1', 'Baz1a', 'Baz1b',\n",
       "       'Birc5', 'Blm', 'Bora', 'Brca1', 'Brca2', 'Brd8', 'Brip1', 'Btg3',\n",
       "       'Bub1', 'Bub1b', 'Bub3', 'C11orf58', 'C19orf48', 'C1orf112',\n",
       "       'C1orf35', 'C21orf58', 'C5orf34', 'Cacybp', 'Calm2', 'Camta1',\n",
       "       'Carhsp1', 'Cbx1', 'Cbx3', 'Cbx5', 'Ccar1', 'Ccdc14', 'Ccdc167',\n",
       "       'Ccdc18', 'Ccdc34', 'Ccdc77', 'Ccna1', 'Ccna2', 'Ccnb1', 'Ccnb2',\n",
       "       'Ccne2', 'Ccnf', 'Cct4', 'Cct5', 'Cdc20', 'Cdc25b', 'Cdc25c',\n",
       "       'Cdc27', 'Cdc45', 'Cdc6', 'Cdc7', 'Cdca2', 'Cdca3', 'Cdca4',\n",
       "       'Cdca7l', 'Cdca8', 'Cdk1', 'Cdk19', 'Cdk2', 'Cdk4', 'Cdk5rap2',\n",
       "       'Cdkal1', 'Cdkn1b', 'Cdkn2c', 'Cdkn3', 'Cdt1', 'Cenpa', 'Cenpc',\n",
       "       'Cenpe', 'Cenpf', 'Cenph', 'Cenpi', 'Cenpj', 'Cenpk', 'Cenpl',\n",
       "       'Cenpm', 'Cenpn', 'Cenpo', 'Cenpp', 'Cenpq', 'Cenpu', 'Cenpw',\n",
       "       'Cenpx', 'Cep112', 'Cep128', 'Cep135', 'Cep192', 'Cep295', 'Cep55',\n",
       "       'Cep57', 'Cep57l1', 'Cep70', 'Cetn3', 'Cfap20', 'Cfl2', 'Cggbp1',\n",
       "       'Chaf1a', 'Chchd2', 'Chek1', 'Chek2', 'Chrac1', 'Cip2a', 'Cit',\n",
       "       'Ckap2', 'Ckap2l', 'Ckap5', 'Cklf', 'Cks1b', 'Cks2', 'Clspn',\n",
       "       'Cmc2', 'Cmss1', 'Cnih4', 'Cnn3', 'Cntln', 'Cntrl', 'Coa1',\n",
       "       'Commd4', 'Cox8a', 'Cse1l', 'Ctcf', 'Ctdspl2', 'Cwf19l2', 'Cyb5b',\n",
       "       'Cycs', 'Dach1', 'Dbf4', 'Dbf4b', 'Dbi', 'Dcaf7', 'Dcp2', 'Dcxr',\n",
       "       'Ddah2', 'Ddx39a', 'Ddx46', 'Dek', 'Depdc1', 'Depdc1b', 'Desi2',\n",
       "       'Dhfr', 'Diaph3', 'Dkc1', 'Dleu2', 'Dlgap5', 'Dna2', 'Dnajb1',\n",
       "       'Dnajc9', 'Dnmt1', 'Dpm1', 'Dr1', 'Dscc1', 'Dsn1', 'Dtl', 'Dtymk',\n",
       "       'Dusp16', 'Dut', 'Dynll1', 'Dyrk1a', 'E2f3', 'E2f7', 'E2f8',\n",
       "       'Ect2', 'Eed', 'Eef1d', 'Eid1', 'Eif1ax', 'Eif2s2', 'Eif4a3',\n",
       "       'Eif4e', 'Eif5', 'Emc9', 'Enah', 'Eno1', 'Eny2', 'Erh', 'Esco2',\n",
       "       'Ewsr1', 'Exosc8', 'Ezh2', 'Fam111b', 'Fam122b', 'Fam72c',\n",
       "       'Fam72d', 'Fam83d', 'Fancb', 'Fancd2', 'Fanci', 'Fancl', 'Fbl',\n",
       "       'Fbxl5', 'Fbxo5', 'Fdps', 'Fdx1', 'Fen1', 'Fgfr1op', 'Filip1l',\n",
       "       'Foxm1', 'Fus', 'Fuz', 'Fxr1', 'Fzr1', 'G2e3', 'G3bp1', 'Gabpb1',\n",
       "       'Gapdh', 'Gas2l3', 'Gemin2', 'Gen1', 'Ggct', 'Ggh', 'Gins2',\n",
       "       'Glo1', 'Gmnn', 'Gmps', 'Gng5', 'Gpbp1', 'Gpsm2', 'Gtse1', 'H1fx',\n",
       "       'H2afv', 'H2afx', 'H2afy', 'H2afz', 'Hacd3', 'Hadh', 'Hat1',\n",
       "       'Haus1', 'Haus6', 'Haus8', 'Hdac2', 'Hdgf', 'Hells', 'Hes1',\n",
       "       'Hint1', 'Hirip3', 'Hist1h1a', 'Hist1h1c', 'Hist1h1d', 'Hist1h2bh',\n",
       "       'Hist1h4c', 'Hist2h2ac', 'Hjurp', 'Hmg20b', 'Hmga1', 'Hmga2',\n",
       "       'Hmgb1', 'Hmgb2', 'Hmgb3', 'Hmgn1', 'Hmgn2', 'Hmgn3', 'Hmgn5',\n",
       "       'Hmgxb4', 'Hmmr', 'Hnrnpa0', 'Hnrnpa1', 'Hnrnpa2b1', 'Hnrnpa3',\n",
       "       'Hnrnpab', 'Hnrnpc', 'Hnrnpd', 'Hnrnpdl', 'Hnrnpf', 'Hnrnph3',\n",
       "       'Hnrnpk', 'Hnrnpll', 'Hnrnpm', 'Hnrnpu', 'Hnrnpul1', 'Hp1bp3',\n",
       "       'Hpf1', 'Hsd17b11', 'Hsp90aa1', 'Hsp90b1', 'Hspa13', 'Hspa1b',\n",
       "       'Hspb11', 'Hspd1', 'Hspe1', 'Hyls1', 'Idh2', 'Ift122', 'Igf2bp3',\n",
       "       'Ikbip', 'Ilf2', 'Ilf3', 'Ilvbl', 'Immp1l', 'Incenp', 'Ipo5',\n",
       "       'Iqgap3', 'Isca2', 'Isoc1', 'Itgae', 'Itgb3bp', 'Jade1', 'Jpt1',\n",
       "       'Katnbl1', 'Kctd9', 'Kiaa0586', 'Kif11', 'Kif14', 'Kif15',\n",
       "       'Kif18a', 'Kif18b', 'Kif20a', 'Kif20b', 'Kif22', 'Kif23', 'Kif2c',\n",
       "       'Kif4a', 'Kif5b', 'Kifc1', 'Kmt5a', 'Knl1', 'Knstrn', 'Kpna2',\n",
       "       'Kpnb1', 'Larp7', 'Lbr', 'Lcorl', 'Ldha', 'Ldhb', 'Lig1', 'Lin52',\n",
       "       'Linc01224', 'Linc01572', 'Lmnb1', 'Lmnb2', 'Lrr1', 'Lsm14a',\n",
       "       'Lsm2', 'Lsm3', 'Lsm4', 'Lsm5', 'Lsm6', 'Lsm7', 'Lsm8', 'Luc7l2',\n",
       "       'Mad2l1', 'Magi1', 'Magoh', 'Magohb', 'Mapk1ip1l', 'Mapre1',\n",
       "       'Marcks', 'Mastl', 'Mbnl2', 'Mcm10', 'Mcm2', 'Mcm3', 'Mcm4',\n",
       "       'Mcm5', 'Mcm7', 'Mdh1', 'Med30', 'Melk', 'Mgme1', 'Mis18a',\n",
       "       'Mis18bp1', 'Mki67', 'Mms22l', 'Mnd1', 'Mns1', 'Morf4l2',\n",
       "       'Mphosph9', 'Mre11', 'Mrpl18', 'Mrpl23', 'Mrpl47', 'Mrpl51',\n",
       "       'Mrpl57', 'Mrps34', 'Mtfr2', 'Mybl2', 'Myef2', 'Mzt1', 'Mzt2b',\n",
       "       'Naa38', 'Naa50', 'Nae1', 'Nap1l1', 'Nap1l4', 'Nasp', 'Ncapd2',\n",
       "       'Ncapd3', 'Ncapg', 'Ncapg2', 'Ncaph', 'Ncl', 'Ndc1', 'Ndc80',\n",
       "       'Nde1', 'Ndufa6', 'Ndufaf3', 'Ndufs6', 'Nedd1', 'Neil3', 'Nek2',\n",
       "       'Nelfe', 'Nenf', 'Nfatc3', 'Nfyb', 'Nipbl', 'Nmu', 'Nono', 'Nop56',\n",
       "       'Nop58', 'Nrdc', 'Nsd2', 'Nsmce2', 'Nsmce4a', 'Nucks1', 'Nudc',\n",
       "       'Nudcd2', 'Nudt1', 'Nudt15', 'Nudt21', 'Nudt5', 'Nuf2', 'Nup107',\n",
       "       'Nup35', 'Nup37', 'Nup50', 'Nup54', 'Nusap1', 'Odc1', 'Odf2',\n",
       "       'Oip5', 'Orc6', 'Pa2g4', 'Paics', 'Paip2', 'Pak4', 'Papola',\n",
       "       'Parp1', 'Parpbp', 'Paxx', 'Pbk', 'Pcbd2', 'Pcbp2', 'Pcm1', 'Pcna',\n",
       "       'Pcnp', 'Pds5b', 'Phf19', 'Phf5a', 'Phgdh', 'Phip', 'Pif1',\n",
       "       'Pimreg', 'Pin1', 'Pkm', 'Plcb1', 'Plgrkt', 'Plin3', 'Plk1',\n",
       "       'Plk4', 'Pmaip1', 'Pnisr', 'Pnn', 'Pnrc2', 'Poc1a', 'Pold2',\n",
       "       'Pold3', 'Pole2', 'Polq', 'Polr2c', 'Polr2d', 'Polr2g', 'Polr2j',\n",
       "       'Polr2k', 'Polr3k', 'Ppia', 'Ppig', 'Ppih', 'Ppp1cc', 'Ppp2r3c',\n",
       "       'Ppp2r5c', 'Ppp6r3', 'Prc1', 'Prdx3', 'Prim1', 'Prim2', 'Prkdc',\n",
       "       'Prpf38b', 'Prpsap1', 'Prr11', 'Psip1', 'Psma3', 'Psma4', 'Psmb2',\n",
       "       'Psmb3', 'Psmc3', 'Psmc3ip', 'Psmd10', 'Psmd14', 'Psmg2', 'Psrc1',\n",
       "       'Ptbp1', 'Ptges3', 'Ptma', 'Ptms', 'Pttg1', 'Puf60', 'Rab8a',\n",
       "       'Racgap1', 'Rad21', 'Rad51ap1', 'Rad51b', 'Rad51c', 'Ran',\n",
       "       'Ranbp1', 'Rangap1', 'Rassf1', 'Rbbp4', 'Rbbp8', 'Rbl1', 'Rbm17',\n",
       "       'Rbm39', 'Rbm8a', 'Rbmx', 'Rcc1', 'Rdx', 'Reep4', 'Rfc1', 'Rfc2',\n",
       "       'Rfc3', 'Rfc4', 'Rfwd3', 'Rheb', 'Rmi2', 'Rnaseh2b', 'Rnaseh2c',\n",
       "       'Rnf138', 'Rnf168', 'Rnf26', 'Rnps1', 'Rpa1', 'Rpa3', 'Rpl35',\n",
       "       'Rpl39l', 'Rplp0', 'Rplp1', 'Rplp2', 'Rpn2', 'Rpp30', 'Rps15',\n",
       "       'Rps16', 'Rps20', 'Rps21', 'Rpsa', 'Rrm1', 'Rsrc1', 'Rsrc2',\n",
       "       'Rtkn2', 'Ruvbl2', 'Sac3d1', 'Sae1', 'Sap18', 'Sapcd2', 'Scaf11',\n",
       "       'Sclt1', 'Sdhaf3', 'Selenok', 'Sem1', 'Sephs1', 'Sept10', 'Sept2',\n",
       "       'Sept7', 'Serbp1', 'Set', 'Sf1', 'Sf3b2', 'Sfpq', 'Sgo1', 'Sgo2',\n",
       "       'Shcbp1', 'Sinhcaf', 'Siva1', 'Ska1', 'Ska2', 'Ska3', 'Slbp',\n",
       "       'Slc20a1', 'Slc25a3', 'Sltm', 'Smc1a', 'Smc2', 'Smc3', 'Smc4',\n",
       "       'Smc5', 'Smchd1', 'Snapc1', 'Snrnp25', 'Snrnp40', 'Snrnp70',\n",
       "       'Snrpa', 'Snrpa1', 'Snrpb', 'Snrpc', 'Snrpd1', 'Snrpd2', 'Snrpd3',\n",
       "       'Snrpe', 'Snrpf', 'Snrpg', 'Son', 'Spag5', 'Spata5', 'Spc25',\n",
       "       'Spcs2', 'Spdl1', 'Srek1', 'Sri', 'Srp9', 'Srrm1', 'Srsf1',\n",
       "       'Srsf10', 'Srsf11', 'Srsf2', 'Srsf3', 'Srsf4', 'Srsf7', 'Ssb',\n",
       "       'Ssbp1', 'Ssna1', 'Ssrp1', 'St13', 'Stag1', 'Stil', 'Stip1',\n",
       "       'Stk17b', 'Stk3', 'Stoml2', 'Sugp2', 'Sumo1', 'Sumo3', 'Supt16h',\n",
       "       'Suv39h2', 'Suz12', 'Syne2', 'Tacc3', 'Tbc1d31', 'Tbc1d5', 'Tdp1',\n",
       "       'Tead1', 'Tex30', 'Tfdp1', 'Thrap3', 'Ticrr', 'Timeless', 'Timm10',\n",
       "       'Tk1', 'Tmed5', 'Tmem106c', 'Tmem237', 'Tmem60', 'Tmem97', 'Tmpo',\n",
       "       'Tmsb15a', 'Top1', 'Top2a', 'Tpi1', 'Tpr', 'Tprkb', 'Tpx2',\n",
       "       'Tra2b', 'Traip', 'Troap', 'Ttc28', 'Ttf2', 'Ttk', 'Tuba1b',\n",
       "       'Tuba1c', 'Tubb', 'Tubb4b', 'Tubg1', 'Tubgcp3', 'Txndc12', 'Tyms',\n",
       "       'Uba2', 'Ubb', 'Ube2c', 'Ube2d2', 'Ube2d3', 'Ube2i', 'Ube2n',\n",
       "       'Ube2s', 'Ube2t', 'Uhrf1', 'Ung', 'Uqcc2', 'Uqcc3', 'Uqcrc1',\n",
       "       'Uqcrfs1', 'Usp1', 'Vbp1', 'Vdac3', 'Vezf1', 'Vrk1', 'Wapl',\n",
       "       'Wdhd1', 'Wdpcp', 'Wdr34', 'Wdr76', 'Xpo1', 'Xrcc4', 'Xrcc5',\n",
       "       'Xrcc6', 'Yap1', 'Ybx1', 'Yeats4', 'Z94721.1', 'Zfp36l1', 'Zgrf1',\n",
       "       'Zmym1', 'Znf22', 'Znf367', 'Znf43', 'Znf704', 'Znf83', 'Zranb3',\n",
       "       'Zscan16-as1', 'Zwint'], dtype=object)"
      ]
     },
     "execution_count": 41,
     "metadata": {},
     "output_type": "execute_result"
    }
   ],
   "source": [
    "\n",
    "\n",
    "cc_genes_human = np.array([\n",
    "\t'ABHD3', 'AC016205.1', 'AC073529.1', 'AC084033.3', 'AC087632.1',\n",
    "\t'AC091057.6', 'AC097534.2', 'AC099850.2', 'AC135586.2', 'ACAA2',\n",
    "\t'ACADM', 'ACP1', 'ACTL6A', 'ACYP1', 'ADCY3', 'ADD3', 'ADK', 'AHCY',\n",
    "\t'AKIRIN2', 'AKR7A2', 'AL359513.1', 'AL449266.1', 'AL513165.2',\n",
    "\t'ANAPC11', 'ANLN', 'ANP32A', 'ANP32B', 'ANP32E', 'AP001347.1',\n",
    "\t'APOLD1', 'ARHGAP11A', 'ARHGEF39', 'ARID1A', 'ARL6IP1', 'ARL6IP6',\n",
    "\t'ARMC1', 'ARPP19', 'ASF1B', 'ASPM', 'ASRGL1', 'ATAD2', 'ATAD5',\n",
    "\t'ATP1B3', 'AURKA', 'AURKB', 'BANF1', 'BARD1', 'BAZ1A', 'BAZ1B',\n",
    "\t'BIRC5', 'BLM', 'BORA', 'BRCA1', 'BRCA2', 'BRD8', 'BRIP1', 'BTG3',\n",
    "\t'BUB1', 'BUB1B', 'BUB3', 'C11orf58', 'C19orf48', 'C1orf112',\n",
    "\t'C1orf35', 'C21orf58', 'C5orf34', 'CACYBP', 'CALM2', 'CAMTA1',\n",
    "\t'CARHSP1', 'CBX1', 'CBX3', 'CBX5', 'CCAR1', 'CCDC14', 'CCDC167',\n",
    "\t'CCDC18', 'CCDC34', 'CCDC77', 'CCNA1', 'CCNA2', 'CCNB1', 'CCNB2',\n",
    "\t'CCNE2', 'CCNF', 'CCT4', 'CCT5', 'CDC20', 'CDC25B', 'CDC25C',\n",
    "\t'CDC27', 'CDC45', 'CDC6', 'CDC7', 'CDCA2', 'CDCA3', 'CDCA4',\n",
    "\t'CDCA7L', 'CDCA8', 'CDK1', 'CDK19', 'CDK2', 'CDK4', 'CDK5RAP2',\n",
    "\t'CDKAL1', 'CDKN1B', 'CDKN2C', 'CDKN3', 'CDT1', 'CENPA', 'CENPC',\n",
    "\t'CENPE', 'CENPF', 'CENPH', 'CENPI', 'CENPJ', 'CENPK', 'CENPL',\n",
    "\t'CENPM', 'CENPN', 'CENPO', 'CENPP', 'CENPQ', 'CENPU', 'CENPW',\n",
    "\t'CENPX', 'CEP112', 'CEP128', 'CEP135', 'CEP192', 'CEP295', 'CEP55',\n",
    "\t'CEP57', 'CEP57L1', 'CEP70', 'CETN3', 'CFAP20', 'CFL2', 'CGGBP1',\n",
    "\t'CHAF1A', 'CHCHD2', 'CHEK1', 'CHEK2', 'CHRAC1', 'CIP2A', 'CIT',\n",
    "\t'CKAP2', 'CKAP2L', 'CKAP5', 'CKLF', 'CKS1B', 'CKS2', 'CLSPN',\n",
    "\t'CMC2', 'CMSS1', 'CNIH4', 'CNN3', 'CNTLN', 'CNTRL', 'COA1',\n",
    "\t'COMMD4', 'COX8A', 'CSE1L', 'CTCF', 'CTDSPL2', 'CWF19L2', 'CYB5B',\n",
    "\t'CYCS', 'DACH1', 'DBF4', 'DBF4B', 'DBI', 'DCAF7', 'DCP2', 'DCXR',\n",
    "\t'DDAH2', 'DDX39A', 'DDX46', 'DEK', 'DEPDC1', 'DEPDC1B', 'DESI2',\n",
    "\t'DHFR', 'DIAPH3', 'DKC1', 'DLEU2', 'DLGAP5', 'DNA2', 'DNAJB1',\n",
    "\t'DNAJC9', 'DNMT1', 'DPM1', 'DR1', 'DSCC1', 'DSN1', 'DTL', 'DTYMK',\n",
    "\t'DUSP16', 'DUT', 'DYNLL1', 'DYRK1A', 'E2F3', 'E2F7', 'E2F8',\n",
    "\t'ECT2', 'EED', 'EEF1D', 'EID1', 'EIF1AX', 'EIF2S2', 'EIF4A3',\n",
    "\t'EIF4E', 'EIF5', 'EMC9', 'ENAH', 'ENO1', 'ENY2', 'ERH', 'ESCO2',\n",
    "\t'EWSR1', 'EXOSC8', 'EZH2', 'FAM111B', 'FAM122B', 'FAM72C',\n",
    "\t'FAM72D', 'FAM83D', 'FANCB', 'FANCD2', 'FANCI', 'FANCL', 'FBL',\n",
    "\t'FBXL5', 'FBXO5', 'FDPS', 'FDX1', 'FEN1', 'FGFR1OP', 'FILIP1L',\n",
    "\t'FOXM1', 'FUS', 'FUZ', 'FXR1', 'FZR1', 'G2E3', 'G3BP1', 'GABPB1',\n",
    "\t'GAPDH', 'GAS2L3', 'GEMIN2', 'GEN1', 'GGCT', 'GGH', 'GINS2',\n",
    "\t'GLO1', 'GMNN', 'GMPS', 'GNG5', 'GPBP1', 'GPSM2', 'GTSE1', 'H1FX',\n",
    "\t'H2AFV', 'H2AFX', 'H2AFY', 'H2AFZ', 'HACD3', 'HADH', 'HAT1',\n",
    "\t'HAUS1', 'HAUS6', 'HAUS8', 'HDAC2', 'HDGF', 'HELLS', 'HES1',\n",
    "\t'HINT1', 'HIRIP3', 'HIST1H1A', 'HIST1H1C', 'HIST1H1D', 'HIST1H2BH',\n",
    "\t'HIST1H4C', 'HIST2H2AC', 'HJURP', 'HMG20B', 'HMGA1', 'HMGA2',\n",
    "\t'HMGB1', 'HMGB2', 'HMGB3', 'HMGN1', 'HMGN2', 'HMGN3', 'HMGN5',\n",
    "\t'HMGXB4', 'HMMR', 'HNRNPA0', 'HNRNPA1', 'HNRNPA2B1', 'HNRNPA3',\n",
    "\t'HNRNPAB', 'HNRNPC', 'HNRNPD', 'HNRNPDL', 'HNRNPF', 'HNRNPH3',\n",
    "\t'HNRNPK', 'HNRNPLL', 'HNRNPM', 'HNRNPU', 'HNRNPUL1', 'HP1BP3',\n",
    "\t'HPF1', 'HSD17B11', 'HSP90AA1', 'HSP90B1', 'HSPA13', 'HSPA1B',\n",
    "\t'HSPB11', 'HSPD1', 'HSPE1', 'HYLS1', 'IDH2', 'IFT122', 'IGF2BP3',\n",
    "\t'IKBIP', 'ILF2', 'ILF3', 'ILVBL', 'IMMP1L', 'INCENP', 'IPO5',\n",
    "\t'IQGAP3', 'ISCA2', 'ISOC1', 'ITGAE', 'ITGB3BP', 'JADE1', 'JPT1',\n",
    "\t'KATNBL1', 'KCTD9', 'KIAA0586', 'KIF11', 'KIF14', 'KIF15',\n",
    "\t'KIF18A', 'KIF18B', 'KIF20A', 'KIF20B', 'KIF22', 'KIF23', 'KIF2C',\n",
    "\t'KIF4A', 'KIF5B', 'KIFC1', 'KMT5A', 'KNL1', 'KNSTRN', 'KPNA2',\n",
    "\t'KPNB1', 'LARP7', 'LBR', 'LCORL', 'LDHA', 'LDHB', 'LIG1', 'LIN52',\n",
    "\t'LINC01224', 'LINC01572', 'LMNB1', 'LMNB2', 'LRR1', 'LSM14A',\n",
    "\t'LSM2', 'LSM3', 'LSM4', 'LSM5', 'LSM6', 'LSM7', 'LSM8', 'LUC7L2',\n",
    "\t'MAD2L1', 'MAGI1', 'MAGOH', 'MAGOHB', 'MAPK1IP1L', 'MAPRE1',\n",
    "\t'MARCKS', 'MASTL', 'MBNL2', 'MCM10', 'MCM2', 'MCM3', 'MCM4',\n",
    "\t'MCM5', 'MCM7', 'MDH1', 'MED30', 'MELK', 'MGME1', 'MIS18A',\n",
    "\t'MIS18BP1', 'MKI67', 'MMS22L', 'MND1', 'MNS1', 'MORF4L2',\n",
    "\t'MPHOSPH9', 'MRE11', 'MRPL18', 'MRPL23', 'MRPL47', 'MRPL51',\n",
    "\t'MRPL57', 'MRPS34', 'MTFR2', 'MYBL2', 'MYEF2', 'MZT1', 'MZT2B',\n",
    "\t'NAA38', 'NAA50', 'NAE1', 'NAP1L1', 'NAP1L4', 'NASP', 'NCAPD2',\n",
    "\t'NCAPD3', 'NCAPG', 'NCAPG2', 'NCAPH', 'NCL', 'NDC1', 'NDC80',\n",
    "\t'NDE1', 'NDUFA6', 'NDUFAF3', 'NDUFS6', 'NEDD1', 'NEIL3', 'NEK2',\n",
    "\t'NELFE', 'NENF', 'NFATC3', 'NFYB', 'NIPBL', 'NMU', 'NONO', 'NOP56',\n",
    "\t'NOP58', 'NRDC', 'NSD2', 'NSMCE2', 'NSMCE4A', 'NUCKS1', 'NUDC',\n",
    "\t'NUDCD2', 'NUDT1', 'NUDT15', 'NUDT21', 'NUDT5', 'NUF2', 'NUP107',\n",
    "\t'NUP35', 'NUP37', 'NUP50', 'NUP54', 'NUSAP1', 'ODC1', 'ODF2',\n",
    "\t'OIP5', 'ORC6', 'PA2G4', 'PAICS', 'PAIP2', 'PAK4', 'PAPOLA',\n",
    "\t'PARP1', 'PARPBP', 'PAXX', 'PBK', 'PCBD2', 'PCBP2', 'PCM1', 'PCNA',\n",
    "\t'PCNP', 'PDS5B', 'PHF19', 'PHF5A', 'PHGDH', 'PHIP', 'PIF1',\n",
    "\t'PIMREG', 'PIN1', 'PKM', 'PLCB1', 'PLGRKT', 'PLIN3', 'PLK1',\n",
    "\t'PLK4', 'PMAIP1', 'PNISR', 'PNN', 'PNRC2', 'POC1A', 'POLD2',\n",
    "\t'POLD3', 'POLE2', 'POLQ', 'POLR2C', 'POLR2D', 'POLR2G', 'POLR2J',\n",
    "\t'POLR2K', 'POLR3K', 'PPIA', 'PPIG', 'PPIH', 'PPP1CC', 'PPP2R3C',\n",
    "\t'PPP2R5C', 'PPP6R3', 'PRC1', 'PRDX3', 'PRIM1', 'PRIM2', 'PRKDC',\n",
    "\t'PRPF38B', 'PRPSAP1', 'PRR11', 'PSIP1', 'PSMA3', 'PSMA4', 'PSMB2',\n",
    "\t'PSMB3', 'PSMC3', 'PSMC3IP', 'PSMD10', 'PSMD14', 'PSMG2', 'PSRC1',\n",
    "\t'PTBP1', 'PTGES3', 'PTMA', 'PTMS', 'PTTG1', 'PUF60', 'RAB8A',\n",
    "\t'RACGAP1', 'RAD21', 'RAD51AP1', 'RAD51B', 'RAD51C', 'RAN',\n",
    "\t'RANBP1', 'RANGAP1', 'RASSF1', 'RBBP4', 'RBBP8', 'RBL1', 'RBM17',\n",
    "\t'RBM39', 'RBM8A', 'RBMX', 'RCC1', 'RDX', 'REEP4', 'RFC1', 'RFC2',\n",
    "\t'RFC3', 'RFC4', 'RFWD3', 'RHEB', 'RMI2', 'RNASEH2B', 'RNASEH2C',\n",
    "\t'RNF138', 'RNF168', 'RNF26', 'RNPS1', 'RPA1', 'RPA3', 'RPL35',\n",
    "\t'RPL39L', 'RPLP0', 'RPLP1', 'RPLP2', 'RPN2', 'RPP30', 'RPS15',\n",
    "\t'RPS16', 'RPS20', 'RPS21', 'RPSA', 'RRM1', 'RSRC1', 'RSRC2',\n",
    "\t'RTKN2', 'RUVBL2', 'SAC3D1', 'SAE1', 'SAP18', 'SAPCD2', 'SCAF11',\n",
    "\t'SCLT1', 'SDHAF3', 'SELENOK', 'SEM1', 'SEPHS1', 'SEPT10', 'SEPT2',\n",
    "\t'SEPT7', 'SERBP1', 'SET', 'SF1', 'SF3B2', 'SFPQ', 'SGO1', 'SGO2',\n",
    "\t'SHCBP1', 'SINHCAF', 'SIVA1', 'SKA1', 'SKA2', 'SKA3', 'SLBP',\n",
    "\t'SLC20A1', 'SLC25A3', 'SLTM', 'SMC1A', 'SMC2', 'SMC3', 'SMC4',\n",
    "\t'SMC5', 'SMCHD1', 'SNAPC1', 'SNRNP25', 'SNRNP40', 'SNRNP70',\n",
    "\t'SNRPA', 'SNRPA1', 'SNRPB', 'SNRPC', 'SNRPD1', 'SNRPD2', 'SNRPD3',\n",
    "\t'SNRPE', 'SNRPF', 'SNRPG', 'SON', 'SPAG5', 'SPATA5', 'SPC25',\n",
    "\t'SPCS2', 'SPDL1', 'SREK1', 'SRI', 'SRP9', 'SRRM1', 'SRSF1',\n",
    "\t'SRSF10', 'SRSF11', 'SRSF2', 'SRSF3', 'SRSF4', 'SRSF7', 'SSB',\n",
    "\t'SSBP1', 'SSNA1', 'SSRP1', 'ST13', 'STAG1', 'STIL', 'STIP1',\n",
    "\t'STK17B', 'STK3', 'STOML2', 'SUGP2', 'SUMO1', 'SUMO3', 'SUPT16H',\n",
    "\t'SUV39H2', 'SUZ12', 'SYNE2', 'TACC3', 'TBC1D31', 'TBC1D5', 'TDP1',\n",
    "\t'TEAD1', 'TEX30', 'TFDP1', 'THRAP3', 'TICRR', 'TIMELESS', 'TIMM10',\n",
    "\t'TK1', 'TMED5', 'TMEM106C', 'TMEM237', 'TMEM60', 'TMEM97', 'TMPO',\n",
    "\t'TMSB15A', 'TOP1', 'TOP2A', 'TPI1', 'TPR', 'TPRKB', 'TPX2',\n",
    "\t'TRA2B', 'TRAIP', 'TROAP', 'TTC28', 'TTF2', 'TTK', 'TUBA1B',\n",
    "\t'TUBA1C', 'TUBB', 'TUBB4B', 'TUBG1', 'TUBGCP3', 'TXNDC12', 'TYMS',\n",
    "\t'UBA2', 'UBB', 'UBE2C', 'UBE2D2', 'UBE2D3', 'UBE2I', 'UBE2N',\n",
    "\t'UBE2S', 'UBE2T', 'UHRF1', 'UNG', 'UQCC2', 'UQCC3', 'UQCRC1',\n",
    "\t'UQCRFS1', 'USP1', 'VBP1', 'VDAC3', 'VEZF1', 'VRK1', 'WAPL',\n",
    "\t'WDHD1', 'WDPCP', 'WDR34', 'WDR76', 'XPO1', 'XRCC4', 'XRCC5',\n",
    "\t'XRCC6', 'YAP1', 'YBX1', 'YEATS4', 'Z94721.1', 'ZFP36L1', 'ZGRF1',\n",
    "\t'ZMYM1', 'ZNF22', 'ZNF367', 'ZNF43', 'ZNF704', 'ZNF83', 'ZRANB3',\n",
    "\t'ZSCAN16-AS1', 'ZWINT'], dtype=object)\n",
    "\n",
    "np.array([x[0] + x[1:].lower() for x in cc_genes_human], dtype=object)"
   ]
  },
  {
   "cell_type": "code",
   "execution_count": null,
   "metadata": {},
   "outputs": [],
   "source": []
  }
 ],
 "metadata": {
  "kernelspec": {
   "display_name": "Python 3",
   "language": "python",
   "name": "python3"
  },
  "language_info": {
   "codemirror_mode": {
    "name": "ipython",
    "version": 3
   },
   "file_extension": ".py",
   "mimetype": "text/x-python",
   "name": "python",
   "nbconvert_exporter": "python",
   "pygments_lexer": "ipython3",
   "version": "3.7.0"
  }
 },
 "nbformat": 4,
 "nbformat_minor": 2
}
