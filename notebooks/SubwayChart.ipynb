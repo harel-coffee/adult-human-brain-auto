{
 "cells": [
  {
   "cell_type": "code",
   "execution_count": 1,
   "metadata": {},
   "outputs": [
    {
     "name": "stderr",
     "output_type": "stream",
     "text": [
      "2019-03-06 11:44:36,257 INFO: ERROR: failed to import igraph; some clustering methods will not work\n",
      "/Users/stelin/anaconda53/lib/python3.7/site-packages/sklearn/ensemble/weight_boosting.py:29: DeprecationWarning: numpy.core.umath_tests is an internal NumPy module and should not be imported. It will be removed in a future NumPy release.\n",
      "  from numpy.core.umath_tests import inner1d\n",
      "2019-03-06 11:44:38,666 DEBUG: backend module://ipykernel.pylab.backend_inline version unknown\n"
     ]
    }
   ],
   "source": [
    "%config InlineBackend.figure_format = 'retina'\n",
    "%matplotlib inline\n",
    "import sys\n",
    "import os\n",
    "import numpy as np\n",
    "import matplotlib\n",
    "import matplotlib.pyplot as plt\n",
    "import loompy\n",
    "import velocyto as vcy\n",
    "import logging\n",
    "from sklearn.svm import SVR\n",
    "from sklearn.linear_model import LinearRegression\n",
    "from statsmodels.nonparametric.smoothers_lowess import lowess\n",
    "from scipy.interpolate import interp1d\n",
    "import cytograph as cg\n",
    "import loompy\n",
    "import numpy as np\n",
    "import scipy.sparse as sparse\n",
    "import torch\n",
    "from torch.distributions.poisson import Poisson\n",
    "from torch.autograd import Variable\n",
    "from torch.nn import MSELoss\n",
    "from tqdm import trange\n",
    "from types import SimpleNamespace\n",
    "from matplotlib.colors import Normalize\n",
    "from matplotlib.collections import LineCollection"
   ]
  },
  {
   "cell_type": "code",
   "execution_count": null,
   "metadata": {},
   "outputs": [],
   "source": [
    "from matplotlib.patches import Circle\n",
    "from matplotlib.collections import PatchCollection\n",
    "\n",
    "class State:\n",
    "    def __init__(self, label: str = \"\", kind: str = \"std\", ap: str = \"telencephalon\", maturation: Tuple[str, int] = (\"rgl\", 0)) -> None:\n",
    "        self.label = label\n",
    "        self.kind = kind  # \"std\", \"emphasize\", \"cycling\"\n",
    "        self.ap = ap  # \"telencephalon\", \"diencephalon\", \"midbrain\", \"pons\", \"medulla\", \"cerebellum\"\n",
    "        self.dv = dv  # \"dorsal\", \"ventral\"\n",
    "        self.maturation = maturation  # first element should be \"rgl\", \"nbl\", or \"mature\"\n",
    "        self.xy = (0, 0)\n",
    "        self.radius = 1\n",
    "\n",
    "    def draw(self) -> PatchCollection:\n",
    "        patches = []\n",
    "        if self.kind == \"std\":\n",
    "            patches.append(Circle(self.xy, self.radius, edgecolor=\"black\", facecolor=\"white\", linewidth=1))\n",
    "        elif self.kind == \"emphasize\":\n",
    "            patches.append(Circle(self.xy, self.radius, edgecolor=\"black\", facecolor=\"white\", linewidth=2))\n",
    "        elif self.kind == \"cycling\":\n",
    "            patches.append(Circle(self.xy, self.radius, edgecolor=\"black\", facecolor=\"white\", linewidth=2, linestyle=\"--\"))\n",
    "        return PatchCollection(patches)\n",
    "\n",
    "class Trajectory:\n",
    "    def __init__(self, states: List[State]) -> None:\n",
    "        self.states = states\n",
    "    \n",
    "    def draw(self) -> PatchCollection:\n",
    "        patches = []\n",
    "\n",
    "def layout(trajectories, width = 50, height = 30) -> None:\n",
    "    # Goal here is to determine the (x, y) position of every State object\n",
    "    # Create an arena for the layout; an element of the arena is True iff a State is placed there\n",
    "    arena = np.zeros(shape=(height, width), dtype=\"bool\")\n",
    "    "
   ]
  }
 ],
 "metadata": {
  "kernelspec": {
   "display_name": "Python 3",
   "language": "python",
   "name": "python3"
  },
  "language_info": {
   "codemirror_mode": {
    "name": "ipython",
    "version": 3
   },
   "file_extension": ".py",
   "mimetype": "text/x-python",
   "name": "python",
   "nbconvert_exporter": "python",
   "pygments_lexer": "ipython3",
   "version": "3.7.0"
  }
 },
 "nbformat": 4,
 "nbformat_minor": 2
}
