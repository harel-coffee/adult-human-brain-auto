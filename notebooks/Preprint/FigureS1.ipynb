{
 "cells": [
  {
   "cell_type": "code",
   "execution_count": 2,
   "id": "3283c230-14f0-4214-899d-f83750e926ca",
   "metadata": {
    "execution": {
     "iopub.execute_input": "2022-09-26T14:21:57.199458Z",
     "iopub.status.busy": "2022-09-26T14:21:57.199189Z",
     "iopub.status.idle": "2022-09-26T14:22:19.908080Z",
     "shell.execute_reply": "2022-09-26T14:22:19.907478Z",
     "shell.execute_reply.started": "2022-09-26T14:21:57.199435Z"
    },
    "tags": []
   },
   "outputs": [],
   "source": [
    "import loompy\n",
    "import numpy as np\n",
    "import pandas as pd\n",
    "import matplotlib.pyplot as plt\n",
    "import os\n",
    "from cytograph.plotting import colorize\n",
    "from urllib.request import urlretrieve\n",
    "\n",
    "import matplotlib as mpl\n",
    "\n",
    "# make font changeable in Illustrator\n",
    "mpl.rcParams['pdf.fonttype'] = 42\n",
    "\n",
    "# save figure with no pad\n",
    "mpl.rcParams['savefig.pad_inches'] = 0\n",
    "mpl.rcParams['savefig.bbox'] = 'tight'\n",
    "\n",
    "# set axes width\n",
    "mpl.rcParams['axes.linewidth'] = 0.2\n",
    "mpl.rcParams['xtick.minor.pad'] = 0\n",
    "mpl.rcParams['xtick.major.pad'] = 0\n",
    "mpl.rcParams['ytick.minor.pad'] = 0\n",
    "mpl.rcParams['ytick.major.pad'] = 0\n",
    "mpl.rcParams['xtick.minor.width'] = 0.2\n",
    "mpl.rcParams['xtick.major.width'] = 0.2\n",
    "mpl.rcParams['ytick.minor.width'] = 0.2\n",
    "mpl.rcParams['ytick.major.width'] = 0.2\n",
    "\n",
    "# use colorblind seaborn style\n",
    "plt.style.use('seaborn-colorblind')"
   ]
  },
  {
   "cell_type": "code",
   "execution_count": 3,
   "id": "e687efd4-358d-46bd-bda8-ab8fd3158299",
   "metadata": {
    "execution": {
     "iopub.execute_input": "2022-09-26T14:22:19.909635Z",
     "iopub.status.busy": "2022-09-26T14:22:19.909304Z",
     "iopub.status.idle": "2022-09-26T14:22:19.912697Z",
     "shell.execute_reply": "2022-09-26T14:22:19.912298Z",
     "shell.execute_reply.started": "2022-09-26T14:22:19.909613Z"
    },
    "tags": []
   },
   "outputs": [],
   "source": [
    "folder = '/proj/human_adult/20220222/harmony/regions'"
   ]
  },
  {
   "cell_type": "code",
   "execution_count": 4,
   "id": "b7e372b6-4d35-4a29-b3a4-a605b45377b9",
   "metadata": {
    "execution": {
     "iopub.execute_input": "2022-09-26T14:22:19.913315Z",
     "iopub.status.busy": "2022-09-26T14:22:19.913163Z",
     "iopub.status.idle": "2022-09-26T14:22:20.672438Z",
     "shell.execute_reply": "2022-09-26T14:22:20.672025Z",
     "shell.execute_reply.started": "2022-09-26T14:22:19.913297Z"
    },
    "tags": []
   },
   "outputs": [
    {
     "data": {
      "image/png": "[encoded data removed]",
      "text/plain": [
       "<Figure size 216x36 with 1 Axes>"
      ]
     },
     "metadata": {
      "needs_background": "light"
     },
     "output_type": "display_data"
    }
   ],
   "source": [
    "plt.figure(None, (3, 0.5))\n",
    "cmap = ['#0072b2', '#009e73', '#d55e00', '#cc79a7', '#f0e442', '#56b4e9']\n",
    "plt.scatter(range(len(cmap)), [1]*len(cmap), c=cmap, s=100)\n",
    "plt.axis('off')\n",
    "plt.savefig('/home/kimberly/figures/colors.pdf', dpi=300)"
   ]
  },
  {
   "cell_type": "code",
   "execution_count": 5,
   "id": "30560ce1-7801-4a96-addc-905e301e026f",
   "metadata": {
    "execution": {
     "iopub.execute_input": "2022-09-26T14:22:20.673708Z",
     "iopub.status.busy": "2022-09-26T14:22:20.673540Z",
     "iopub.status.idle": "2022-09-26T14:22:20.678219Z",
     "shell.execute_reply": "2022-09-26T14:22:20.677801Z",
     "shell.execute_reply.started": "2022-09-26T14:22:20.673690Z"
    },
    "tags": []
   },
   "outputs": [],
   "source": [
    "def clean_roi(roi_attr):\n",
    "    return pd.Series(roi_attr).replace({r'[^\\x00-\\x7F]+':''}, regex=True).to_numpy()"
   ]
  },
  {
   "cell_type": "markdown",
   "id": "15a5e714-93ac-42a7-9d76-b1311e5c7640",
   "metadata": {},
   "source": [
    "## Get ROI Groups"
   ]
  },
  {
   "cell_type": "code",
   "execution_count": 6,
   "id": "3bb6cf4e-d88f-48c4-af44-bdab41b223a3",
   "metadata": {
    "execution": {
     "iopub.execute_input": "2022-08-01T12:35:30.986173Z",
     "iopub.status.busy": "2022-08-01T12:35:30.985765Z",
     "iopub.status.idle": "2022-08-01T12:35:32.526139Z",
     "shell.execute_reply": "2022-08-01T12:35:32.525627Z",
     "shell.execute_reply.started": "2022-08-01T12:35:30.986126Z"
    },
    "tags": []
   },
   "outputs": [
    {
     "name": "stderr",
     "output_type": "stream",
     "text": [
      "/proj/user/kimberly/miniconda3/lib/python3.9/site-packages/openpyxl/worksheet/_reader.py:312: UserWarning: Data Validation extension is not supported and will be removed\n",
      "  warn(msg)\n"
     ]
    },
    {
     "data": {
      "text/html": [
       "<div>\n",
       "<style scoped>\n",
       "    .dataframe tbody tr th:only-of-type {\n",
       "        vertical-align: middle;\n",
       "    }\n",
       "\n",
       "    .dataframe tbody tr th {\n",
       "        vertical-align: top;\n",
       "    }\n",
       "\n",
       "    .dataframe thead th {\n",
       "        text-align: right;\n",
       "    }\n",
       "</style>\n",
       "<table border=\"1\" class=\"dataframe\">\n",
       "  <thead>\n",
       "    <tr style=\"text-align: right;\">\n",
       "      <th></th>\n",
       "      <th>FACS Tube ID</th>\n",
       "      <th>Donor ID</th>\n",
       "      <th>Slab ID</th>\n",
       "      <th>ROI Group</th>\n",
       "      <th>Region</th>\n",
       "      <th>LIMS ROI</th>\n",
       "      <th>Structure in Human Reference Atlas</th>\n",
       "      <th>FACS Sort Date</th>\n",
       "      <th>Nuclei Count (per tube)</th>\n",
       "      <th>Shipment/Collection/Processing Comments</th>\n",
       "      <th>...</th>\n",
       "      <th>Tracking Number</th>\n",
       "      <th>Expected Arrival Date</th>\n",
       "      <th>Shipment Receipt Date</th>\n",
       "      <th>Condition of shipment @ destination</th>\n",
       "      <th>cDNA amplification date</th>\n",
       "      <th>RNAseq QC status</th>\n",
       "      <th>Cluster mapping (pass/fail)</th>\n",
       "      <th>Uploaded to GCloud (Date)</th>\n",
       "      <th>Transferred to NeMO</th>\n",
       "      <th>Notes</th>\n",
       "    </tr>\n",
       "  </thead>\n",
       "  <tbody>\n",
       "    <tr>\n",
       "      <th>0</th>\n",
       "      <td>M1TX_180927_001</td>\n",
       "      <td>H18.30.001</td>\n",
       "      <td>CX48</td>\n",
       "      <td>Cerebral_cortex</td>\n",
       "      <td>Cerebral cortex (Cx) - Precentral gyrus (PrCG)...</td>\n",
       "      <td>Human M1C</td>\n",
       "      <td>http://atlas.brain-map.org/atlas?atlas=2652971...</td>\n",
       "      <td>2018-09-27 00:00:00</td>\n",
       "      <td>120000.0</td>\n",
       "      <td>Triple filtered. Used myelin removal beads for...</td>\n",
       "      <td>...</td>\n",
       "      <td>7733 6827 4338</td>\n",
       "      <td>2018-10-03</td>\n",
       "      <td>2018-10-03 00:00:00</td>\n",
       "      <td>Good</td>\n",
       "      <td>2019-01-21 00:00:00</td>\n",
       "      <td>NaN</td>\n",
       "      <td>NaN</td>\n",
       "      <td>2019-06-13</td>\n",
       "      <td>NaN</td>\n",
       "      <td>NaN</td>\n",
       "    </tr>\n",
       "    <tr>\n",
       "      <th>1</th>\n",
       "      <td>M1TX_181108_001</td>\n",
       "      <td>H18.30.001</td>\n",
       "      <td>CX48</td>\n",
       "      <td>Cerebral_cortex</td>\n",
       "      <td>Cerebral cortex (Cx) - Precentral gyrus (PrCG)...</td>\n",
       "      <td>Human M1C</td>\n",
       "      <td>http://atlas.brain-map.org/atlas?atlas=2652971...</td>\n",
       "      <td>2018-11-08 00:00:00</td>\n",
       "      <td>133250.0</td>\n",
       "      <td>Triple filtered. Myelin removal beads. No visi...</td>\n",
       "      <td>...</td>\n",
       "      <td>DHL2010582125</td>\n",
       "      <td>2018-11-15</td>\n",
       "      <td>2018-11-15 00:00:00</td>\n",
       "      <td>NaN</td>\n",
       "      <td>2019-01-22 00:00:00</td>\n",
       "      <td>NaN</td>\n",
       "      <td>NaN</td>\n",
       "      <td>2019-06-13</td>\n",
       "      <td>NaN</td>\n",
       "      <td>NaN</td>\n",
       "    </tr>\n",
       "    <tr>\n",
       "      <th>2</th>\n",
       "      <td>M1TX_180927_006</td>\n",
       "      <td>H18.30.001</td>\n",
       "      <td>CX48</td>\n",
       "      <td>Cerebral_cortex</td>\n",
       "      <td>Cerebral cortex (Cx) - Precentral gyrus (PrCG)...</td>\n",
       "      <td>Human M1C</td>\n",
       "      <td>http://atlas.brain-map.org/atlas?atlas=2652971...</td>\n",
       "      <td>2018-09-27 00:00:00</td>\n",
       "      <td>42000.0</td>\n",
       "      <td>Triple filtered. Used myelin removal beads for...</td>\n",
       "      <td>...</td>\n",
       "      <td>NaN</td>\n",
       "      <td>NaT</td>\n",
       "      <td>NaN</td>\n",
       "      <td>NaN</td>\n",
       "      <td>NaN</td>\n",
       "      <td>NaN</td>\n",
       "      <td>NaN</td>\n",
       "      <td>NaT</td>\n",
       "      <td>NaN</td>\n",
       "      <td>NaN</td>\n",
       "    </tr>\n",
       "    <tr>\n",
       "      <th>3</th>\n",
       "      <td>M1TX_181115_001</td>\n",
       "      <td>H18.30.001</td>\n",
       "      <td>CX48</td>\n",
       "      <td>Cerebral_cortex</td>\n",
       "      <td>Cerebral cortex (Cx) - Precentral gyrus (PrCG)...</td>\n",
       "      <td>Human M1C</td>\n",
       "      <td>http://atlas.brain-map.org/atlas?atlas=2652971...</td>\n",
       "      <td>2018-11-15 00:00:00</td>\n",
       "      <td>147000.0</td>\n",
       "      <td>Triple filtered. Myelin removal beads. No visi...</td>\n",
       "      <td>...</td>\n",
       "      <td>DHL66 4738 0283</td>\n",
       "      <td>2018-11-29</td>\n",
       "      <td>NaN</td>\n",
       "      <td>NaN</td>\n",
       "      <td>NaN</td>\n",
       "      <td>NaN</td>\n",
       "      <td>NaN</td>\n",
       "      <td>NaT</td>\n",
       "      <td>NaN</td>\n",
       "      <td>NaN</td>\n",
       "    </tr>\n",
       "    <tr>\n",
       "      <th>4</th>\n",
       "      <td>M1TX_181126_003</td>\n",
       "      <td>H18.30.001</td>\n",
       "      <td>CX49</td>\n",
       "      <td>Hippocampus</td>\n",
       "      <td>Body of hippocampus (HiB) - Rostral CA1-CA3</td>\n",
       "      <td>Human CA1R-CA2R-CA3R</td>\n",
       "      <td>http://atlas.brain-map.org/atlas?atlas=1383226...</td>\n",
       "      <td>2018-11-26 00:00:00</td>\n",
       "      <td>71175.0</td>\n",
       "      <td>Triple filtered. No visible debris post-sortin...</td>\n",
       "      <td>...</td>\n",
       "      <td>NaN</td>\n",
       "      <td>NaT</td>\n",
       "      <td>NaN</td>\n",
       "      <td>NaN</td>\n",
       "      <td>NaN</td>\n",
       "      <td>NaN</td>\n",
       "      <td>NaN</td>\n",
       "      <td>NaT</td>\n",
       "      <td>NaN</td>\n",
       "      <td>NaN</td>\n",
       "    </tr>\n",
       "  </tbody>\n",
       "</table>\n",
       "<p>5 rows × 25 columns</p>\n",
       "</div>"
      ],
      "text/plain": [
       "      FACS Tube ID    Donor ID Slab ID        ROI Group  \\\n",
       "0  M1TX_180927_001  H18.30.001    CX48  Cerebral_cortex   \n",
       "1  M1TX_181108_001  H18.30.001    CX48  Cerebral_cortex   \n",
       "2  M1TX_180927_006  H18.30.001    CX48  Cerebral_cortex   \n",
       "3  M1TX_181115_001  H18.30.001    CX48  Cerebral_cortex   \n",
       "4  M1TX_181126_003  H18.30.001    CX49      Hippocampus   \n",
       "\n",
       "                                              Region              LIMS ROI  \\\n",
       "0  Cerebral cortex (Cx) - Precentral gyrus (PrCG)...             Human M1C   \n",
       "1  Cerebral cortex (Cx) - Precentral gyrus (PrCG)...             Human M1C   \n",
       "2  Cerebral cortex (Cx) - Precentral gyrus (PrCG)...             Human M1C   \n",
       "3  Cerebral cortex (Cx) - Precentral gyrus (PrCG)...             Human M1C   \n",
       "4        Body of hippocampus (HiB) - Rostral CA1-CA3  Human CA1R-CA2R-CA3R   \n",
       "\n",
       "                 Structure in Human Reference Atlas        FACS Sort Date  \\\n",
       "0  http://atlas.brain-map.org/atlas?atlas=2652971...  2018-09-27 00:00:00   \n",
       "1  http://atlas.brain-map.org/atlas?atlas=2652971...  2018-11-08 00:00:00   \n",
       "2  http://atlas.brain-map.org/atlas?atlas=2652971...  2018-09-27 00:00:00   \n",
       "3  http://atlas.brain-map.org/atlas?atlas=2652971...  2018-11-15 00:00:00   \n",
       "4  http://atlas.brain-map.org/atlas?atlas=1383226...  2018-11-26 00:00:00   \n",
       "\n",
       "   Nuclei Count (per tube)            Shipment/Collection/Processing Comments  \\\n",
       "0                 120000.0  Triple filtered. Used myelin removal beads for...   \n",
       "1                 133250.0  Triple filtered. Myelin removal beads. No visi...   \n",
       "2                  42000.0  Triple filtered. Used myelin removal beads for...   \n",
       "3                 147000.0  Triple filtered. Myelin removal beads. No visi...   \n",
       "4                  71175.0  Triple filtered. No visible debris post-sortin...   \n",
       "\n",
       "   ...  Tracking Number Expected Arrival Date   Shipment Receipt Date  \\\n",
       "0  ...   7733 6827 4338             2018-10-03    2018-10-03 00:00:00   \n",
       "1  ...    DHL2010582125             2018-11-15    2018-11-15 00:00:00   \n",
       "2  ...              NaN                    NaT                    NaN   \n",
       "3  ...  DHL66 4738 0283             2018-11-29                    NaN   \n",
       "4  ...              NaN                    NaT                    NaN   \n",
       "\n",
       "  Condition of shipment @ destination cDNA amplification date  \\\n",
       "0                                Good     2019-01-21 00:00:00   \n",
       "1                                 NaN     2019-01-22 00:00:00   \n",
       "2                                 NaN                     NaN   \n",
       "3                                 NaN                     NaN   \n",
       "4                                 NaN                     NaN   \n",
       "\n",
       "  RNAseq QC status Cluster mapping (pass/fail) Uploaded to GCloud (Date)  \\\n",
       "0              NaN                         NaN                2019-06-13   \n",
       "1              NaN                         NaN                2019-06-13   \n",
       "2              NaN                         NaN                       NaT   \n",
       "3              NaN                         NaN                       NaT   \n",
       "4              NaN                         NaN                       NaT   \n",
       "\n",
       "  Transferred to NeMO Notes  \n",
       "0                 NaN   NaN  \n",
       "1                 NaN   NaN  \n",
       "2                 NaN   NaN  \n",
       "3                 NaN   NaN  \n",
       "4                 NaN   NaN  \n",
       "\n",
       "[5 rows x 25 columns]"
      ]
     },
     "execution_count": 6,
     "metadata": {},
     "output_type": "execute_result"
    }
   ],
   "source": [
    "df = pd.read_excel('/proj/human_adult/share/allen/transfer_logs/20220324/U01 Transcriptomics Tracker.xlsx', sheet_name='FACS Sample Tracking')\n",
    "# remove excel characters\n",
    "df.replace({r'[^\\x00-\\x7F]+':''}, regex=True, inplace=True)\n",
    "# strip ROI group names\n",
    "df['ROI Group'] = df['ROI Group'].str.strip()\n",
    "# consolidate cerebral cortex\n",
    "df['ROI Group'] = df['ROI Group'].replace('Cerebral cortex', 'Cerebral_cortex')\n",
    "df.head()"
   ]
  },
  {
   "cell_type": "code",
   "execution_count": 7,
   "id": "19652ecb-b87c-4b1a-bbf3-f2a3f195db97",
   "metadata": {
    "execution": {
     "iopub.execute_input": "2022-08-01T12:35:32.527282Z",
     "iopub.status.busy": "2022-08-01T12:35:32.527139Z",
     "iopub.status.idle": "2022-08-01T12:35:42.889865Z",
     "shell.execute_reply": "2022-08-01T12:35:42.889039Z",
     "shell.execute_reply.started": "2022-08-01T12:35:32.527262Z"
    },
    "tags": []
   },
   "outputs": [],
   "source": [
    "with loompy.connect(f'{folder}/data/Pool.loom', 'r') as ds:\n",
    "    # zip ROI and ROI group into dict\n",
    "    roi_group_dict = dict(zip(df['LIMS ROI'], df['ROI Group']))\n",
    "    # replace excel characters in the loom attribute\n",
    "    roi_attr = pd.Series(ds.ca.Roi).replace({r'[^\\x00-\\x7F]+':''}, regex=True)\n",
    "    # get the ROI group for each ROI from the dictionary\n",
    "    missing = 'missing'\n",
    "    roi_group_attr = np.array([roi_group_dict.get(x, missing) for x in roi_attr])"
   ]
  },
  {
   "cell_type": "code",
   "execution_count": 8,
   "id": "5ce723b7-d068-485f-af48-f39db9ff01fc",
   "metadata": {
    "execution": {
     "iopub.execute_input": "2022-08-01T12:35:42.891422Z",
     "iopub.status.busy": "2022-08-01T12:35:42.891007Z",
     "iopub.status.idle": "2022-08-01T12:35:42.942502Z",
     "shell.execute_reply": "2022-08-01T12:35:42.941809Z",
     "shell.execute_reply.started": "2022-08-01T12:35:42.891399Z"
    },
    "tags": []
   },
   "outputs": [
    {
     "data": {
      "text/plain": [
       "0"
      ]
     },
     "execution_count": 8,
     "metadata": {},
     "output_type": "execute_result"
    }
   ],
   "source": [
    "# Check none are missing\n",
    "(roi_group_attr == missing).sum()"
   ]
  },
  {
   "cell_type": "code",
   "execution_count": 9,
   "id": "0c23973c-ab7b-4e77-b7f5-037e2505a222",
   "metadata": {
    "execution": {
     "iopub.execute_input": "2022-08-01T12:35:42.945022Z",
     "iopub.status.busy": "2022-08-01T12:35:42.944659Z",
     "iopub.status.idle": "2022-08-01T12:35:44.114859Z",
     "shell.execute_reply": "2022-08-01T12:35:44.114310Z",
     "shell.execute_reply.started": "2022-08-01T12:35:42.944985Z"
    },
    "tags": []
   },
   "outputs": [
    {
     "data": {
      "text/plain": [
       "array(['Cerebral_cortex', 'Cerebral_nuclei', 'Epithalamus', 'Hindbrain',\n",
       "       'Hippocampus', 'Hypothalamus', 'Midbrain', 'Paleocortex',\n",
       "       'Spinal_cord', 'Thalamus'], dtype='<U15')"
      ]
     },
     "execution_count": 9,
     "metadata": {},
     "output_type": "execute_result"
    }
   ],
   "source": [
    "# Check unique groups\n",
    "roi_groups = np.unique(roi_group_attr)\n",
    "roi_groups"
   ]
  },
  {
   "cell_type": "code",
   "execution_count": 10,
   "id": "e6ccc1ce-8193-421c-b3f7-cd64c51705fb",
   "metadata": {
    "execution": {
     "iopub.execute_input": "2022-08-01T12:35:44.115708Z",
     "iopub.status.busy": "2022-08-01T12:35:44.115561Z",
     "iopub.status.idle": "2022-08-01T12:35:44.127750Z",
     "shell.execute_reply": "2022-08-01T12:35:44.127076Z",
     "shell.execute_reply.started": "2022-08-01T12:35:44.115687Z"
    },
    "tags": []
   },
   "outputs": [
    {
     "data": {
      "text/plain": [
       "10"
      ]
     },
     "execution_count": 10,
     "metadata": {},
     "output_type": "execute_result"
    }
   ],
   "source": [
    "# There are 10 ROI Groups\n",
    "len(roi_groups)"
   ]
  },
  {
   "cell_type": "code",
   "execution_count": 11,
   "id": "7128bfec-ab42-4d27-9aff-0ded67284b13",
   "metadata": {
    "execution": {
     "iopub.execute_input": "2022-08-01T12:35:44.129506Z",
     "iopub.status.busy": "2022-08-01T12:35:44.129170Z",
     "iopub.status.idle": "2022-08-01T12:35:44.191292Z",
     "shell.execute_reply": "2022-08-01T12:35:44.190365Z",
     "shell.execute_reply.started": "2022-08-01T12:35:44.129472Z"
    },
    "tags": []
   },
   "outputs": [
    {
     "data": {
      "text/plain": [
       "10"
      ]
     },
     "execution_count": 11,
     "metadata": {},
     "output_type": "execute_result"
    }
   ],
   "source": [
    "# Write them out in order for the figures and check number again\n",
    "roi_groups = ['Cerebral_cortex', 'Cerebral_nuclei', 'Hippocampus', 'Paleocortex',\n",
    "              'Hypothalamus', 'Thalamus', 'Epithalamus', 'Midbrain', 'Hindbrain', 'Spinal_cord']\n",
    "len(roi_groups)"
   ]
  },
  {
   "cell_type": "code",
   "execution_count": 12,
   "id": "a8055fc8-40e4-4fed-b317-fc4d56ceec51",
   "metadata": {
    "execution": {
     "iopub.execute_input": "2022-08-01T12:35:44.201014Z",
     "iopub.status.busy": "2022-08-01T12:35:44.195313Z",
     "iopub.status.idle": "2022-08-01T12:35:48.029192Z",
     "shell.execute_reply": "2022-08-01T12:35:48.028603Z",
     "shell.execute_reply.started": "2022-08-01T12:35:44.200943Z"
    },
    "tags": []
   },
   "outputs": [
    {
     "data": {
      "text/plain": [
       "{'Cerebral_cortex': array(['Human A13', 'Human A14', 'Human A19', 'Human A1C', 'Human A23',\n",
       "        'Human A25', 'Human A29-A30', 'Human A32', 'Human A35-A36',\n",
       "        'Human A35r', 'Human A38', 'Human A40', 'Human A43',\n",
       "        'Human A44-A45', 'Human A46', 'Human A5-A7', 'Human ACC',\n",
       "        'Human FI', 'Human ITG', 'Human Idg', 'Human Ig', 'Human LEC',\n",
       "        'Human M1C', 'Human MEC', 'Human MTG', 'Human Pir', 'Human Pro',\n",
       "        'Human S1C', 'Human STG', 'Human TF', 'Human TH-TL', 'Human V1C',\n",
       "        'Human V2'], dtype=object),\n",
       " 'Cerebral_nuclei': array(['Human BL', 'Human BM', 'Human BNST', 'Human CEN', 'Human CMN',\n",
       "        'Human CaB', 'Human Cla', 'Human CoA', 'Human GPe', 'Human GPi',\n",
       "        'Human La', 'Human NAC', 'Human Pu', 'Human SEP', 'Human SI'],\n",
       "       dtype=object),\n",
       " 'Hippocampus': array(['Human CA1', 'Human CA1-2R', 'Human CA1C-CA3C',\n",
       "        'Human CA1R-CA2R-CA3R', 'Human CA1U-CA2U-CA3U', 'Human CA2U-CA3U',\n",
       "        'Human CA3R', 'Human CA4C-DGC', 'Human DGR-CA4',\n",
       "        'Human DGR-CA4Rpy', 'Human DGU-CA4Upy', 'Human Sub'], dtype=object),\n",
       " 'Paleocortex': array(['Human AON'], dtype=object),\n",
       " 'Hypothalamus': array(['Human HTHma', 'Human HTHma-HTHtub', 'Human HTHpo',\n",
       "        'Human HTHpo-HTHso', 'Human HTHso', 'Human HTHso-HTHtub',\n",
       "        'Human HTHtub', 'Human MN'], dtype=object),\n",
       " 'Thalamus': array(['Human ANC', 'Human CM', 'Human CM-Pf', 'Human LG', 'Human LP',\n",
       "        'Human LP-VPL', 'Human MD', 'Human MD-Re', 'Human MG', 'Human Pul',\n",
       "        'Human STH', 'Human VA', 'Human VLN', 'Human VPL'], dtype=object),\n",
       " 'Epithalamus': array(['Human ETH'], dtype=object),\n",
       " 'Midbrain': array(['Human IC', 'Human PAG', 'Human PAG-DR', 'Human PTR', 'Human RN',\n",
       "        'Human SC', 'Human SN', 'Human SN-RN'], dtype=object),\n",
       " 'Hindbrain': array(['Human CBL', 'Human CBV', 'Human CbDN', 'Human DTg', 'Human IO',\n",
       "        'Human MoAN', 'Human MoRF-MoEN', 'Human MoSR', 'Human PB',\n",
       "        'Human PN', 'Human PnAN', 'Human PnEN', 'Human PnRF'], dtype=object),\n",
       " 'Spinal_cord': array(['Human SpC'], dtype=object)}"
      ]
     },
     "execution_count": 12,
     "metadata": {},
     "output_type": "execute_result"
    }
   ],
   "source": [
    "# Create a list for each ROI group\n",
    "roi_group_dict = {grp : np.unique(roi_attr[roi_group_attr == grp]) for grp in roi_groups}\n",
    "roi_group_dict"
   ]
  },
  {
   "cell_type": "code",
   "execution_count": 13,
   "id": "996a6b32-5664-4c41-8c7a-0ad463794ad2",
   "metadata": {
    "execution": {
     "iopub.execute_input": "2022-08-01T12:35:48.031835Z",
     "iopub.status.busy": "2022-08-01T12:35:48.031686Z",
     "iopub.status.idle": "2022-08-01T12:35:56.455809Z",
     "shell.execute_reply": "2022-08-01T12:35:56.455225Z",
     "shell.execute_reply.started": "2022-08-01T12:35:48.031815Z"
    },
    "tags": []
   },
   "outputs": [
    {
     "name": "stdout",
     "output_type": "stream",
     "text": [
      "106\n",
      "108\n"
     ]
    }
   ],
   "source": [
    "# Check ROIs sampled \n",
    "with loompy.connect(f'{folder}/data/Pool.loom', 'r') as ds:\n",
    "    # rois in dict\n",
    "    dict_rois = np.hstack(list(roi_group_dict.values()))\n",
    "    print(len(dict_rois))\n",
    "    # rois in file\n",
    "    loom_rois = np.unique(ds.ca.Roi)\n",
    "    print(len(loom_rois))"
   ]
  },
  {
   "cell_type": "code",
   "execution_count": 14,
   "id": "10c0e689-bdff-4712-bfe8-2ee77809277a",
   "metadata": {
    "execution": {
     "iopub.execute_input": "2022-08-01T12:35:56.459083Z",
     "iopub.status.busy": "2022-08-01T12:35:56.458869Z",
     "iopub.status.idle": "2022-08-01T12:35:56.598645Z",
     "shell.execute_reply": "2022-08-01T12:35:56.597874Z",
     "shell.execute_reply.started": "2022-08-01T12:35:56.459062Z"
    },
    "tags": []
   },
   "outputs": [
    {
     "name": "stdout",
     "output_type": "stream",
     "text": [
      "['Human A25\\u200b\\u200b' 'Human Idg\\u200b']\n"
     ]
    }
   ],
   "source": [
    "with loompy.connect(f'{folder}/data/Pool.loom', 'r') as ds:\n",
    "    print(loom_rois[~np.isin(loom_rois, dict_rois)])"
   ]
  },
  {
   "cell_type": "code",
   "execution_count": 15,
   "id": "c24328e2-bc4b-47e7-9a1b-dcc389adca6e",
   "metadata": {
    "execution": {
     "iopub.execute_input": "2022-08-01T12:35:56.600567Z",
     "iopub.status.busy": "2022-08-01T12:35:56.600240Z",
     "iopub.status.idle": "2022-08-01T12:36:00.323899Z",
     "shell.execute_reply": "2022-08-01T12:36:00.323303Z",
     "shell.execute_reply.started": "2022-08-01T12:35:56.600512Z"
    },
    "tags": []
   },
   "outputs": [
    {
     "name": "stdout",
     "output_type": "stream",
     "text": [
      "106\n",
      "106\n"
     ]
    }
   ],
   "source": [
    "# Problem was excel characters again\n",
    "# Check ROIs sampled \n",
    "\n",
    "# rois in dict\n",
    "dict_rois = np.hstack(list(roi_group_dict.values()))\n",
    "print(len(dict_rois))\n",
    "# rois in file\n",
    "loom_rois = np.unique(roi_attr)\n",
    "print(len(loom_rois))"
   ]
  },
  {
   "cell_type": "markdown",
   "id": "218b48e9-75aa-4548-882b-26736ff9c7eb",
   "metadata": {},
   "source": [
    "## Plot samples by ROI Group"
   ]
  },
  {
   "cell_type": "code",
   "execution_count": 10,
   "id": "b3b82ecc-5b25-487c-9551-c5e5df40d9c7",
   "metadata": {
    "execution": {
     "iopub.execute_input": "2022-09-21T13:42:29.521035Z",
     "iopub.status.busy": "2022-09-21T13:42:29.520848Z",
     "iopub.status.idle": "2022-09-21T13:42:29.528239Z",
     "shell.execute_reply": "2022-09-21T13:42:29.527556Z",
     "shell.execute_reply.started": "2022-09-21T13:42:29.521010Z"
    },
    "tags": []
   },
   "outputs": [],
   "source": [
    "# Set color for each donor\n",
    "donor_color = {\n",
    "    'H18.30.001': 'darkgreen',\n",
    "    'H18.30.002': 'steelblue',\n",
    "    'H19.30.001': 'darkorange',\n",
    "    'H19.30.002': 'purple'\n",
    "}"
   ]
  },
  {
   "cell_type": "code",
   "execution_count": 11,
   "id": "3f38e1b7-075a-4115-8b63-9db527f108f6",
   "metadata": {
    "execution": {
     "iopub.execute_input": "2022-09-21T13:42:30.208980Z",
     "iopub.status.busy": "2022-09-21T13:42:30.208802Z",
     "iopub.status.idle": "2022-09-21T13:42:30.216911Z",
     "shell.execute_reply": "2022-09-21T13:42:30.216369Z",
     "shell.execute_reply.started": "2022-09-21T13:42:30.208957Z"
    },
    "tags": []
   },
   "outputs": [],
   "source": [
    "# made for Figure 2\n",
    "df = pd.read_csv('roi_group_table.csv')\n",
    "rois = df['index'].to_numpy()"
   ]
  },
  {
   "cell_type": "code",
   "execution_count": 12,
   "id": "5085d6b9-2010-49f5-8f7f-85827fb63170",
   "metadata": {
    "execution": {
     "iopub.execute_input": "2022-09-21T13:42:31.201219Z",
     "iopub.status.busy": "2022-09-21T13:42:31.201036Z",
     "iopub.status.idle": "2022-09-21T14:05:39.996942Z",
     "shell.execute_reply": "2022-09-21T14:05:39.996276Z",
     "shell.execute_reply.started": "2022-09-21T13:42:31.201194Z"
    },
    "tags": []
   },
   "outputs": [],
   "source": [
    "x = []\n",
    "y = []\n",
    "ncells = []\n",
    "colors = []\n",
    "regions = []\n",
    "\n",
    "x_i = 0\n",
    "    \n",
    "# for each roi\n",
    "for r in rois:\n",
    "\n",
    "    # get filename\n",
    "    name = r.replace(\"Human \", \"\")\n",
    "    regions.append(name)\n",
    "\n",
    "    # connect\n",
    "    # with loompy.connect(f'{folder}/data/{name}.loom', 'r') as ds:\n",
    "    with loompy.connect('/proj/human_adult/20220222/harmony/paris_top_bug/data/Pool.loom', 'r') as ds:\n",
    "        \n",
    "        roi_attr = clean_roi(ds.ca.Roi)\n",
    "        donor_dict = dict(zip(ds.ca.SampleID, ds.ca.Donor))\n",
    "        cells = roi_attr == r\n",
    "        \n",
    "        # get unique samples and cell counts for each sample\n",
    "        samples, counts = np.unique(ds.ca.SampleID[cells], return_counts=True)\n",
    "        # get donor for each sample\n",
    "        donors = np.array([donor_dict.get(x) for x in samples])\n",
    "        # always sort donors in the same order\n",
    "        order = np.argsort(donors)\n",
    "        # get number of samples\n",
    "        n_samples = len(samples)\n",
    "        # x coordinate for each sample should be the same\n",
    "        x += [x_i] * n_samples\n",
    "        x_i += 1\n",
    "        # each sample has its own y coordinate\n",
    "        y += list(range(n_samples))\n",
    "        # track cell counts in order of donor\n",
    "        ncells += list(counts[order])\n",
    "        # track colors in order of donor\n",
    "        colors += [donor_color[x] for x in donors[order]]     "
   ]
  },
  {
   "cell_type": "code",
   "execution_count": 13,
   "id": "7b9a93b5-1ed1-42d8-b5d2-ae5280a2b4b5",
   "metadata": {
    "execution": {
     "iopub.execute_input": "2022-09-21T15:47:40.116465Z",
     "iopub.status.busy": "2022-09-21T15:47:40.116099Z",
     "iopub.status.idle": "2022-09-21T15:47:41.749977Z",
     "shell.execute_reply": "2022-09-21T15:47:41.749595Z",
     "shell.execute_reply.started": "2022-09-21T15:47:40.116435Z"
    },
    "tags": []
   },
   "outputs": [
    {
     "data": {
      "image/png": "[encoded data removed]",
      "text/plain": [
       "<Figure size 1008x180 with 1 Axes>"
      ]
     },
     "metadata": {
      "needs_background": "light"
     },
     "output_type": "display_data"
    }
   ],
   "source": [
    "plt.figure(None, (14, 2.5))\n",
    "ax = plt.subplot(111)\n",
    "#ncells into an array\n",
    "ncells = np.array(ncells)\n",
    "# scatter plot where dot sizes are ncells / norm factor\n",
    "norm = 400\n",
    "plt.scatter(x, y, s=ncells / norm, lw=0, c=colors)\n",
    "# key of example ncells / norm factor \n",
    "plt.scatter(\n",
    "    [x[-1], x[-1], x[-1], x[-1]],\n",
    "    [14, 15, 16, 17],\n",
    "    s=np.array([2500, 5000, 9000, 12500]) / norm, \n",
    "    lw=0, \n",
    "    color='darkgrey'\n",
    ")\n",
    "\n",
    "# x and y labels\n",
    "plt.xticks(range(len(regions)), regions, rotation=90, fontsize=8)\n",
    "plt.yticks([])\n",
    "\n",
    "# axes\n",
    "plt.margins(0.02, 0.05)\n",
    "ax.spines['left'].set_visible(False)\n",
    "ax.spines['right'].set_visible(False)\n",
    "ax.spines['top'].set_visible(False)\n",
    "plt.tight_layout()\n",
    "plt.savefig('/home/kimberly/figures/samples_per_region.pdf', dpi=300)"
   ]
  },
  {
   "cell_type": "code",
   "execution_count": 17,
   "id": "bbac8784-b102-4d77-babf-6d60e67d9aaf",
   "metadata": {
    "execution": {
     "iopub.execute_input": "2022-04-01T14:36:36.071909Z",
     "iopub.status.busy": "2022-04-01T14:36:36.071666Z",
     "iopub.status.idle": "2022-04-01T14:36:43.458591Z",
     "shell.execute_reply": "2022-04-01T14:36:43.457992Z",
     "shell.execute_reply.started": "2022-04-01T14:36:36.071889Z"
    },
    "tags": []
   },
   "outputs": [
    {
     "name": "stdout",
     "output_type": "stream",
     "text": [
      "606\n",
      "606\n"
     ]
    }
   ],
   "source": [
    "# Check number of samples\n",
    "with loompy.connect(f'{folder}/data/Pool.loom', 'r') as ds:\n",
    "    print(len(np.unique(ds.ca.SampleID)))\n",
    "print(len(x))"
   ]
  },
  {
   "cell_type": "code",
   "execution_count": 18,
   "id": "278f2a84-bd5d-458f-8756-388a28a7db3c",
   "metadata": {
    "execution": {
     "iopub.execute_input": "2022-04-01T14:36:43.459721Z",
     "iopub.status.busy": "2022-04-01T14:36:43.459487Z",
     "iopub.status.idle": "2022-04-01T14:36:50.734991Z",
     "shell.execute_reply": "2022-04-01T14:36:50.734307Z",
     "shell.execute_reply.started": "2022-04-01T14:36:43.459701Z"
    },
    "tags": []
   },
   "outputs": [
    {
     "data": {
      "text/plain": [
       "(array(['10X191_3', '10X191_4', '10X359_1', '10X359_2', '10X359_7',\n",
       "        '10X359_8', '10X378_1', '10X378_2'], dtype=object),\n",
       " array([5084, 5666, 1163, 1277, 3121, 3290, 4276, 4233]))"
      ]
     },
     "execution_count": 18,
     "metadata": {},
     "output_type": "execute_result"
    }
   ],
   "source": [
    "# Check an example sample\n",
    "with loompy.connect(f'{folder}/data/Pool.loom', 'r') as ds:\n",
    "    samples, counts = np.unique(ds.ca.SampleID[ds.ca.Roi == 'Human VLN'], return_counts=True)\n",
    "samples, counts"
   ]
  },
  {
   "cell_type": "markdown",
   "id": "6a8ac4ab-3226-4eb7-bc17-8a2b6ca9c739",
   "metadata": {},
   "source": [
    "### Table of samples, regions, tissue names, etc"
   ]
  },
  {
   "cell_type": "code",
   "execution_count": 6,
   "id": "90db7d18-8da2-4533-afda-1ac2806f0ea5",
   "metadata": {
    "execution": {
     "iopub.execute_input": "2022-09-26T14:22:20.678972Z",
     "iopub.status.busy": "2022-09-26T14:22:20.678842Z",
     "iopub.status.idle": "2022-09-26T14:22:21.266737Z",
     "shell.execute_reply": "2022-09-26T14:22:21.266267Z",
     "shell.execute_reply.started": "2022-09-26T14:22:20.678954Z"
    },
    "tags": []
   },
   "outputs": [
    {
     "data": {
      "text/plain": [
       "('sanger_samples.csv', <http.client.HTTPMessage at 0x152788241520>)"
      ]
     },
     "execution_count": 6,
     "metadata": {},
     "output_type": "execute_result"
    }
   ],
   "source": [
    "urlretrieve(\"http://monod.mbb.ki.se:8180/chromium/samples_csv/\", filename=\"sanger_samples.csv\")"
   ]
  },
  {
   "cell_type": "code",
   "execution_count": 7,
   "id": "0124b67b-cfba-40cf-bdd3-41d5877e81a2",
   "metadata": {
    "execution": {
     "iopub.execute_input": "2022-09-26T14:22:21.267445Z",
     "iopub.status.busy": "2022-09-26T14:22:21.267314Z",
     "iopub.status.idle": "2022-09-26T14:22:21.293449Z",
     "shell.execute_reply": "2022-09-26T14:22:21.293025Z",
     "shell.execute_reply.started": "2022-09-26T14:22:21.267426Z"
    },
    "tags": []
   },
   "outputs": [],
   "source": [
    "sample_table = pd.read_csv(\"sanger_samples.csv\", delimiter=\";\", index_col='SampleID:string')\n",
    "sample_table.columns = sample_table.columns.str.split(':').str[0]"
   ]
  },
  {
   "cell_type": "code",
   "execution_count": 8,
   "id": "ebdf4b34-5279-4797-926b-1e31ac01fbd9",
   "metadata": {
    "execution": {
     "iopub.execute_input": "2022-09-26T14:22:21.294215Z",
     "iopub.status.busy": "2022-09-26T14:22:21.294080Z",
     "iopub.status.idle": "2022-09-26T14:22:21.306113Z",
     "shell.execute_reply": "2022-09-26T14:22:21.305714Z",
     "shell.execute_reply.started": "2022-09-26T14:22:21.294197Z"
    },
    "tags": []
   },
   "outputs": [],
   "source": [
    "selections = [\n",
    "    \"Project == 'Adult human'\",\n",
    "    \"Chemistry != 'v2'\"]\n",
    "for s in selections:\n",
    "    sample_table = sample_table.query(s)\n",
    "    \n",
    "# drop samples that were not deep sequenced, no cells\n",
    "sample_table = sample_table.dropna(subset=['AllFCTotCells'])"
   ]
  },
  {
   "cell_type": "code",
   "execution_count": 9,
   "id": "2ace09cc-534a-4b7e-bde9-d1346cba5255",
   "metadata": {
    "execution": {
     "iopub.execute_input": "2022-09-26T14:22:21.306942Z",
     "iopub.status.busy": "2022-09-26T14:22:21.306803Z",
     "iopub.status.idle": "2022-09-26T14:22:21.378825Z",
     "shell.execute_reply": "2022-09-26T14:22:21.378426Z",
     "shell.execute_reply.started": "2022-09-26T14:22:21.306923Z"
    },
    "tags": []
   },
   "outputs": [
    {
     "data": {
      "text/html": [
       "<div>\n",
       "<style scoped>\n",
       "    .dataframe tbody tr th:only-of-type {\n",
       "        vertical-align: middle;\n",
       "    }\n",
       "\n",
       "    .dataframe tbody tr th {\n",
       "        vertical-align: top;\n",
       "    }\n",
       "\n",
       "    .dataframe thead th {\n",
       "        text-align: right;\n",
       "    }\n",
       "</style>\n",
       "<table border=\"1\" class=\"dataframe\">\n",
       "  <thead>\n",
       "    <tr style=\"text-align: right;\">\n",
       "      <th></th>\n",
       "      <th>ChipID</th>\n",
       "      <th>AllFCSample</th>\n",
       "      <th>DBId</th>\n",
       "      <th>SampleName</th>\n",
       "      <th>Label</th>\n",
       "      <th>Method</th>\n",
       "      <th>Project</th>\n",
       "      <th>Donor</th>\n",
       "      <th>Species</th>\n",
       "      <th>Strain</th>\n",
       "      <th>...</th>\n",
       "      <th>Cell_Conc</th>\n",
       "      <th>Date_Captured</th>\n",
       "      <th>SampleOK</th>\n",
       "      <th>Chemistry</th>\n",
       "      <th>CMOBarcodes</th>\n",
       "      <th>LibraryIdxSets</th>\n",
       "      <th>Comment</th>\n",
       "      <th>AllFCTotCells</th>\n",
       "      <th>AllFCTotReads</th>\n",
       "      <th>Unnamed</th>\n",
       "    </tr>\n",
       "    <tr>\n",
       "      <th>SampleID:string</th>\n",
       "      <th></th>\n",
       "      <th></th>\n",
       "      <th></th>\n",
       "      <th></th>\n",
       "      <th></th>\n",
       "      <th></th>\n",
       "      <th></th>\n",
       "      <th></th>\n",
       "      <th></th>\n",
       "      <th></th>\n",
       "      <th></th>\n",
       "      <th></th>\n",
       "      <th></th>\n",
       "      <th></th>\n",
       "      <th></th>\n",
       "      <th></th>\n",
       "      <th></th>\n",
       "      <th></th>\n",
       "      <th></th>\n",
       "      <th></th>\n",
       "      <th></th>\n",
       "    </tr>\n",
       "  </thead>\n",
       "  <tbody>\n",
       "    <tr>\n",
       "      <th>10X145_1</th>\n",
       "      <td>10X145</td>\n",
       "      <td>10X145_1_ABCDEF_1</td>\n",
       "      <td>640</td>\n",
       "      <td>M1TX_181114_001</td>\n",
       "      <td>NaN</td>\n",
       "      <td>rna-seq</td>\n",
       "      <td>Adult human</td>\n",
       "      <td>H18.30.002</td>\n",
       "      <td>Hs</td>\n",
       "      <td>NaN</td>\n",
       "      <td>...</td>\n",
       "      <td>1010.0</td>\n",
       "      <td>2018-12-07</td>\n",
       "      <td>Y</td>\n",
       "      <td>v3</td>\n",
       "      <td>NaN</td>\n",
       "      <td>SI-GA-A8</td>\n",
       "      <td>10X V3</td>\n",
       "      <td>7810.0</td>\n",
       "      <td>1.419923e+09</td>\n",
       "      <td>NaN</td>\n",
       "    </tr>\n",
       "    <tr>\n",
       "      <th>10X145_2</th>\n",
       "      <td>10X145</td>\n",
       "      <td>10X145_2_ABCDEF_2</td>\n",
       "      <td>641</td>\n",
       "      <td>M1TX_181114_001</td>\n",
       "      <td>NaN</td>\n",
       "      <td>rna-seq</td>\n",
       "      <td>Adult human</td>\n",
       "      <td>H18.30.002</td>\n",
       "      <td>Hs</td>\n",
       "      <td>NaN</td>\n",
       "      <td>...</td>\n",
       "      <td>1010.0</td>\n",
       "      <td>2018-12-07</td>\n",
       "      <td>Y</td>\n",
       "      <td>v3</td>\n",
       "      <td>NaN</td>\n",
       "      <td>SI-GA-B8</td>\n",
       "      <td>10X V3</td>\n",
       "      <td>7556.0</td>\n",
       "      <td>1.852912e+09</td>\n",
       "      <td>NaN</td>\n",
       "    </tr>\n",
       "    <tr>\n",
       "      <th>10X145_3</th>\n",
       "      <td>10X145</td>\n",
       "      <td>10X145_3_ABCDEF_2</td>\n",
       "      <td>642</td>\n",
       "      <td>M1TX_181114_003</td>\n",
       "      <td>NaN</td>\n",
       "      <td>rna-seq</td>\n",
       "      <td>Adult human</td>\n",
       "      <td>H18.30.002</td>\n",
       "      <td>Hs</td>\n",
       "      <td>NaN</td>\n",
       "      <td>...</td>\n",
       "      <td>900.0</td>\n",
       "      <td>2018-12-07</td>\n",
       "      <td>Y</td>\n",
       "      <td>v3</td>\n",
       "      <td>NaN</td>\n",
       "      <td>SI-GA-C8</td>\n",
       "      <td>10X V3</td>\n",
       "      <td>6956.0</td>\n",
       "      <td>2.484448e+09</td>\n",
       "      <td>NaN</td>\n",
       "    </tr>\n",
       "    <tr>\n",
       "      <th>10X145_4</th>\n",
       "      <td>10X145</td>\n",
       "      <td>10X145_4_ABCDEF_2</td>\n",
       "      <td>643</td>\n",
       "      <td>M1TX_181114_003</td>\n",
       "      <td>NaN</td>\n",
       "      <td>rna-seq</td>\n",
       "      <td>Adult human</td>\n",
       "      <td>H18.30.002</td>\n",
       "      <td>Hs</td>\n",
       "      <td>NaN</td>\n",
       "      <td>...</td>\n",
       "      <td>900.0</td>\n",
       "      <td>2018-12-07</td>\n",
       "      <td>Y</td>\n",
       "      <td>v3</td>\n",
       "      <td>NaN</td>\n",
       "      <td>SI-GA-D8</td>\n",
       "      <td>10X V3</td>\n",
       "      <td>6759.0</td>\n",
       "      <td>1.467415e+09</td>\n",
       "      <td>NaN</td>\n",
       "    </tr>\n",
       "    <tr>\n",
       "      <th>10X145_5</th>\n",
       "      <td>10X145</td>\n",
       "      <td>10X145_5_ABCDEF_1</td>\n",
       "      <td>644</td>\n",
       "      <td>M1TX_181120_001</td>\n",
       "      <td>NaN</td>\n",
       "      <td>rna-seq</td>\n",
       "      <td>Adult human</td>\n",
       "      <td>H18.30.002</td>\n",
       "      <td>Hs</td>\n",
       "      <td>NaN</td>\n",
       "      <td>...</td>\n",
       "      <td>1230.0</td>\n",
       "      <td>2018-12-07</td>\n",
       "      <td>Y</td>\n",
       "      <td>v3</td>\n",
       "      <td>NaN</td>\n",
       "      <td>SI-GA-E8</td>\n",
       "      <td>10X V3</td>\n",
       "      <td>5914.0</td>\n",
       "      <td>1.068954e+09</td>\n",
       "      <td>NaN</td>\n",
       "    </tr>\n",
       "  </tbody>\n",
       "</table>\n",
       "<p>5 rows × 30 columns</p>\n",
       "</div>"
      ],
      "text/plain": [
       "                 ChipID        AllFCSample  DBId       SampleName Label  \\\n",
       "SampleID:string                                                           \n",
       "10X145_1         10X145  10X145_1_ABCDEF_1   640  M1TX_181114_001   NaN   \n",
       "10X145_2         10X145  10X145_2_ABCDEF_2   641  M1TX_181114_001   NaN   \n",
       "10X145_3         10X145  10X145_3_ABCDEF_2   642  M1TX_181114_003   NaN   \n",
       "10X145_4         10X145  10X145_4_ABCDEF_2   643  M1TX_181114_003   NaN   \n",
       "10X145_5         10X145  10X145_5_ABCDEF_1   644  M1TX_181120_001   NaN   \n",
       "\n",
       "                  Method      Project       Donor Species Strain  ...  \\\n",
       "SampleID:string                                                   ...   \n",
       "10X145_1         rna-seq  Adult human  H18.30.002      Hs    NaN  ...   \n",
       "10X145_2         rna-seq  Adult human  H18.30.002      Hs    NaN  ...   \n",
       "10X145_3         rna-seq  Adult human  H18.30.002      Hs    NaN  ...   \n",
       "10X145_4         rna-seq  Adult human  H18.30.002      Hs    NaN  ...   \n",
       "10X145_5         rna-seq  Adult human  H18.30.002      Hs    NaN  ...   \n",
       "\n",
       "                 Cell_Conc Date_Captured SampleOK Chemistry  CMOBarcodes  \\\n",
       "SampleID:string                                                            \n",
       "10X145_1            1010.0    2018-12-07        Y        v3          NaN   \n",
       "10X145_2            1010.0    2018-12-07        Y        v3          NaN   \n",
       "10X145_3             900.0    2018-12-07        Y        v3          NaN   \n",
       "10X145_4             900.0    2018-12-07        Y        v3          NaN   \n",
       "10X145_5            1230.0    2018-12-07        Y        v3          NaN   \n",
       "\n",
       "                LibraryIdxSets Comment AllFCTotCells  AllFCTotReads  Unnamed  \n",
       "SampleID:string                                                               \n",
       "10X145_1              SI-GA-A8  10X V3        7810.0   1.419923e+09      NaN  \n",
       "10X145_2              SI-GA-B8  10X V3        7556.0   1.852912e+09      NaN  \n",
       "10X145_3              SI-GA-C8  10X V3        6956.0   2.484448e+09      NaN  \n",
       "10X145_4              SI-GA-D8  10X V3        6759.0   1.467415e+09      NaN  \n",
       "10X145_5              SI-GA-E8  10X V3        5914.0   1.068954e+09      NaN  \n",
       "\n",
       "[5 rows x 30 columns]"
      ]
     },
     "execution_count": 9,
     "metadata": {},
     "output_type": "execute_result"
    }
   ],
   "source": [
    "sample_table['SampleName'] = sample_table['SampleName'].str[:-4]\n",
    "sample_table.head()"
   ]
  },
  {
   "cell_type": "code",
   "execution_count": 10,
   "id": "660a9185-18a1-4918-b67a-f87f16eabd28",
   "metadata": {
    "execution": {
     "iopub.execute_input": "2022-09-26T14:22:21.379509Z",
     "iopub.status.busy": "2022-09-26T14:22:21.379379Z",
     "iopub.status.idle": "2022-09-26T14:22:21.382894Z",
     "shell.execute_reply": "2022-09-26T14:22:21.382505Z",
     "shell.execute_reply.started": "2022-09-26T14:22:21.379490Z"
    },
    "tags": []
   },
   "outputs": [
    {
     "data": {
      "text/plain": [
       "Index(['ChipID', 'AllFCSample', 'DBId', 'SampleName', 'Label', 'Method',\n",
       "       'Project', 'Donor', 'Species', 'Strain', 'NumericalAge', 'AgeUnit',\n",
       "       'Age', 'Sex', 'Num_Pooled_Animals', 'Plug_Date', 'Tissue',\n",
       "       'RegionOfInterest', 'NeuronProp', 'Target_Num_Cells', 'Cell_Conc',\n",
       "       'Date_Captured', 'SampleOK', 'Chemistry', 'CMOBarcodes',\n",
       "       'LibraryIdxSets', 'Comment', 'AllFCTotCells', 'AllFCTotReads',\n",
       "       'Unnamed'],\n",
       "      dtype='object')"
      ]
     },
     "execution_count": 10,
     "metadata": {},
     "output_type": "execute_result"
    }
   ],
   "source": [
    "sample_table.columns"
   ]
  },
  {
   "cell_type": "code",
   "execution_count": 11,
   "id": "63814aba-f0b5-4f53-b2be-1c88f56d559b",
   "metadata": {
    "execution": {
     "iopub.execute_input": "2022-09-26T14:22:21.384039Z",
     "iopub.status.busy": "2022-09-26T14:22:21.383877Z",
     "iopub.status.idle": "2022-09-26T14:22:21.420275Z",
     "shell.execute_reply": "2022-09-26T14:22:21.419847Z",
     "shell.execute_reply.started": "2022-09-26T14:22:21.384004Z"
    },
    "tags": []
   },
   "outputs": [],
   "source": [
    "sample_table = sample_table[\n",
    "    [\n",
    "        'SampleName', \n",
    "        'Donor',\n",
    "        'Age', \n",
    "        'Sex', \n",
    "        'Tissue', \n",
    "        'RegionOfInterest', \n",
    "        'NeuronProp',\n",
    "        'Chemistry', \n",
    "        'SampleOK', \n",
    "        'LibraryIdxSets', \n",
    "        'AllFCTotCells',\n",
    "        'Comment'\n",
    "    ]\n",
    "]"
   ]
  },
  {
   "cell_type": "code",
   "execution_count": 12,
   "id": "938d59d8-cef0-4d46-b8f6-d4dddf863bf1",
   "metadata": {
    "execution": {
     "iopub.execute_input": "2022-09-26T14:22:49.626647Z",
     "iopub.status.busy": "2022-09-26T14:22:49.626385Z",
     "iopub.status.idle": "2022-09-26T14:22:50.696459Z",
     "shell.execute_reply": "2022-09-26T14:22:50.695949Z",
     "shell.execute_reply.started": "2022-09-26T14:22:49.626626Z"
    },
    "tags": []
   },
   "outputs": [],
   "source": [
    "sample_table.to_excel('/home/kimberly/figures/Sample_Table.xlsx')"
   ]
  },
  {
   "cell_type": "code",
   "execution_count": 76,
   "id": "940d1ad2-e3df-48af-b8ee-b786c5848f12",
   "metadata": {
    "execution": {
     "iopub.execute_input": "2022-06-01T14:16:33.320218Z",
     "iopub.status.busy": "2022-06-01T14:16:33.319875Z",
     "iopub.status.idle": "2022-06-01T14:16:37.278160Z",
     "shell.execute_reply": "2022-06-01T14:16:37.277174Z",
     "shell.execute_reply.started": "2022-06-01T14:16:33.320175Z"
    },
    "tags": []
   },
   "outputs": [
    {
     "name": "stdout",
     "output_type": "stream",
     "text": [
      "SampleID:string\n",
      "10X146_1    N\n",
      "10X160_4    N\n",
      "10X173_6    N\n",
      "10X194_3    N\n",
      "10X205_1    N\n",
      "Name: SampleOK, dtype: object\n"
     ]
    }
   ],
   "source": [
    "with loompy.connect(f'{folder}/data/Pool.loom', 'r') as ds:\n",
    "    print(sample_table['SampleOK'][~sample_table.index.isin(ds.ca.SampleID)])"
   ]
  },
  {
   "cell_type": "code",
   "execution_count": 77,
   "id": "d4d0808a-32dc-47dd-b65b-8c48046df1d7",
   "metadata": {
    "execution": {
     "iopub.execute_input": "2022-06-01T14:16:37.280072Z",
     "iopub.status.busy": "2022-06-01T14:16:37.279893Z",
     "iopub.status.idle": "2022-06-01T14:16:40.824047Z",
     "shell.execute_reply": "2022-06-01T14:16:40.823109Z",
     "shell.execute_reply.started": "2022-06-01T14:16:37.280049Z"
    },
    "tags": []
   },
   "outputs": [
    {
     "name": "stdout",
     "output_type": "stream",
     "text": [
      "606\n"
     ]
    }
   ],
   "source": [
    "with loompy.connect(f'{folder}/data/Pool.loom', 'r') as ds:\n",
    "    print(sample_table.index.isin(ds.ca.SampleID).sum())"
   ]
  },
  {
   "cell_type": "code",
   "execution_count": 78,
   "id": "947674c6-f775-4ae5-907a-75fa728ef149",
   "metadata": {
    "execution": {
     "iopub.execute_input": "2022-06-01T14:16:40.825469Z",
     "iopub.status.busy": "2022-06-01T14:16:40.825298Z",
     "iopub.status.idle": "2022-06-01T14:16:47.992705Z",
     "shell.execute_reply": "2022-06-01T14:16:47.991961Z",
     "shell.execute_reply.started": "2022-06-01T14:16:40.825447Z"
    },
    "tags": []
   },
   "outputs": [
    {
     "name": "stdout",
     "output_type": "stream",
     "text": [
      "606\n"
     ]
    }
   ],
   "source": [
    "with loompy.connect(f'{folder}/data/Pool.loom', 'r') as ds:\n",
    "    print(pd.Series(np.unique(ds.ca.SampleID)).isin(sample_table.index).sum())"
   ]
  },
  {
   "cell_type": "markdown",
   "id": "3f4e0573-3228-48ce-b131-5ce2dbbee62a",
   "metadata": {},
   "source": [
    "### Number of cells captured per sample"
   ]
  },
  {
   "cell_type": "code",
   "execution_count": 32,
   "id": "60b37626-f6e5-4867-9d69-0118f38a80ca",
   "metadata": {
    "execution": {
     "iopub.execute_input": "2022-04-06T14:22:19.027698Z",
     "iopub.status.busy": "2022-04-06T14:22:19.027146Z",
     "iopub.status.idle": "2022-04-06T14:22:19.042450Z",
     "shell.execute_reply": "2022-04-06T14:22:19.041510Z",
     "shell.execute_reply.started": "2022-04-06T14:22:19.027638Z"
    }
   },
   "outputs": [
    {
     "data": {
      "text/plain": [
       "6224.5"
      ]
     },
     "execution_count": 32,
     "metadata": {},
     "output_type": "execute_result"
    }
   ],
   "source": [
    "np.median(ncells)"
   ]
  },
  {
   "cell_type": "code",
   "execution_count": 23,
   "id": "d241a313-c666-415a-8e02-846c9b889290",
   "metadata": {
    "execution": {
     "iopub.execute_input": "2022-04-01T14:40:19.779967Z",
     "iopub.status.busy": "2022-04-01T14:40:19.779555Z",
     "iopub.status.idle": "2022-04-01T14:40:20.137036Z",
     "shell.execute_reply": "2022-04-01T14:40:20.136382Z",
     "shell.execute_reply.started": "2022-04-01T14:40:19.779922Z"
    },
    "tags": []
   },
   "outputs": [
    {
     "data": {
      "image/png": "[encoded data removed]",
      "text/plain": [
       "<Figure size 129.6x129.6 with 1 Axes>"
      ]
     },
     "metadata": {
      "needs_background": "light"
     },
     "output_type": "display_data"
    }
   ],
   "source": [
    "plt.figure(None, (1.8, 1.8))\n",
    "ax = plt.subplot(111)\n",
    "plt.hist(ncells, bins=20, alpha=0.6)\n",
    "\n",
    "# x and y labels\n",
    "plt.xticks(np.arange(0, 18000, 2500), rotation=90, fontsize=8)\n",
    "plt.yticks(fontsize=8)\n",
    "plt.ylabel('Number of samples', fontsize=8)\n",
    "plt.xlabel('Number of cells captured', fontsize=8)\n",
    "\n",
    "# turn off top and right axis\n",
    "ax.spines['right'].set_visible(False)\n",
    "ax.spines['top'].set_visible(False)\n",
    "plt.savefig('/home/kimberly/figures/histogram_cells_per_sample.pdf', dpi=300)"
   ]
  },
  {
   "cell_type": "markdown",
   "id": "68b13f1f-549e-4f35-bf85-19410e5933f6",
   "metadata": {},
   "source": [
    "### Unspliced fractions, total UMI counts, doublet finder"
   ]
  },
  {
   "cell_type": "code",
   "execution_count": 18,
   "id": "293d9673-eb30-4d74-aac4-da4f1f6230ef",
   "metadata": {
    "execution": {
     "iopub.execute_input": "2022-05-27T12:04:38.698891Z",
     "iopub.status.busy": "2022-05-27T12:04:38.698539Z",
     "iopub.status.idle": "2022-05-27T12:05:07.697637Z",
     "shell.execute_reply": "2022-05-27T12:05:07.696228Z",
     "shell.execute_reply.started": "2022-05-27T12:04:38.698846Z"
    },
    "tags": []
   },
   "outputs": [],
   "source": [
    "umi_dists = []\n",
    "gene_dists = []\n",
    "doublet_dists = []\n",
    "unspliced_dists = []\n",
    "regions = []\n",
    "\n",
    "x_i = 0\n",
    "\n",
    "# iterate through ROI groups\n",
    "for grp in roi_groups:\n",
    "    \n",
    "    # get list of ROIs from dictionary\n",
    "    region_list = roi_group_dict[grp]\n",
    "    \n",
    "    # for each roi\n",
    "    for r in region_list:\n",
    "        \n",
    "        # get filename\n",
    "        name = r.replace(\"Human \", \"\")\n",
    "        regions.append(name)\n",
    "\n",
    "        # connect\n",
    "        with loompy.connect(f'{folder}/data/{name}.loom', 'r') as ds:\n",
    "            # get unique samples and cell counts for each sample\n",
    "            umi_dists.append(ds.ca.TotalUMI)\n",
    "            gene_dists.append(ds.ca.NGenes)\n",
    "            doublet_dists.append(ds.ca.DoubletFinderScore)\n",
    "            unspliced_dists.append(ds.ca.unspliced_ratio)"
   ]
  },
  {
   "cell_type": "code",
   "execution_count": 26,
   "id": "978d76e5-5d4f-4d2f-82cc-73ad4b90306e",
   "metadata": {
    "execution": {
     "iopub.execute_input": "2022-04-01T14:40:42.756256Z",
     "iopub.status.busy": "2022-04-01T14:40:42.755895Z",
     "iopub.status.idle": "2022-04-01T14:40:43.370711Z",
     "shell.execute_reply": "2022-04-01T14:40:43.370195Z",
     "shell.execute_reply.started": "2022-04-01T14:40:42.756211Z"
    },
    "tags": []
   },
   "outputs": [
    {
     "data": {
      "image/png": "[encoded data removed]",
      "text/plain": [
       "<Figure size 129.6x129.6 with 1 Axes>"
      ]
     },
     "metadata": {
      "needs_background": "light"
     },
     "output_type": "display_data"
    }
   ],
   "source": [
    "plt.figure(None, (1.8, 1.8))\n",
    "ax = plt.subplot(111)\n",
    "plt.hist(np.hstack(umi_dists), bins=50, range=(0, 5000), alpha=0.6)\n",
    "\n",
    "# x and y labels\n",
    "plt.xticks(np.arange(0, 5000, 1000), rotation=90, fontsize=8)\n",
    "plt.yticks(fontsize=8)\n",
    "plt.ylabel('Number of cells', fontsize=8)\n",
    "plt.xlabel('Total UMIs', fontsize=8)\n",
    "\n",
    "# plt cutoff used\n",
    "plt.vlines(800, 0, ax.get_ylim()[1], color=cmap[2])\n",
    "\n",
    "# turn off top and right axis\n",
    "ax.spines['right'].set_visible(False)\n",
    "ax.spines['top'].set_visible(False)\n",
    "plt.savefig('/home/kimberly/figures/histogram_umis.pdf', dpi=300)"
   ]
  },
  {
   "cell_type": "code",
   "execution_count": 27,
   "id": "476d4c1a-0b68-41da-a837-4c7de3d83861",
   "metadata": {
    "execution": {
     "iopub.execute_input": "2022-04-01T14:40:48.738996Z",
     "iopub.status.busy": "2022-04-01T14:40:48.738507Z",
     "iopub.status.idle": "2022-04-01T14:40:49.252258Z",
     "shell.execute_reply": "2022-04-01T14:40:49.251750Z",
     "shell.execute_reply.started": "2022-04-01T14:40:48.738949Z"
    },
    "tags": []
   },
   "outputs": [
    {
     "data": {
      "image/png": "[encoded data removed]",
      "text/plain": [
       "<Figure size 129.6x129.6 with 1 Axes>"
      ]
     },
     "metadata": {
      "needs_background": "light"
     },
     "output_type": "display_data"
    }
   ],
   "source": [
    "plt.figure(None, (1.8, 1.8))\n",
    "ax = plt.subplot(111)\n",
    "plt.hist(np.hstack(doublet_dists), bins=20, alpha=0.6)\n",
    "\n",
    "# x and y labels\n",
    "plt.xticks(np.arange(0, 1, 0.1), rotation=90, fontsize=8)\n",
    "plt.yticks(fontsize=8)\n",
    "plt.ylabel('Number of cells', fontsize=8)\n",
    "plt.xlabel('DoubletFinder score', fontsize=8)\n",
    "\n",
    "# plt cutoff used\n",
    "plt.vlines(0.3, 0, ax.get_ylim()[1], color=cmap[2])\n",
    "\n",
    "# turn off top and right axis\n",
    "ax.spines['right'].set_visible(False)\n",
    "ax.spines['top'].set_visible(False)\n",
    "plt.savefig('/home/kimberly/figures/histogram_doublets.pdf', dpi=300)"
   ]
  },
  {
   "cell_type": "code",
   "execution_count": 28,
   "id": "3294851e-ccdb-45b6-828b-0b53393b3f92",
   "metadata": {
    "execution": {
     "iopub.execute_input": "2022-04-01T14:40:54.082374Z",
     "iopub.status.busy": "2022-04-01T14:40:54.081901Z",
     "iopub.status.idle": "2022-04-01T14:40:54.535961Z",
     "shell.execute_reply": "2022-04-01T14:40:54.535291Z",
     "shell.execute_reply.started": "2022-04-01T14:40:54.082327Z"
    },
    "tags": []
   },
   "outputs": [
    {
     "data": {
      "image/png": "[encoded data removed]",
      "text/plain": [
       "<Figure size 129.6x129.6 with 1 Axes>"
      ]
     },
     "metadata": {
      "needs_background": "light"
     },
     "output_type": "display_data"
    }
   ],
   "source": [
    "plt.figure(None, (1.8, 1.8))\n",
    "ax = plt.subplot(111)\n",
    "plt.hist(np.hstack(unspliced_dists), bins=20, alpha=0.6)\n",
    "\n",
    "# x and y labels\n",
    "plt.xticks(np.arange(0, 1, 0.1), rotation=90, fontsize=8)\n",
    "plt.yticks(fontsize=8)\n",
    "plt.ylabel('Number of cells', fontsize=8)\n",
    "plt.xlabel('Percent unspliced UMIs', fontsize=8)\n",
    "\n",
    "# plt cutoff used\n",
    "plt.vlines(0.4, 0, ax.get_ylim()[1], color=cmap[2])\n",
    "\n",
    "# turn off top and right axis\n",
    "ax.spines['right'].set_visible(False)\n",
    "ax.spines['top'].set_visible(False)\n",
    "plt.savefig('/home/kimberly/figures/histogram_unspliced.pdf', dpi=300)"
   ]
  },
  {
   "cell_type": "code",
   "execution_count": 31,
   "id": "88914167-f9da-4b6c-a2d2-5a3da7b89250",
   "metadata": {
    "execution": {
     "iopub.execute_input": "2022-04-01T14:43:13.747642Z",
     "iopub.status.busy": "2022-04-01T14:43:13.747118Z",
     "iopub.status.idle": "2022-04-01T14:43:16.968119Z",
     "shell.execute_reply": "2022-04-01T14:43:16.967629Z",
     "shell.execute_reply.started": "2022-04-01T14:43:13.747593Z"
    },
    "tags": []
   },
   "outputs": [
    {
     "data": {
      "image/png": "[encoded data removed]",
      "text/plain": [
       "<Figure size 1224x360 with 1 Axes>"
      ]
     },
     "metadata": {
      "needs_background": "light"
     },
     "output_type": "display_data"
    }
   ],
   "source": [
    "plt.figure(None, (8.5, 2.5), dpi=144)\n",
    "ax = plt.subplot(111)\n",
    "\n",
    "plt.boxplot(gene_dists, showfliers=False)\n",
    "\n",
    "# x and y labels\n",
    "plt.xticks(range(1, len(regions) + 1), regions, rotation=90, fontsize=6)\n",
    "plt.yticks(fontsize=6)\n",
    "plt.ylabel('Number of genes per cell', fontsize=6)\n",
    "\n",
    "# axes\n",
    "plt.margins(0.02, 0.02)\n",
    "ax.spines['right'].set_visible(False)\n",
    "ax.spines['top'].set_visible(False)\n",
    "plt.tight_layout()\n",
    "plt.savefig('/home/kimberly/figures/boxplot_genes_per_sample.pdf', dpi=300)"
   ]
  },
  {
   "cell_type": "code",
   "execution_count": 142,
   "id": "33bd23e5-e7ae-49b4-9ff6-8675aafc96b4",
   "metadata": {
    "execution": {
     "iopub.execute_input": "2022-05-27T14:28:13.589064Z",
     "iopub.status.busy": "2022-05-27T14:28:13.588653Z",
     "iopub.status.idle": "2022-05-27T14:28:16.915654Z",
     "shell.execute_reply": "2022-05-27T14:28:16.915195Z",
     "shell.execute_reply.started": "2022-05-27T14:28:13.589018Z"
    },
    "tags": []
   },
   "outputs": [
    {
     "data": {
      "image/png": "[encoded data removed]",
      "text/plain": [
       "<Figure size 1224x360 with 1 Axes>"
      ]
     },
     "metadata": {
      "needs_background": "light"
     },
     "output_type": "display_data"
    }
   ],
   "source": [
    "plt.figure(None, (8.5, 2.5), dpi=144)\n",
    "ax = plt.subplot(111)\n",
    "\n",
    "plt.boxplot(umi_dists, showfliers=False)\n",
    "\n",
    "# x and y labels\n",
    "plt.xticks(range(1, len(regions) + 1), regions, rotation=90, fontsize=6)\n",
    "plt.yticks(fontsize=6)\n",
    "plt.ylabel('Number of UMIs per cell', fontsize=6)\n",
    "\n",
    "# axes\n",
    "plt.margins(0.02, 0.02)\n",
    "ax.spines['right'].set_visible(False)\n",
    "ax.spines['top'].set_visible(False)\n",
    "plt.tight_layout()\n",
    "plt.savefig('/home/kimberly/figures/boxplot_umis_per_sample.pdf', dpi=300)"
   ]
  },
  {
   "cell_type": "markdown",
   "id": "be8861a6-14ca-440d-b7d0-1a55f3bb4062",
   "metadata": {},
   "source": [
    "### Summary of cell class proportions, which explain some UMI differences"
   ]
  },
  {
   "cell_type": "markdown",
   "id": "01846e10-6f84-439e-bcc1-b2b906ce528d",
   "metadata": {},
   "source": [
    "possibly just use bar plot contributions: gabergic, glutamatergic, non-neuronal after annotation"
   ]
  },
  {
   "cell_type": "code",
   "execution_count": 65,
   "id": "d9ece87c-460c-4778-9524-4d55f835ef05",
   "metadata": {
    "execution": {
     "iopub.execute_input": "2022-05-27T12:57:00.682184Z",
     "iopub.status.busy": "2022-05-27T12:57:00.681825Z",
     "iopub.status.idle": "2022-05-27T12:57:00.687228Z",
     "shell.execute_reply": "2022-05-27T12:57:00.686319Z",
     "shell.execute_reply.started": "2022-05-27T12:57:00.682136Z"
    },
    "tags": []
   },
   "outputs": [],
   "source": [
    "annotation_file = '/proj/human_adult/20220222/harmony/paris_top/Pool.xlsx'"
   ]
  },
  {
   "cell_type": "code",
   "execution_count": 68,
   "id": "ed964744-2acf-4480-809a-0e6b896ca37e",
   "metadata": {
    "execution": {
     "iopub.execute_input": "2022-05-27T12:58:06.252204Z",
     "iopub.status.busy": "2022-05-27T12:58:06.251783Z",
     "iopub.status.idle": "2022-05-27T12:58:10.510695Z",
     "shell.execute_reply": "2022-05-27T12:58:10.509797Z",
     "shell.execute_reply.started": "2022-05-27T12:58:06.252155Z"
    },
    "tags": []
   },
   "outputs": [
    {
     "name": "stderr",
     "output_type": "stream",
     "text": [
      "/proj/user/kimberly/miniconda3/lib/python3.9/site-packages/openpyxl/worksheet/_reader.py:312: UserWarning: Unknown extension is not supported and will be removed\n",
      "  warn(msg)\n"
     ]
    },
    {
     "data": {
      "text/html": [
       "<div>\n",
       "<style scoped>\n",
       "    .dataframe tbody tr th:only-of-type {\n",
       "        vertical-align: middle;\n",
       "    }\n",
       "\n",
       "    .dataframe tbody tr th {\n",
       "        vertical-align: top;\n",
       "    }\n",
       "\n",
       "    .dataframe thead th {\n",
       "        text-align: right;\n",
       "    }\n",
       "</style>\n",
       "<table border=\"1\" class=\"dataframe\">\n",
       "  <thead>\n",
       "    <tr style=\"text-align: right;\">\n",
       "      <th></th>\n",
       "      <th>Unnamed: 0</th>\n",
       "      <th>Age_29.0</th>\n",
       "      <th>Age_42.0</th>\n",
       "      <th>Age_50.0</th>\n",
       "      <th>Age_60.0</th>\n",
       "      <th>Euclidean dend</th>\n",
       "      <th>AutoAnnotation</th>\n",
       "      <th>Class</th>\n",
       "      <th>Subclass</th>\n",
       "      <th>MTG Label from Kim</th>\n",
       "      <th>...</th>\n",
       "      <th>Tissue_Thalamus (THM) - intralaminar nuclear complex (ILN) - posterior group of intralaminar nuclei (PILN) - centromedian and parafasicular nuclei - CM and Pf</th>\n",
       "      <th>Tissue_Thalamus (THM) - intralaminar nuclear complex (ILN) - posterior group of intralaminar nuclei (PILN) - centromedian nucleus of thalamus - CM</th>\n",
       "      <th>Tissue_Thalamus (THM) - lateral nuclear complex of thalamus (LNC) - Pulvinar of thalamus - Pul</th>\n",
       "      <th>Tissue_Thalamus (THM) - lateral nuclear complex of thalamus (LNC) - lateral posterior nucleus of thalamus + ventral posterior lateral nucleus - LP + VPL</th>\n",
       "      <th>Tissue_Thalamus (THM) - lateral nuclear complex of thalamus (LNC) - lateral posterior nucleus of thalamus - LP</th>\n",
       "      <th>Tissue_Thalamus (THM) - lateral nuclear complex of thalamus (LNC) - ventral posterior lateral nucleus - VPL</th>\n",
       "      <th>Tissue_Thalamus (THM) - medial nuclear complex of thalamus (MNC) - mediodorsal nucleus of thalamus + reuniens nucleus (medioventral nucleus) of thalamus - MD + Re</th>\n",
       "      <th>Tissue_Thalamus (THM) - medial nuclear complex of thalamus (MNC) - mediodorsal nucleus of thalamus - MD</th>\n",
       "      <th>Tissue_Thalamus (THM) - posterior nuclear complex of thalamus (PoN) - lateral geniculate nucleus (LG)</th>\n",
       "      <th>Tissue_Thalamus (THM) - posterior nuclear complex of thalamus (PoN) - medial geniculate nuclei (MG)</th>\n",
       "    </tr>\n",
       "  </thead>\n",
       "  <tbody>\n",
       "    <tr>\n",
       "      <th>490</th>\n",
       "      <td>0</td>\n",
       "      <td>194</td>\n",
       "      <td>485</td>\n",
       "      <td>226</td>\n",
       "      <td>5</td>\n",
       "      <td>490</td>\n",
       "      <td>NT-VGLUT1 O-HEM UBC</td>\n",
       "      <td>Excitatory neuron</td>\n",
       "      <td>Unipolar brush cell</td>\n",
       "      <td>NaN</td>\n",
       "      <td>...</td>\n",
       "      <td>0</td>\n",
       "      <td>0</td>\n",
       "      <td>0</td>\n",
       "      <td>0</td>\n",
       "      <td>0</td>\n",
       "      <td>0</td>\n",
       "      <td>0</td>\n",
       "      <td>0</td>\n",
       "      <td>1</td>\n",
       "      <td>1</td>\n",
       "    </tr>\n",
       "    <tr>\n",
       "      <th>489</th>\n",
       "      <td>1</td>\n",
       "      <td>413</td>\n",
       "      <td>255</td>\n",
       "      <td>248</td>\n",
       "      <td>29</td>\n",
       "      <td>489</td>\n",
       "      <td>NEUR NT-VGLUT1 NT-VGLUT2 O-HEM P-HYP</td>\n",
       "      <td>Doublets/BadCells</td>\n",
       "      <td>Doublets/BadCells</td>\n",
       "      <td>NaN</td>\n",
       "      <td>...</td>\n",
       "      <td>1</td>\n",
       "      <td>0</td>\n",
       "      <td>1</td>\n",
       "      <td>0</td>\n",
       "      <td>1</td>\n",
       "      <td>0</td>\n",
       "      <td>0</td>\n",
       "      <td>0</td>\n",
       "      <td>4</td>\n",
       "      <td>0</td>\n",
       "    </tr>\n",
       "    <tr>\n",
       "      <th>488</th>\n",
       "      <td>2</td>\n",
       "      <td>457</td>\n",
       "      <td>1091</td>\n",
       "      <td>323</td>\n",
       "      <td>6</td>\n",
       "      <td>488</td>\n",
       "      <td>ASTRO NEUR NT-VGLUT1</td>\n",
       "      <td>Doublets/BadCells</td>\n",
       "      <td>Doublets/BadCells</td>\n",
       "      <td>NaN</td>\n",
       "      <td>...</td>\n",
       "      <td>1</td>\n",
       "      <td>0</td>\n",
       "      <td>0</td>\n",
       "      <td>0</td>\n",
       "      <td>0</td>\n",
       "      <td>0</td>\n",
       "      <td>0</td>\n",
       "      <td>0</td>\n",
       "      <td>2</td>\n",
       "      <td>1</td>\n",
       "    </tr>\n",
       "    <tr>\n",
       "      <th>487</th>\n",
       "      <td>3</td>\n",
       "      <td>425</td>\n",
       "      <td>358</td>\n",
       "      <td>238</td>\n",
       "      <td>5</td>\n",
       "      <td>487</td>\n",
       "      <td>NEUR NT-VGLUT1 OLIGO P-HYP</td>\n",
       "      <td>Doublets/BadCells</td>\n",
       "      <td>Doublets/BadCells</td>\n",
       "      <td>NaN</td>\n",
       "      <td>...</td>\n",
       "      <td>1</td>\n",
       "      <td>1</td>\n",
       "      <td>0</td>\n",
       "      <td>0</td>\n",
       "      <td>1</td>\n",
       "      <td>0</td>\n",
       "      <td>0</td>\n",
       "      <td>1</td>\n",
       "      <td>5</td>\n",
       "      <td>5</td>\n",
       "    </tr>\n",
       "    <tr>\n",
       "      <th>484</th>\n",
       "      <td>4</td>\n",
       "      <td>1298</td>\n",
       "      <td>3248</td>\n",
       "      <td>1836</td>\n",
       "      <td>0</td>\n",
       "      <td>484</td>\n",
       "      <td>NEUR NT-VGLUT1</td>\n",
       "      <td>Excitatory neuron</td>\n",
       "      <td>Cerebellar granule cells</td>\n",
       "      <td>NaN</td>\n",
       "      <td>...</td>\n",
       "      <td>0</td>\n",
       "      <td>0</td>\n",
       "      <td>0</td>\n",
       "      <td>0</td>\n",
       "      <td>0</td>\n",
       "      <td>0</td>\n",
       "      <td>0</td>\n",
       "      <td>1</td>\n",
       "      <td>2</td>\n",
       "      <td>1</td>\n",
       "    </tr>\n",
       "  </tbody>\n",
       "</table>\n",
       "<p>5 rows × 753 columns</p>\n",
       "</div>"
      ],
      "text/plain": [
       "     Unnamed: 0  Age_29.0  Age_42.0  Age_50.0  Age_60.0  Euclidean dend  \\\n",
       "490           0       194       485       226         5             490   \n",
       "489           1       413       255       248        29             489   \n",
       "488           2       457      1091       323         6             488   \n",
       "487           3       425       358       238         5             487   \n",
       "484           4      1298      3248      1836         0             484   \n",
       "\n",
       "                           AutoAnnotation              Class  \\\n",
       "490                   NT-VGLUT1 O-HEM UBC  Excitatory neuron   \n",
       "489  NEUR NT-VGLUT1 NT-VGLUT2 O-HEM P-HYP  Doublets/BadCells   \n",
       "488                  ASTRO NEUR NT-VGLUT1  Doublets/BadCells   \n",
       "487            NEUR NT-VGLUT1 OLIGO P-HYP  Doublets/BadCells   \n",
       "484                        NEUR NT-VGLUT1  Excitatory neuron   \n",
       "\n",
       "                     Subclass MTG Label from Kim  ...  \\\n",
       "490       Unipolar brush cell                NaN  ...   \n",
       "489         Doublets/BadCells                NaN  ...   \n",
       "488         Doublets/BadCells                NaN  ...   \n",
       "487         Doublets/BadCells                NaN  ...   \n",
       "484  Cerebellar granule cells                NaN  ...   \n",
       "\n",
       "    Tissue_Thalamus (THM) - intralaminar nuclear complex (ILN) - posterior group of intralaminar nuclei (PILN) - centromedian and parafasicular nuclei - CM and Pf  \\\n",
       "490                                                  0                                                                                                               \n",
       "489                                                  1                                                                                                               \n",
       "488                                                  1                                                                                                               \n",
       "487                                                  1                                                                                                               \n",
       "484                                                  0                                                                                                               \n",
       "\n",
       "    Tissue_Thalamus (THM) - intralaminar nuclear complex (ILN) - posterior group of intralaminar nuclei (PILN) - centromedian nucleus of thalamus - CM  \\\n",
       "490                                                  0                                                                                                   \n",
       "489                                                  0                                                                                                   \n",
       "488                                                  0                                                                                                   \n",
       "487                                                  1                                                                                                   \n",
       "484                                                  0                                                                                                   \n",
       "\n",
       "     Tissue_Thalamus (THM) - lateral nuclear complex of thalamus (LNC) - Pulvinar of thalamus - Pul  \\\n",
       "490                                                  0                                                \n",
       "489                                                  1                                                \n",
       "488                                                  0                                                \n",
       "487                                                  0                                                \n",
       "484                                                  0                                                \n",
       "\n",
       "     Tissue_Thalamus (THM) - lateral nuclear complex of thalamus (LNC) - lateral posterior nucleus of thalamus + ventral posterior lateral nucleus - LP + VPL  \\\n",
       "490                                                  0                                                                                                          \n",
       "489                                                  0                                                                                                          \n",
       "488                                                  0                                                                                                          \n",
       "487                                                  0                                                                                                          \n",
       "484                                                  0                                                                                                          \n",
       "\n",
       "     Tissue_Thalamus (THM) - lateral nuclear complex of thalamus (LNC) - lateral posterior nucleus of thalamus - LP  \\\n",
       "490                                                  0                                                                \n",
       "489                                                  1                                                                \n",
       "488                                                  0                                                                \n",
       "487                                                  1                                                                \n",
       "484                                                  0                                                                \n",
       "\n",
       "     Tissue_Thalamus (THM) - lateral nuclear complex of thalamus (LNC) - ventral posterior lateral nucleus - VPL  \\\n",
       "490                                                  0                                                             \n",
       "489                                                  0                                                             \n",
       "488                                                  0                                                             \n",
       "487                                                  0                                                             \n",
       "484                                                  0                                                             \n",
       "\n",
       "    Tissue_Thalamus (THM) - medial nuclear complex of thalamus (MNC) - mediodorsal nucleus of thalamus + reuniens nucleus (medioventral nucleus) of thalamus - MD + Re  \\\n",
       "490                                                  0                                                                                                                   \n",
       "489                                                  0                                                                                                                   \n",
       "488                                                  0                                                                                                                   \n",
       "487                                                  0                                                                                                                   \n",
       "484                                                  0                                                                                                                   \n",
       "\n",
       "    Tissue_Thalamus (THM) - medial nuclear complex of thalamus (MNC) - mediodorsal nucleus of thalamus - MD  \\\n",
       "490                                                  0                                                        \n",
       "489                                                  0                                                        \n",
       "488                                                  0                                                        \n",
       "487                                                  1                                                        \n",
       "484                                                  1                                                        \n",
       "\n",
       "    Tissue_Thalamus (THM) - posterior nuclear complex of thalamus (PoN) - lateral geniculate nucleus (LG)  \\\n",
       "490                                                  1                                                      \n",
       "489                                                  4                                                      \n",
       "488                                                  2                                                      \n",
       "487                                                  5                                                      \n",
       "484                                                  2                                                      \n",
       "\n",
       "     Tissue_Thalamus (THM) - posterior nuclear complex of thalamus (PoN) - medial geniculate nuclei (MG)  \n",
       "490                                                  1                                                    \n",
       "489                                                  0                                                    \n",
       "488                                                  1                                                    \n",
       "487                                                  5                                                    \n",
       "484                                                  1                                                    \n",
       "\n",
       "[5 rows x 753 columns]"
      ]
     },
     "execution_count": 68,
     "metadata": {},
     "output_type": "execute_result"
    }
   ],
   "source": [
    "ann = pd.read_excel(annotation_file).sort_values(by='Unnamed: 0')\n",
    "ann.head()"
   ]
  },
  {
   "cell_type": "code",
   "execution_count": 70,
   "id": "6f7c857c-a33e-4e5b-a949-944f31c23370",
   "metadata": {
    "execution": {
     "iopub.execute_input": "2022-05-27T12:59:03.177002Z",
     "iopub.status.busy": "2022-05-27T12:59:03.176591Z",
     "iopub.status.idle": "2022-05-27T12:59:03.185525Z",
     "shell.execute_reply": "2022-05-27T12:59:03.184565Z",
     "shell.execute_reply.started": "2022-05-27T12:59:03.176955Z"
    }
   },
   "outputs": [
    {
     "data": {
      "text/plain": [
       "array(['Excitatory neuron', 'Doublets/BadCells', 'Inhibitory neuron',\n",
       "       'Oligodendrocyte lineage', 'Astroependymal', 'Choroid plexus',\n",
       "       'Schwann cell', 'Vascular', 'Immune'], dtype=object)"
      ]
     },
     "execution_count": 70,
     "metadata": {},
     "output_type": "execute_result"
    }
   ],
   "source": [
    "ann['Class'].unique()"
   ]
  },
  {
   "cell_type": "code",
   "execution_count": 73,
   "id": "f34e6bfc-bb66-4c63-9b9b-6c91cfa5a3d4",
   "metadata": {
    "execution": {
     "iopub.execute_input": "2022-05-27T13:01:38.250460Z",
     "iopub.status.busy": "2022-05-27T13:01:38.249993Z",
     "iopub.status.idle": "2022-05-27T13:01:38.260443Z",
     "shell.execute_reply": "2022-05-27T13:01:38.259554Z",
     "shell.execute_reply.started": "2022-05-27T13:01:38.250411Z"
    },
    "tags": []
   },
   "outputs": [
    {
     "data": {
      "text/plain": [
       "array(['Choroid plexus', 'Doublets/BadCells', 'Excitatory neuron', 'Glia',\n",
       "       'Immune', 'Inhibitory neuron', 'Vascular'], dtype=object)"
      ]
     },
     "execution_count": 73,
     "metadata": {},
     "output_type": "execute_result"
    }
   ],
   "source": [
    "class_attr = ann['Class'].to_numpy()\n",
    "ix = np.isin(class_attr, ['Oligodendrocyte lineage', 'Astroependymal', 'Schwann cell'])\n",
    "class_attr[ix] = 'Glia'\n",
    "np.unique(class_attr)"
   ]
  },
  {
   "cell_type": "code",
   "execution_count": 75,
   "id": "f5d21286-7c1d-4537-a593-188b5a4c2cf8",
   "metadata": {
    "execution": {
     "iopub.execute_input": "2022-05-27T13:06:11.509270Z",
     "iopub.status.busy": "2022-05-27T13:06:11.508842Z",
     "iopub.status.idle": "2022-05-27T13:06:16.477096Z",
     "shell.execute_reply": "2022-05-27T13:06:16.476092Z",
     "shell.execute_reply.started": "2022-05-27T13:06:11.509222Z"
    },
    "tags": []
   },
   "outputs": [],
   "source": [
    "with loompy.connect('/proj/human_adult/20220222/harmony/paris_top/data/Pool.loom', 'r') as ds:\n",
    "    class_attr = class_attr[ds.ca.Clusters]\n",
    "    class_dict = dict(\n",
    "        zip(ds.ca.CellID, class_attr)\n",
    "    )"
   ]
  },
  {
   "cell_type": "code",
   "execution_count": 84,
   "id": "286e3181-929a-44bc-8e3f-03bef8907241",
   "metadata": {
    "execution": {
     "iopub.execute_input": "2022-05-27T13:12:51.951460Z",
     "iopub.status.busy": "2022-05-27T13:12:51.951062Z",
     "iopub.status.idle": "2022-05-27T13:13:30.870713Z",
     "shell.execute_reply": "2022-05-27T13:13:30.869452Z",
     "shell.execute_reply.started": "2022-05-27T13:12:51.951414Z"
    },
    "tags": []
   },
   "outputs": [],
   "source": [
    "unique_classes = ['Glia', 'Excitatory neuron', 'Inhibitory neuron', 'Immune', 'Vascular', 'Choroid plexus']\n",
    "\n",
    "with loompy.connect('/proj/human_adult/20220222/harmony/paris_top/data/Pool.loom', 'r') as ds:\n",
    "    \n",
    "    bars = []\n",
    "    for c in unique_classes:\n",
    "        bars.append([(class_attr[ds.ca.Roi == 'Human ' + reg] == c).sum() for reg in regions])"
   ]
  },
  {
   "cell_type": "code",
   "execution_count": 85,
   "id": "e163831f-fd89-4b0f-a8ea-aaa575f44377",
   "metadata": {
    "execution": {
     "iopub.execute_input": "2022-05-27T13:13:30.872820Z",
     "iopub.status.busy": "2022-05-27T13:13:30.872661Z",
     "iopub.status.idle": "2022-05-27T13:13:30.877526Z",
     "shell.execute_reply": "2022-05-27T13:13:30.876861Z",
     "shell.execute_reply.started": "2022-05-27T13:13:30.872798Z"
    },
    "tags": []
   },
   "outputs": [],
   "source": [
    "totals = np.vstack(bars).sum(axis=0)"
   ]
  },
  {
   "cell_type": "code",
   "execution_count": 91,
   "id": "8f86d2f0-5603-4ee4-98b7-3946a0f6c173",
   "metadata": {
    "execution": {
     "iopub.execute_input": "2022-05-27T13:17:37.581048Z",
     "iopub.status.busy": "2022-05-27T13:17:37.580534Z",
     "iopub.status.idle": "2022-05-27T13:17:39.405401Z",
     "shell.execute_reply": "2022-05-27T13:17:39.404958Z",
     "shell.execute_reply.started": "2022-05-27T13:17:37.581000Z"
    },
    "tags": []
   },
   "outputs": [
    {
     "data": {
      "image/png": "[encoded data removed]",
      "text/plain": [
       "<Figure size 1224x288 with 1 Axes>"
      ]
     },
     "metadata": {},
     "output_type": "display_data"
    }
   ],
   "source": [
    "plt.figure(None, (8.5, 2), dpi=144)\n",
    "ax = plt.subplot(111)\n",
    "\n",
    "color_list = ['#0072b2', '#009e73', '#d55e00', '#cc79a7', '#f0e442', '#56b4e9']\n",
    "\n",
    "n = len(regions)\n",
    "bottom = np.zeros(n)\n",
    "for i, b in enumerate(bars):\n",
    "    props = b / totals\n",
    "    plt.bar(range(n), props, bottom=bottom, color=color_list[i])\n",
    "    bottom += props\n",
    "\n",
    "plt.xticks([])\n",
    "plt.yticks([])\n",
    "\n",
    "# axes\n",
    "plt.margins(0.02, 0.02)\n",
    "plt.axis('off')\n",
    "plt.tight_layout()\n",
    "plt.savefig('/home/kimberly/figures/classes_per_sample.pdf', dpi=300)"
   ]
  },
  {
   "cell_type": "markdown",
   "id": "22a5ee9c-1752-4431-9623-4379023e7307",
   "metadata": {},
   "source": [
    "### Summary of donor differences"
   ]
  },
  {
   "cell_type": "code",
   "execution_count": 139,
   "id": "54267bc9-4de6-45ba-bebf-c25e2308cf80",
   "metadata": {
    "execution": {
     "iopub.execute_input": "2022-05-27T14:25:34.898477Z",
     "iopub.status.busy": "2022-05-27T14:25:34.898064Z",
     "iopub.status.idle": "2022-05-27T14:25:42.379772Z",
     "shell.execute_reply": "2022-05-27T14:25:42.379056Z",
     "shell.execute_reply.started": "2022-05-27T14:25:34.898431Z"
    },
    "tags": []
   },
   "outputs": [],
   "source": [
    "with loompy.connect('/proj/human_adult/20220222/harmony/paris_top/data/Pool.loom', 'r') as ds:\n",
    "    unique_donors = np.unique(ds.ca.Donor)\n",
    "    donor_dists = [ds.ca.TotalUMI[ds.ca.Donor == d] for d in unique_donors]       "
   ]
  },
  {
   "cell_type": "code",
   "execution_count": 151,
   "id": "d06d023d-f3a6-4b56-8abb-67191ffb253d",
   "metadata": {
    "execution": {
     "iopub.execute_input": "2022-05-27T14:45:44.979479Z",
     "iopub.status.busy": "2022-05-27T14:45:44.979029Z",
     "iopub.status.idle": "2022-05-27T14:45:45.567850Z",
     "shell.execute_reply": "2022-05-27T14:45:45.567022Z",
     "shell.execute_reply.started": "2022-05-27T14:45:44.979430Z"
    },
    "tags": []
   },
   "outputs": [
    {
     "data": {
      "image/png": "[encoded data removed]",
      "text/plain": [
       "<Figure size 180x54 with 1 Axes>"
      ]
     },
     "metadata": {
      "needs_background": "light"
     },
     "output_type": "display_data"
    }
   ],
   "source": [
    "with loompy.connect('/proj/human_adult/20220222/harmony/paris_top/data/Pool.loom', 'r') as ds:\n",
    "    plt.figure(None, (2.5, 0.75))\n",
    "    ax = plt.subplot(111)\n",
    "    plt.boxplot(donor_dists, vert=False, showfliers=False)\n",
    "    plt.yticks(range(1, 5), unique_donors, fontsize=6)\n",
    "    plt.xticks(fontsize=6)\n",
    "    plt.xlabel('Number of UMIs per cell', fontsize=7)\n",
    "    plt.ylabel('Donor', fontsize=7)\n",
    "    plt.margins(0.02, 0.02)\n",
    "    ax.spines['right'].set_visible(False)\n",
    "    ax.spines['top'].set_visible(False)\n",
    "    plt.savefig('/home/kimberly/figures/boxplot_umis_per_donor.pdf', dpi=300)   "
   ]
  },
  {
   "cell_type": "code",
   "execution_count": null,
   "id": "f3150b11-f394-4e44-86a4-4592c71ef919",
   "metadata": {},
   "outputs": [],
   "source": []
  }
 ],
 "metadata": {
  "kernelspec": {
   "display_name": "Python 3 (ipykernel)",
   "language": "python",
   "name": "python3"
  },
  "language_info": {
   "codemirror_mode": {
    "name": "ipython",
    "version": 3
   },
   "file_extension": ".py",
   "mimetype": "text/x-python",
   "name": "python",
   "nbconvert_exporter": "python",
   "pygments_lexer": "ipython3",
   "version": "3.9.12"
  }
 },
 "nbformat": 4,
 "nbformat_minor": 5
}
