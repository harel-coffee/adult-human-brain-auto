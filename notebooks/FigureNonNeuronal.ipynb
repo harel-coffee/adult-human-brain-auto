{
 "cells": [
  {
   "cell_type": "code",
   "execution_count": 1,
   "id": "e9ce6e0d-056d-4357-9aea-aee2788f2daa",
   "metadata": {
    "execution": {
     "iopub.execute_input": "2022-08-21T13:47:02.686024Z",
     "iopub.status.busy": "2022-08-21T13:47:02.685534Z",
     "iopub.status.idle": "2022-08-21T13:47:27.348944Z",
     "shell.execute_reply": "2022-08-21T13:47:27.347727Z",
     "shell.execute_reply.started": "2022-08-21T13:47:02.685898Z"
    },
    "tags": []
   },
   "outputs": [],
   "source": [
    "import loompy\n",
    "import numpy as np\n",
    "import pandas as pd\n",
    "import matplotlib\n",
    "import matplotlib.pyplot as plt\n",
    "import os\n",
    "from cytograph.pipeline import load_config, PunchcardDeck\n",
    "from cytograph.plotting import colorize\n",
    "from cytograph.embedding import art_of_tsne\n",
    "from cytograph.visualization import scatterm\n",
    "from cytograph.species import Species\n",
    "from urllib.request import urlretrieve\n",
    "from sknetwork.hierarchy import cut_straight\n",
    "import scipy.cluster.hierarchy as hc\n",
    "import numpy_groupies as npg\n",
    "from sklearn.preprocessing import StandardScaler\n",
    "from scipy.spatial.distance import pdist\n",
    "from scipy import sparse\n",
    "import seaborn\n",
    "import matplotlib as mpl\n",
    "import gget\n",
    "import pickle\n",
    "import networkx as nx\n",
    "\n",
    "# suppress INFO\n",
    "import logging\n",
    "logger = logging.getLogger()\n",
    "logger.setLevel(logging.CRITICAL)\n",
    "\n",
    "# make font changeable in Illustrator\n",
    "mpl.rcParams['pdf.fonttype'] = 42\n",
    "\n",
    "# save figure with no pad\n",
    "mpl.rcParams['savefig.pad_inches'] = 0\n",
    "mpl.rcParams['savefig.bbox'] = 'tight'\n",
    "\n",
    "# set axes width\n",
    "mpl.rcParams['axes.linewidth'] = 0.2\n",
    "mpl.rcParams['xtick.minor.pad'] = 0\n",
    "mpl.rcParams['xtick.major.pad'] = 0\n",
    "mpl.rcParams['ytick.minor.pad'] = 0\n",
    "mpl.rcParams['ytick.major.pad'] = 0\n",
    "mpl.rcParams['xtick.minor.width'] = 0.2\n",
    "mpl.rcParams['xtick.major.width'] = 0.2\n",
    "mpl.rcParams['ytick.minor.width'] = 0.2\n",
    "mpl.rcParams['ytick.major.width'] = 0.2\n",
    "\n",
    "# use colorblind seaborn style\n",
    "plt.style.use('seaborn-colorblind')\n",
    "\n",
    "# colors for ROI Groups\n",
    "color_dict = dict(\n",
    "    zip(\n",
    "        [\"Cerebral cortex\", \"Hippocampus\", \"Cerebral nuclei\", \"Hypothalamus\", \"Thalamus\", \"Midbrain\", \"Pons\", \"Cerebellum\", \"Myelencephalon\", \"Spinal cord\"],\n",
    "        ['#4682f0', '#8eb7d1', '#89d8e0', '#f28e37', '#e7bc1f', '#43ad78', '#a7236e', '#ed5f8e', '#955ba5', '#eec2a4']\n",
    "    )\n",
    ")"
   ]
  },
  {
   "cell_type": "code",
   "execution_count": 2,
   "id": "a24696db-91a4-40c8-a139-620129c9b445",
   "metadata": {
    "execution": {
     "iopub.execute_input": "2022-08-21T13:47:27.351582Z",
     "iopub.status.busy": "2022-08-21T13:47:27.351130Z",
     "iopub.status.idle": "2022-08-21T13:47:27.361295Z",
     "shell.execute_reply": "2022-08-21T13:47:27.360337Z",
     "shell.execute_reply.started": "2022-08-21T13:47:27.351520Z"
    },
    "tags": []
   },
   "outputs": [],
   "source": [
    "folder = '/proj/human_adult/20220222/harmony/paris_top_bug/data/'\n",
    "figure_folder = '/home/kimberly/figures/figure3'"
   ]
  },
  {
   "cell_type": "code",
   "execution_count": 3,
   "id": "28978e32-a513-46f3-acc1-891377012708",
   "metadata": {
    "execution": {
     "iopub.execute_input": "2022-08-21T13:47:27.366439Z",
     "iopub.status.busy": "2022-08-21T13:47:27.366132Z",
     "iopub.status.idle": "2022-08-21T13:47:28.210730Z",
     "shell.execute_reply": "2022-08-21T13:47:28.210024Z",
     "shell.execute_reply.started": "2022-08-21T13:47:27.366400Z"
    },
    "tags": []
   },
   "outputs": [],
   "source": [
    "# get ncRNA gene names\n",
    "with loompy.connect(f'{folder}/Pool.loom', 'r') as ds:\n",
    "    accession_dict = dict(zip(\n",
    "        pd.Series(ds.ra.Accession).str.split('.').str[0],\n",
    "        np.arange(ds.shape[0])\n",
    "    ))\n",
    "    ncRNA_genes = np.loadtxt('ncRNA.txt', dtype='object')\n",
    "    accession_ix = np.array([accession_dict.get(x, '') for x in ncRNA_genes])\n",
    "    accession_ix = accession_ix[accession_ix != ''].astype('int')\n",
    "    ncRNA_genes = ds.ra.Gene[accession_ix]"
   ]
  },
  {
   "cell_type": "code",
   "execution_count": 4,
   "id": "86c3d02e-fefb-4cb8-ab0c-0847a5fb6059",
   "metadata": {
    "execution": {
     "iopub.execute_input": "2022-08-21T13:47:28.212216Z",
     "iopub.status.busy": "2022-08-21T13:47:28.212043Z",
     "iopub.status.idle": "2022-08-21T13:47:28.231426Z",
     "shell.execute_reply": "2022-08-21T13:47:28.230728Z",
     "shell.execute_reply.started": "2022-08-21T13:47:28.212192Z"
    },
    "tags": []
   },
   "outputs": [
    {
     "data": {
      "text/html": [
       "<svg  width=\"550\" height=\"55\"><rect x=\"0\" y=\"0\" width=\"55\" height=\"55\" style=\"fill:#0173b2;stroke-width:2;stroke:rgb(255,255,255)\"/><rect x=\"55\" y=\"0\" width=\"55\" height=\"55\" style=\"fill:#de8f05;stroke-width:2;stroke:rgb(255,255,255)\"/><rect x=\"110\" y=\"0\" width=\"55\" height=\"55\" style=\"fill:#029e73;stroke-width:2;stroke:rgb(255,255,255)\"/><rect x=\"165\" y=\"0\" width=\"55\" height=\"55\" style=\"fill:#d55e00;stroke-width:2;stroke:rgb(255,255,255)\"/><rect x=\"220\" y=\"0\" width=\"55\" height=\"55\" style=\"fill:#cc78bc;stroke-width:2;stroke:rgb(255,255,255)\"/><rect x=\"275\" y=\"0\" width=\"55\" height=\"55\" style=\"fill:#ca9161;stroke-width:2;stroke:rgb(255,255,255)\"/><rect x=\"330\" y=\"0\" width=\"55\" height=\"55\" style=\"fill:#fbafe4;stroke-width:2;stroke:rgb(255,255,255)\"/><rect x=\"385\" y=\"0\" width=\"55\" height=\"55\" style=\"fill:#949494;stroke-width:2;stroke:rgb(255,255,255)\"/><rect x=\"440\" y=\"0\" width=\"55\" height=\"55\" style=\"fill:#ece133;stroke-width:2;stroke:rgb(255,255,255)\"/><rect x=\"495\" y=\"0\" width=\"55\" height=\"55\" style=\"fill:#56b4e9;stroke-width:2;stroke:rgb(255,255,255)\"/></svg>"
      ],
      "text/plain": [
       "[(0.00392156862745098, 0.45098039215686275, 0.6980392156862745),\n",
       " (0.8705882352941177, 0.5607843137254902, 0.0196078431372549),\n",
       " (0.00784313725490196, 0.6196078431372549, 0.45098039215686275),\n",
       " (0.8352941176470589, 0.3686274509803922, 0.0),\n",
       " (0.8, 0.47058823529411764, 0.7372549019607844),\n",
       " (0.792156862745098, 0.5686274509803921, 0.3803921568627451),\n",
       " (0.984313725490196, 0.6862745098039216, 0.8941176470588236),\n",
       " (0.5803921568627451, 0.5803921568627451, 0.5803921568627451),\n",
       " (0.9254901960784314, 0.8823529411764706, 0.2),\n",
       " (0.33725490196078434, 0.7058823529411765, 0.9137254901960784)]"
      ]
     },
     "execution_count": 4,
     "metadata": {},
     "output_type": "execute_result"
    }
   ],
   "source": [
    "cbl = seaborn.color_palette('colorblind')\n",
    "cbl"
   ]
  },
  {
   "cell_type": "code",
   "execution_count": 5,
   "id": "375da664-09e7-4128-8c38-6df6ddd12086",
   "metadata": {
    "execution": {
     "iopub.execute_input": "2022-08-21T13:47:28.234451Z",
     "iopub.status.busy": "2022-08-21T13:47:28.234269Z",
     "iopub.status.idle": "2022-08-21T13:47:28.300106Z",
     "shell.execute_reply": "2022-08-21T13:47:28.299280Z",
     "shell.execute_reply.started": "2022-08-21T13:47:28.234427Z"
    },
    "tags": []
   },
   "outputs": [],
   "source": [
    "def go_plot(table, n_top=25, filename=None):\n",
    "    \n",
    "    top = table.sort_values('adj_p_val')[:n_top][::-1]\n",
    "    \n",
    "    plt.figure(None, (1, 3))\n",
    "    \n",
    "    ax = plt.subplot(122)\n",
    "    plt.barh(range(n_top), top['adj_p_val'].to_numpy(), color='grey', alpha=0.3)\n",
    "    plt.vlines(0.05, -0.5, n_top-0.5, linestyles='dashed', colors=cbl[2])\n",
    "    ax.spines.right.set_visible(False)\n",
    "    ax.spines.top.set_visible(False)\n",
    "    plt.yticks([])\n",
    "    plt.xticks(np.round(np.linspace(0, top['adj_p_val'].max(), 4), 2), rotation=90, fontsize=7)\n",
    "    plt.margins(y=0.01)\n",
    "    \n",
    "    ax = plt.subplot(121)\n",
    "    n_genes = top['overlapping_genes'].str.len().to_numpy()\n",
    "    plt.barh(range(n_top), -n_genes, alpha=0.3, color='grey')\n",
    "    ax.spines.left.set_visible(False)\n",
    "    ax.spines.top.set_visible(False)\n",
    "    plt.yticks(range(n_top), top['path_name'].str.split('(').str[0].str.strip(), fontsize=9)\n",
    "    plt.xticks(\n",
    "        -np.linspace(0, n_genes.max(), 4),\n",
    "        np.round(np.linspace(0, n_genes.max(), 4), 2),\n",
    "        rotation=90,\n",
    "        fontsize=7\n",
    "    )\n",
    "    plt.margins(y=0.01)\n",
    "    if filename:\n",
    "        plt.savefig(filename, dpi=300)\n",
    "    else:\n",
    "        plt.show()"
   ]
  },
  {
   "cell_type": "code",
   "execution_count": 6,
   "id": "32fc783d-ce37-465e-8481-02bdd5b3f38f",
   "metadata": {
    "execution": {
     "iopub.execute_input": "2022-08-21T13:47:28.303120Z",
     "iopub.status.busy": "2022-08-21T13:47:28.302640Z",
     "iopub.status.idle": "2022-08-21T13:47:28.346154Z",
     "shell.execute_reply": "2022-08-21T13:47:28.345167Z",
     "shell.execute_reply.started": "2022-08-21T13:47:28.303078Z"
    },
    "tags": []
   },
   "outputs": [],
   "source": [
    "def skeletonize(nn, groups, labels, min_pct=1):\n",
    "    \n",
    "    row = []\n",
    "    col = []\n",
    "    weight = []\n",
    "    \n",
    "    for i, c1 in enumerate(groups):\n",
    "        n_c1 = (labels == c1).sum()\n",
    "        rc1 = labels[nn.row] == c1\n",
    "        cc1 = labels[nn.col] == c1\n",
    "        c1_internal = (rc1 & cc1).sum()\n",
    "        for j, c2 in enumerate(groups):\n",
    "            n_c2 = (labels == c2).sum()\n",
    "            rc2 = labels[nn.row] == c2\n",
    "            cc2 = labels[nn.col] == c2\n",
    "            c2_internal = (rc2 & cc2).sum()\n",
    "            c1c2_between = ((rc1 & cc2) | (rc2 & cc1)).sum()\n",
    "            f = n_c1 / (n_c1 + n_c2)\n",
    "            expected_fraction = (2 * f - 2 * f**2)\n",
    "            observed_fraction = c1c2_between / (c1_internal + c2_internal + c1c2_between)\n",
    "            # if observed_fraction > expected_fraction * (self.min_pct / 100):\n",
    "            if observed_fraction > (min_pct / 100):\n",
    "                row.append(i)\n",
    "                col.append(j)\n",
    "                weight.append(observed_fraction / expected_fraction)\n",
    "                \n",
    "    # make matrix of edges            \n",
    "    n_clusters = len(groups)\n",
    "    overlap = sparse.coo_matrix((weight, (row, col)), shape=(n_clusters, n_clusters)).A\n",
    "    \n",
    "    # remove edges within a group\n",
    "    np.fill_diagonal(overlap, 0)\n",
    "    \n",
    "    return overlap"
   ]
  },
  {
   "cell_type": "code",
   "execution_count": 7,
   "id": "2c6120d9-27cb-4a3b-81c8-25ed9f42903e",
   "metadata": {
    "execution": {
     "iopub.execute_input": "2022-08-21T13:47:28.348451Z",
     "iopub.status.busy": "2022-08-21T13:47:28.348102Z",
     "iopub.status.idle": "2022-08-21T13:47:28.381904Z",
     "shell.execute_reply": "2022-08-21T13:47:28.380988Z",
     "shell.execute_reply.started": "2022-08-21T13:47:28.348407Z"
    },
    "tags": []
   },
   "outputs": [],
   "source": [
    "def clean_roi(roi_attr):\n",
    "    return pd.Series(roi_attr).replace({r'[^\\x00-\\x7F]+':''}, regex=True).to_numpy()"
   ]
  },
  {
   "cell_type": "markdown",
   "id": "35f313e4-f190-4c62-98a8-2dde63f65e5a",
   "metadata": {},
   "source": [
    "# Fibroblasts"
   ]
  },
  {
   "cell_type": "code",
   "execution_count": 11,
   "id": "21ca2938-75b3-4f90-ab0f-ae24f305ff36",
   "metadata": {
    "execution": {
     "iopub.execute_input": "2022-08-21T13:51:43.862717Z",
     "iopub.status.busy": "2022-08-21T13:51:43.862317Z",
     "iopub.status.idle": "2022-08-21T13:51:44.154930Z",
     "shell.execute_reply": "2022-08-21T13:51:44.154367Z",
     "shell.execute_reply.started": "2022-08-21T13:51:43.862668Z"
    },
    "tags": []
   },
   "outputs": [
    {
     "name": "stdout",
     "output_type": "stream",
     "text": [
      "9156\n"
     ]
    },
    {
     "data": {
      "image/png": "[encoded data removed]",
      "text/plain": [
       "<Figure size 144x144 with 1 Axes>"
      ]
     },
     "metadata": {
      "needs_background": "light"
     },
     "output_type": "display_data"
    }
   ],
   "source": [
    "plt.figure(None, (2, 2))\n",
    "ax = plt.subplot(111)\n",
    "\n",
    "with loompy.connect(folder + 'harmony_B_H_Clean.loom', 'r') as ds:\n",
    "\n",
    "    print(ds.shape[1])\n",
    "\n",
    "    labels = ds.ca.Clusters\n",
    "    \n",
    "    cells = np.random.permutation(ds.shape[1])\n",
    "    plt.scatter(ds.ca.UMAP[cells, 0], ds.ca.UMAP[cells, 1], c=colorize(labels[cells]), s=1, lw=0, rasterized=True)\n",
    "    \n",
    "    ax.set_aspect('equal')\n",
    "    plt.margins(0.01, 0.01)\n",
    "    plt.axis('off')\n",
    "    \n",
    "    #plt.savefig(f'{figure_folder}/astrocyte_clusters.pdf', dpi=300)"
   ]
  },
  {
   "cell_type": "markdown",
   "id": "e27de140-9f29-4ee4-a8d5-4ebcaf083838",
   "metadata": {},
   "source": [
    "# Vascular"
   ]
  },
  {
   "cell_type": "code",
   "execution_count": 12,
   "id": "c1837805-6127-4ad6-ab97-d9f7cf76813b",
   "metadata": {
    "execution": {
     "iopub.execute_input": "2022-08-21T13:51:48.998999Z",
     "iopub.status.busy": "2022-08-21T13:51:48.997869Z",
     "iopub.status.idle": "2022-08-21T13:51:49.280836Z",
     "shell.execute_reply": "2022-08-21T13:51:49.279804Z",
     "shell.execute_reply.started": "2022-08-21T13:51:48.998932Z"
    },
    "tags": []
   },
   "outputs": [
    {
     "name": "stdout",
     "output_type": "stream",
     "text": [
      "9932\n"
     ]
    },
    {
     "data": {
      "image/png": "[encoded data removed]",
      "text/plain": [
       "<Figure size 144x144 with 1 Axes>"
      ]
     },
     "metadata": {
      "needs_background": "light"
     },
     "output_type": "display_data"
    }
   ],
   "source": [
    "plt.figure(None, (2, 2))\n",
    "ax = plt.subplot(111)\n",
    "\n",
    "with loompy.connect(folder + 'harmony_B_E_Clean.loom', 'r') as ds:\n",
    "\n",
    "    print(ds.shape[1])\n",
    "\n",
    "    labels = ds.ca.Clusters\n",
    "    \n",
    "    cells = np.random.permutation(ds.shape[1])\n",
    "    plt.scatter(ds.ca.UMAP[cells, 0], ds.ca.UMAP[cells, 1], c=colorize(labels[cells]), s=1, lw=0, rasterized=True)\n",
    "    \n",
    "    ax.set_aspect('equal')\n",
    "    plt.margins(0.01, 0.01)\n",
    "    plt.axis('off')\n",
    "    \n",
    "    #plt.savefig(f'{figure_folder}/astrocyte_clusters.pdf', dpi=300)"
   ]
  },
  {
   "cell_type": "markdown",
   "id": "86590070-debc-43d5-ba79-3c6fd3c0eb65",
   "metadata": {},
   "source": [
    "# Resident macrophages"
   ]
  },
  {
   "cell_type": "code",
   "execution_count": 13,
   "id": "4dfebea9-647e-468c-9a61-1cf3d288a97d",
   "metadata": {
    "execution": {
     "iopub.execute_input": "2022-08-21T13:51:54.307055Z",
     "iopub.status.busy": "2022-08-21T13:51:54.306677Z",
     "iopub.status.idle": "2022-08-21T13:51:54.937765Z",
     "shell.execute_reply": "2022-08-21T13:51:54.936918Z",
     "shell.execute_reply.started": "2022-08-21T13:51:54.307008Z"
    },
    "tags": []
   },
   "outputs": [
    {
     "name": "stdout",
     "output_type": "stream",
     "text": [
      "91838\n"
     ]
    },
    {
     "data": {
      "image/png": "[encoded data removed]",
      "text/plain": [
       "<Figure size 144x144 with 1 Axes>"
      ]
     },
     "metadata": {
      "needs_background": "light"
     },
     "output_type": "display_data"
    }
   ],
   "source": [
    "plt.figure(None, (2, 2))\n",
    "ax = plt.subplot(111)\n",
    "\n",
    "with loompy.connect(folder + 'harmony_B_B_Clean.loom', 'r') as ds:\n",
    "\n",
    "    print(ds.shape[1])\n",
    "\n",
    "    labels = ds.ca.Clusters\n",
    "    \n",
    "    cells = np.random.permutation(ds.shape[1])\n",
    "    plt.scatter(ds.ca.UMAP[cells, 0], ds.ca.UMAP[cells, 1], c=colorize(labels[cells]), s=1, lw=0, rasterized=True)\n",
    "    \n",
    "    ax.set_aspect('equal')\n",
    "    plt.margins(0.01, 0.01)\n",
    "    plt.axis('off')\n",
    "    \n",
    "    #plt.savefig(f'{figure_folder}/astrocyte_clusters.pdf', dpi=300)"
   ]
  },
  {
   "cell_type": "code",
   "execution_count": null,
   "id": "19769d47-9c26-45f1-9612-cc444bf6a68e",
   "metadata": {},
   "outputs": [],
   "source": []
  }
 ],
 "metadata": {
  "kernelspec": {
   "display_name": "Python 3 (ipykernel)",
   "language": "python",
   "name": "python3"
  },
  "language_info": {
   "codemirror_mode": {
    "name": "ipython",
    "version": 3
   },
   "file_extension": ".py",
   "mimetype": "text/x-python",
   "name": "python",
   "nbconvert_exporter": "python",
   "pygments_lexer": "ipython3",
   "version": "3.9.12"
  }
 },
 "nbformat": 4,
 "nbformat_minor": 5
}
